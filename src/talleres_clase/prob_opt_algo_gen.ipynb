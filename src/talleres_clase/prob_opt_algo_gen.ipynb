{
  "cells": [
    {
      "cell_type": "markdown",
      "metadata": {
        "id": "7Zf5bv3X9hoc"
      },
      "source": [
        "# Problema de optimización usando Algoritmos Genéticos\n",
        "<a href=\"https://colab.research.google.com/github/milocortes/mod_04_concentracion/blob/main/src/talleres_clase/prob_opt_algo_gen.ipynb\" target=\"_parent\"><img src=\"https://colab.research.google.com/assets/colab-badge.svg\" alt=\"Open In Colab\"/></a>\n",
        "\n",
        "## Función Himmelblau\n",
        "\n",
        "* Función: $f(x,y) = (x^2 +y -11)^2 + (x+y^2-7)^2$\n",
        "* NO Var: 2\n",
        "* Precisión: 6\n",
        "* Espacio de búsqueda : $-5<x,y < 5$, $-∞ < z < 1000$\n",
        "\n",
        "# Parámetros del algoritmo\n",
        "\n",
        "* Método de selección: ruleta\n",
        "* Cruza: En un punto\n",
        "* Mutación: en un bit\n",
        "* Número de generación: 30\n",
        "* Tamaño de la población (número de individuos): 50\n",
        "* Probabilidad de cruza: $P_c = 0.85$\n",
        "* Probabilidad de mutación : 0.000000001"
      ]
    },
    {
      "cell_type": "markdown",
      "metadata": {
        "id": "crB6Koyz9hom"
      },
      "source": [
        "## Generación de la población\n",
        "\n",
        "### Codificación de las variables\n",
        "\n",
        "$$\n",
        "L = [\\log_2((l_{sup} - l_{inf})\\times 10^{\\text{precision}})]\n",
        "$$\n"
      ]
    },
    {
      "cell_type": "code",
      "execution_count": 1,
      "metadata": {
        "colab": {
          "base_uri": "https://localhost:8080/"
        },
        "id": "lLLz5Qrh9hon",
        "outputId": "39834947-0e6f-45d3-f1a8-5631c4da5987"
      },
      "outputs": [
        {
          "output_type": "execute_result",
          "data": {
            "text/plain": [
              "(24, 24)"
            ]
          },
          "metadata": {},
          "execution_count": 1
        }
      ],
      "source": [
        "from math import log2, ceil\n",
        "\n",
        "\n",
        "def length_variable(l_sup: int, l_inf: int , precision: int):\n",
        "    \"\"\"\n",
        "    Nombre de la función : length_variable\n",
        "    \n",
        "    Descripción: Función que obtiene la cantidad de bits para representar la variable\n",
        "    \n",
        "    argumentos:\n",
        "        * l_sup: límite superior de la función\n",
        "    \"\"\"\n",
        "    return ceil(log2((l_sup - l_inf)*10**precision))\n",
        "\n",
        "x_l_sup = 5\n",
        "y_l_sup = 5\n",
        "\n",
        "x_l_inf = -5\n",
        "y_l_inf = -5\n",
        "\n",
        "precision = 6\n",
        "\n",
        "L_x = length_variable(x_l_sup, x_l_inf, precision)\n",
        "L_y = length_variable(y_l_sup, y_l_inf, precision)\n",
        "L_x, L_y"
      ]
    },
    {
      "cell_type": "code",
      "execution_count": 4,
      "metadata": {
        "colab": {
          "base_uri": "https://localhost:8080/"
        },
        "id": "j4gI0oJy9hor",
        "outputId": "73403dc8-41d4-4603-b212-489e868365d0"
      },
      "outputs": [
        {
          "output_type": "execute_result",
          "data": {
            "text/plain": [
              "[0, 0, 1, 1, 0, 0, 0, 0, 0, 1, 0, 0, 0, 0, 0, 0, 1, 0, 1, 1, 1, 0, 1, 1]"
            ]
          },
          "metadata": {},
          "execution_count": 4
        }
      ],
      "source": [
        "# Función que genera poblacipob aleatori de m individuos de tamaño L\n",
        "import random\n",
        "\n",
        "m = 30 \n",
        "\n",
        "def rand_population_binary(m,L):\n",
        "    return [[random.randint(0,1)  for i in range(L)] for j in range(m)]\n",
        "\n",
        "rand_population_binary(m,L_x)[0]"
      ]
    },
    {
      "cell_type": "code",
      "execution_count": 5,
      "metadata": {
        "colab": {
          "base_uri": "https://localhost:8080/"
        },
        "id": "ag-hxZ3W9hot",
        "outputId": "2dca0b4f-7d91-44e1-c8fd-177ed3b97bfd"
      },
      "outputs": [
        {
          "output_type": "execute_result",
          "data": {
            "text/plain": [
              "[0, 1, 1, 0, 1, 1, 0, 0, 0, 1, 0, 0, 0, 1, 1, 1, 0, 1, 0, 0, 1, 1, 1, 0]"
            ]
          },
          "metadata": {},
          "execution_count": 5
        }
      ],
      "source": [
        "rand_population_binary(m,L_y)[0]"
      ]
    },
    {
      "cell_type": "code",
      "execution_count": 45,
      "metadata": {
        "colab": {
          "base_uri": "https://localhost:8080/"
        },
        "id": "CB3TSHKV9hou",
        "outputId": "82dd1d60-3755-41c4-816c-da98a77fef09"
      },
      "outputs": [
        {
          "output_type": "execute_result",
          "data": {
            "text/plain": [
              "[[[1, 1, 1, 1, 1, 1, 1, 1, 1, 1, 0, 0, 1, 0, 1, 1, 0, 1, 1, 0, 0, 0, 0, 1],\n",
              "  [0, 1, 0, 0, 0, 1, 1, 0, 0, 1, 0, 1, 0, 1, 0, 0, 1, 1, 0, 0, 1, 1, 0, 1],\n",
              "  [1, 0, 1, 1, 1, 0, 1, 0, 1, 0, 1, 1, 0, 1, 1, 0, 0, 1, 1, 0, 0, 0, 0, 1],\n",
              "  [0, 1, 0, 1, 0, 1, 0, 0, 0, 1, 1, 1, 0, 0, 0, 0, 0, 1, 1, 0, 1, 0, 0, 1],\n",
              "  [1, 0, 0, 0, 0, 1, 0, 0, 1, 0, 0, 1, 0, 0, 0, 0, 1, 0, 0, 0, 1, 0, 1, 0],\n",
              "  [1, 0, 0, 0, 0, 1, 1, 1, 0, 0, 1, 0, 1, 0, 0, 1, 0, 0, 0, 0, 1, 1, 1, 0],\n",
              "  [0, 1, 1, 0, 0, 0, 1, 1, 1, 1, 0, 0, 0, 0, 0, 1, 0, 0, 0, 0, 1, 0, 1, 0],\n",
              "  [0, 1, 1, 1, 1, 0, 0, 0, 0, 1, 1, 1, 1, 1, 1, 0, 0, 1, 0, 0, 1, 1, 0, 1],\n",
              "  [1, 1, 1, 1, 1, 0, 1, 1, 0, 0, 0, 0, 1, 1, 0, 0, 1, 0, 0, 1, 1, 1, 1, 0],\n",
              "  [0, 0, 0, 0, 1, 1, 1, 0, 0, 0, 1, 1, 1, 0, 1, 0, 1, 0, 0, 1, 0, 0, 0, 1],\n",
              "  [0, 0, 0, 1, 0, 0, 0, 0, 1, 1, 0, 1, 0, 0, 0, 0, 1, 1, 1, 1, 0, 0, 1, 0],\n",
              "  [1, 0, 0, 0, 0, 1, 0, 0, 1, 0, 0, 0, 1, 1, 0, 0, 1, 1, 1, 0, 1, 1, 0, 1],\n",
              "  [1, 1, 0, 0, 0, 0, 1, 0, 0, 0, 1, 0, 1, 0, 1, 1, 1, 1, 1, 0, 1, 1, 0, 0],\n",
              "  [0, 0, 0, 0, 0, 0, 1, 1, 1, 1, 1, 0, 0, 1, 0, 0, 1, 1, 0, 0, 0, 0, 0, 1],\n",
              "  [0, 1, 1, 0, 1, 1, 0, 1, 1, 0, 1, 0, 1, 1, 0, 1, 0, 1, 1, 0, 1, 1, 1, 1],\n",
              "  [0, 1, 1, 0, 1, 1, 0, 0, 0, 0, 1, 0, 0, 0, 0, 0, 1, 1, 1, 1, 1, 0, 1, 1],\n",
              "  [1, 0, 1, 1, 1, 1, 1, 1, 1, 0, 0, 1, 1, 1, 1, 1, 1, 1, 1, 0, 0, 0, 1, 1],\n",
              "  [0, 1, 1, 0, 1, 0, 1, 0, 1, 1, 0, 1, 0, 0, 1, 0, 1, 1, 1, 0, 0, 0, 1, 1],\n",
              "  [0, 1, 0, 1, 1, 0, 1, 1, 0, 0, 1, 1, 0, 1, 0, 1, 1, 0, 1, 1, 1, 1, 0, 1],\n",
              "  [1, 1, 0, 0, 0, 0, 0, 1, 1, 1, 0, 0, 0, 0, 1, 0, 0, 0, 0, 0, 0, 1, 0, 0],\n",
              "  [1, 1, 1, 1, 0, 0, 0, 1, 1, 0, 1, 0, 1, 0, 1, 0, 1, 1, 0, 1, 1, 0, 0, 1],\n",
              "  [1, 1, 1, 1, 0, 1, 1, 1, 1, 1, 1, 1, 1, 1, 0, 1, 1, 1, 1, 0, 1, 1, 1, 1],\n",
              "  [1, 0, 1, 1, 0, 1, 0, 0, 1, 0, 1, 1, 1, 0, 0, 1, 0, 1, 1, 1, 0, 0, 0, 0],\n",
              "  [0, 0, 0, 0, 0, 0, 0, 1, 0, 1, 1, 0, 0, 1, 1, 0, 1, 1, 0, 1, 0, 0, 0, 0],\n",
              "  [0, 0, 0, 1, 1, 0, 0, 0, 0, 1, 1, 0, 1, 0, 1, 0, 1, 1, 1, 0, 0, 0, 0, 0],\n",
              "  [0, 1, 1, 0, 1, 0, 0, 1, 1, 1, 1, 1, 0, 1, 1, 1, 1, 0, 1, 0, 1, 1, 0, 1],\n",
              "  [0, 1, 0, 0, 0, 0, 1, 1, 1, 0, 1, 0, 0, 0, 0, 0, 0, 1, 1, 1, 1, 1, 0, 0],\n",
              "  [1, 0, 0, 0, 0, 0, 1, 0, 1, 1, 1, 1, 1, 0, 1, 0, 1, 0, 0, 0, 0, 0, 0, 0],\n",
              "  [0, 0, 1, 0, 0, 0, 0, 0, 0, 0, 0, 0, 1, 1, 0, 1, 0, 1, 1, 1, 1, 0, 0, 0],\n",
              "  [1, 1, 1, 0, 0, 1, 0, 1, 1, 0, 1, 0, 0, 0, 0, 1, 0, 1, 0, 0, 0, 1, 0, 1]],\n",
              " [[1, 1, 0, 0, 1, 0, 1, 1, 0, 1, 1, 0, 0, 1, 1, 1, 1, 1, 0, 0, 0, 1, 1, 0],\n",
              "  [1, 1, 0, 0, 0, 1, 0, 1, 1, 1, 0, 1, 0, 1, 0, 0, 1, 0, 1, 1, 1, 0, 1, 1],\n",
              "  [0, 1, 0, 0, 1, 0, 0, 1, 0, 1, 1, 0, 1, 1, 1, 0, 0, 0, 1, 0, 0, 1, 1, 0],\n",
              "  [1, 1, 0, 0, 1, 1, 0, 0, 1, 1, 0, 0, 1, 0, 0, 1, 1, 1, 0, 1, 1, 1, 1, 0],\n",
              "  [0, 0, 0, 0, 1, 1, 1, 0, 0, 0, 1, 1, 0, 0, 1, 1, 0, 0, 0, 0, 0, 0, 1, 0],\n",
              "  [1, 0, 1, 1, 1, 1, 0, 1, 0, 0, 0, 0, 0, 1, 0, 0, 1, 0, 0, 0, 0, 0, 0, 1],\n",
              "  [0, 0, 1, 1, 0, 1, 0, 0, 1, 0, 0, 0, 1, 0, 1, 0, 0, 1, 0, 1, 1, 1, 0, 0],\n",
              "  [0, 0, 0, 0, 0, 1, 1, 0, 1, 0, 1, 0, 0, 0, 1, 0, 0, 1, 0, 0, 0, 1, 1, 1],\n",
              "  [0, 0, 1, 1, 1, 1, 0, 0, 1, 0, 1, 1, 1, 1, 0, 1, 1, 0, 0, 1, 0, 0, 0, 1],\n",
              "  [0, 0, 1, 0, 1, 0, 1, 1, 0, 0, 0, 1, 1, 1, 1, 1, 0, 0, 0, 1, 0, 1, 1, 0],\n",
              "  [0, 0, 0, 1, 0, 1, 0, 1, 1, 0, 1, 0, 0, 0, 1, 1, 0, 0, 0, 0, 1, 0, 1, 1],\n",
              "  [1, 0, 1, 0, 0, 0, 1, 0, 1, 1, 0, 1, 1, 0, 0, 1, 1, 1, 0, 0, 1, 0, 0, 0],\n",
              "  [0, 1, 0, 0, 0, 1, 1, 0, 1, 0, 1, 1, 0, 1, 1, 1, 1, 0, 1, 0, 0, 0, 1, 1],\n",
              "  [1, 1, 1, 1, 1, 0, 1, 0, 0, 0, 1, 1, 1, 0, 0, 1, 0, 0, 0, 0, 0, 0, 0, 1],\n",
              "  [0, 1, 0, 1, 1, 0, 1, 0, 0, 1, 0, 0, 0, 1, 1, 1, 1, 0, 0, 0, 0, 1, 0, 1],\n",
              "  [0, 1, 1, 0, 0, 1, 0, 0, 1, 1, 1, 1, 0, 1, 0, 1, 0, 0, 1, 0, 1, 0, 0, 0],\n",
              "  [1, 0, 0, 0, 1, 1, 1, 1, 1, 1, 0, 0, 1, 0, 1, 0, 0, 0, 0, 0, 0, 1, 1, 0],\n",
              "  [1, 0, 0, 1, 0, 0, 0, 1, 1, 1, 1, 0, 0, 0, 0, 0, 1, 0, 1, 0, 0, 0, 1, 1],\n",
              "  [0, 1, 0, 1, 0, 1, 1, 1, 1, 1, 1, 0, 0, 1, 1, 0, 0, 1, 0, 1, 0, 1, 0, 1],\n",
              "  [0, 0, 0, 1, 1, 1, 1, 0, 0, 0, 1, 1, 0, 1, 0, 1, 0, 1, 1, 1, 0, 0, 1, 0],\n",
              "  [1, 0, 1, 0, 0, 0, 1, 0, 0, 0, 0, 1, 1, 0, 1, 0, 1, 0, 0, 0, 0, 0, 1, 1],\n",
              "  [1, 0, 1, 0, 1, 0, 1, 0, 1, 0, 1, 1, 1, 1, 1, 1, 0, 0, 1, 1, 1, 0, 0, 0],\n",
              "  [1, 0, 0, 1, 0, 0, 0, 0, 1, 1, 1, 0, 0, 1, 1, 0, 1, 0, 0, 0, 0, 1, 1, 0],\n",
              "  [0, 1, 0, 0, 1, 0, 0, 0, 0, 0, 1, 0, 0, 1, 0, 1, 0, 0, 0, 0, 0, 0, 1, 0],\n",
              "  [1, 0, 0, 1, 1, 1, 1, 1, 1, 0, 0, 1, 0, 0, 1, 1, 0, 1, 0, 1, 0, 0, 0, 1],\n",
              "  [1, 0, 0, 0, 0, 1, 1, 1, 1, 0, 1, 0, 0, 0, 1, 1, 0, 1, 0, 0, 0, 0, 0, 1],\n",
              "  [0, 0, 1, 0, 1, 1, 0, 0, 0, 0, 0, 0, 0, 1, 1, 0, 0, 1, 1, 0, 1, 0, 0, 1],\n",
              "  [0, 0, 0, 0, 0, 1, 0, 1, 0, 0, 0, 1, 1, 0, 1, 0, 0, 0, 0, 1, 0, 0, 1, 0],\n",
              "  [1, 1, 0, 0, 0, 0, 1, 1, 0, 0, 1, 1, 1, 0, 0, 1, 0, 1, 1, 1, 1, 1, 0, 0],\n",
              "  [1, 0, 1, 1, 0, 1, 1, 0, 1, 1, 0, 0, 0, 1, 0, 1, 0, 0, 0, 1, 0, 1, 1, 1]]]"
            ]
          },
          "metadata": {},
          "execution_count": 45
        }
      ],
      "source": [
        "# GENERAMOS LA POBLACIÓN INICIAL\n",
        "\n",
        "import numpy as np\n",
        "\n",
        "n_variables = 2\n",
        "l_sup_vec = [x_l_sup, y_l_sup]\n",
        "l_inf_vec = [x_l_inf, y_l_inf]\n",
        "\n",
        "dimension_vec = []\n",
        "genotipo = []\n",
        "L_cromosoma = 0\n",
        "\n",
        "# Generamos la poblacion inicial\n",
        "\n",
        "for i in range(n_variables):\n",
        "    L_var = length_variable(l_sup_vec[i], l_inf_vec[i], precision)\n",
        "    L_cromosoma +=  L_var\n",
        "    \n",
        "    dimension_vec.append(L_var)\n",
        "    genotipo.append(rand_population_binary(m, L_var))\n",
        "\n",
        "genotipo"
      ]
    },
    {
      "cell_type": "markdown",
      "metadata": {
        "id": "xEL3tYdh9hov"
      },
      "source": [
        "# Evaluación de población inicial"
      ]
    },
    {
      "cell_type": "code",
      "execution_count": 9,
      "metadata": {
        "id": "hU4ebnLm9how"
      },
      "outputs": [],
      "source": [
        "# Función que obtiene las potencias base 2 de un vector de bits (un individui)\n",
        "\n",
        "def to_decimal(dimension,individuo):\n",
        "    return sum([2**(i) for i in range(dimension-1,-1,-1) ]* np.array(individuo))"
      ]
    },
    {
      "cell_type": "code",
      "source": [],
      "metadata": {
        "id": "xOST2YuOE4Lm"
      },
      "execution_count": null,
      "outputs": []
    },
    {
      "cell_type": "code",
      "execution_count": 10,
      "metadata": {
        "colab": {
          "base_uri": "https://localhost:8080/"
        },
        "id": "VzF-slGi9hox",
        "outputId": "e06526ce-f553-477c-bddb-9de70fd170ee"
      },
      "outputs": [
        {
          "output_type": "execute_result",
          "data": {
            "text/plain": [
              "4151461"
            ]
          },
          "metadata": {},
          "execution_count": 10
        }
      ],
      "source": [
        "dimension = 24\n",
        "individuo_inicial = genotipo[0][4]\n",
        "\n",
        "to_decimal(dimension, individuo_inicial)"
      ]
    },
    {
      "cell_type": "code",
      "source": [
        "## la variable j representa cada bit de un individuo (secuencia de bits)\n",
        "[(2**i)*j for i,j in zip(range(4-1,-1,-1),[1,0,1,0])]"
      ],
      "metadata": {
        "colab": {
          "base_uri": "https://localhost:8080/"
        },
        "id": "J5Ech1KuCl4H",
        "outputId": "cfe8db58-2eb2-4812-b69e-8cf67d7ec8e5"
      },
      "execution_count": 23,
      "outputs": [
        {
          "output_type": "execute_result",
          "data": {
            "text/plain": [
              "[8, 0, 2, 0]"
            ]
          },
          "metadata": {},
          "execution_count": 23
        }
      ]
    },
    {
      "cell_type": "code",
      "source": [
        "[2**i for i in range(4-1, -1,-1)] * np.array([1,0,1,0])"
      ],
      "metadata": {
        "colab": {
          "base_uri": "https://localhost:8080/"
        },
        "id": "VY7SjtLjErrm",
        "outputId": "17345548-9d66-4627-a751-0eb484c832c8"
      },
      "execution_count": 25,
      "outputs": [
        {
          "output_type": "execute_result",
          "data": {
            "text/plain": [
              "array([8, 0, 2, 0])"
            ]
          },
          "metadata": {},
          "execution_count": 25
        }
      ]
    },
    {
      "cell_type": "code",
      "execution_count": 26,
      "metadata": {
        "id": "Syqv6oVM9hoz"
      },
      "outputs": [],
      "source": [
        "# Función que decodifica el vector a un valor real\n",
        "\n",
        "def binary2real(i_sup, i_inf, dimension, individuo):\n",
        "    return i_inf+ (to_decimal(dimension, individuo)* ((i_sup-i_inf)/(2**len(individuo)-1)))"
      ]
    },
    {
      "cell_type": "code",
      "execution_count": 29,
      "metadata": {
        "colab": {
          "base_uri": "https://localhost:8080/"
        },
        "id": "CBNZYFs89ho0",
        "outputId": "c605d0a7-ef52-4e8d-ca78-77fc1b5c8845"
      },
      "outputs": [
        {
          "output_type": "stream",
          "name": "stdout",
          "text": [
            "4.498438805248666\n",
            "-0.26912541801484924\n",
            "0.46891662293175607\n",
            "-2.2116915709788545\n",
            "2.4426107074386305\n",
            "-3.075847511043996\n",
            "-1.1840996851980496\n",
            "4.212160659561196\n",
            "0.07014006794333838\n",
            "-0.10897309237558161\n",
            "0.05360037407877272\n",
            "-2.913392061793331\n",
            "-3.840396931195076\n",
            "-3.0647354164561875\n",
            "4.279038267078297\n",
            "-1.9988868831924727\n",
            "-3.2620566047463777\n",
            "0.5173805664408544\n",
            "-1.291990655183235\n",
            "2.2969959555265875\n",
            "1.6975412784541417\n",
            "1.9990555643472412\n",
            "0.8161905894393078\n",
            "-0.22832186390887887\n",
            "0.8550122889883687\n",
            "-2.1406511748225197\n",
            "4.2033946039315815\n",
            "-4.2008095503335925\n",
            "2.025190414499665\n",
            "-3.044195654642323\n"
          ]
        }
      ],
      "source": [
        "for i in genotipo[1]:\n",
        "    print(binary2real(5, -5, 24, i))"
      ]
    },
    {
      "cell_type": "code",
      "source": [
        "def binary2real(i_sup, i_inf, dimension, poblacion):\n",
        "    return [i_inf+ (to_decimal(dimension, individuo)* ((i_sup-i_inf)/(2**len(individuo)-1))) for individuo in poblacion]"
      ],
      "metadata": {
        "id": "qdd-J3LJFfM7"
      },
      "execution_count": 33,
      "outputs": []
    },
    {
      "cell_type": "code",
      "source": [
        "binary2real(5, -5, 24,genotipo[0])"
      ],
      "metadata": {
        "colab": {
          "base_uri": "https://localhost:8080/"
        },
        "id": "ITiXif8ZF3DI",
        "outputId": "62d1badb-34d3-4bf8-f81f-4c40e5224016"
      },
      "execution_count": 36,
      "outputs": [
        {
          "output_type": "execute_result",
          "data": {
            "text/plain": [
              "[-4.669150094339257,\n",
              " -2.0055351856669894,\n",
              " -0.8143666872004678,\n",
              " -2.276953296479779,\n",
              " -2.525536270471589,\n",
              " -1.535677107314891,\n",
              " 2.10029286743956,\n",
              " -0.6203595173573202,\n",
              " -2.8455458787408996,\n",
              " -4.130929060633722,\n",
              " -1.6860560587677988,\n",
              " -2.983713625890829,\n",
              " -3.4686790984081686,\n",
              " 4.572345588943099,\n",
              " -2.199786734568282,\n",
              " -3.104051238539889,\n",
              " -1.5881041638913254,\n",
              " 3.3222990228115936,\n",
              " 4.289362388215208,\n",
              " -0.6021562577579171,\n",
              " 0.44094475751786,\n",
              " -1.5657869914643165,\n",
              " 3.6525409610593886,\n",
              " 4.9383419715369925,\n",
              " -1.520252616420544,\n",
              " 0.9962335822721471,\n",
              " 2.3666362384936948,\n",
              " -2.3749934062357787,\n",
              " 0.17493636458732897,\n",
              " -2.4605970061181193]"
            ]
          },
          "metadata": {},
          "execution_count": 36
        }
      ]
    },
    {
      "cell_type": "code",
      "source": [
        "# Generamos la lista que contiene el fenotipo, es decir, realizamos la decodificación\n",
        "## Bits ---> reales\n",
        "\n",
        "feno = [[] for i in range(m)]\n",
        "\n",
        "for i in range(n_variables):\n",
        "  # Obtenemos los limites para cada variable\n",
        "  i_sup = l_sup_vec[i]\n",
        "  i_inf = l_inf_vec[i]\n",
        "\n",
        "  pob = genotipo[i]\n",
        "\n",
        "  dim = dimension_vec[i]\n",
        "\n",
        "  b2r = binary2real(i_sup, i_inf, dim, pob)\n",
        "  \n",
        "  for j in range(m):\n",
        "    feno[j].append(b2r[j])"
      ],
      "metadata": {
        "id": "y5-gnAajGhCP"
      },
      "execution_count": 57,
      "outputs": []
    },
    {
      "cell_type": "code",
      "source": [
        "feno"
      ],
      "metadata": {
        "colab": {
          "base_uri": "https://localhost:8080/"
        },
        "id": "cc5aGZ0-HQCG",
        "outputId": "d655d6a0-6614-4502-d44a-fbf04ca06d93"
      },
      "execution_count": 59,
      "outputs": [
        {
          "output_type": "execute_result",
          "data": {
            "text/plain": [
              "[[4.991971253870204, 2.9455225435210792],\n",
              " [-2.2526852639129915, 2.727773054109398],\n",
              " [2.2934542473229316, -2.131630011298061],\n",
              " [-1.7015973747728692, 2.999552965137539],\n",
              " [0.17830521931083343, -4.445341792425024],\n",
              " [0.27970226286067135, 2.383500181645166],\n",
              " [-1.1033568443868664, -2.9476379124902437],\n",
              " [-0.2932277496592848, -4.740863426975216],\n",
              " [4.806613314545949, -2.6273243205144596],\n",
              " [-4.444188442479875, -3.3155690619688665],\n",
              " [-4.343117436356391, -4.154809066939895],\n",
              " [0.17775387631379846, 1.3613561607215496],\n",
              " [2.5848273983494874, -2.2376040957930146],\n",
              " [-4.847907414907659, 4.774323688407165],\n",
              " [-0.7157233784033883, -1.4734617753900157],\n",
              " [-0.7762173280845479, -1.0563418898786239],\n",
              " [2.4853347233137324, 0.616764164970169],\n",
              " [-0.827195991706609, 0.6983396827184967],\n",
              " [-1.437112476653604, -1.5664164165506613],\n",
              " [2.5686673860947717, -3.8199698221665512],\n",
              " [4.440132346161148, 1.3321707446676934],\n",
              " [4.687185268830374, 1.6698030632616918],\n",
              " [2.059545937749501, 0.6601754224404948],\n",
              " [-4.9452495542317365, -2.1818528879793218],\n",
              " [-4.046192112338073, 1.2334165712247236],\n",
              " [-0.8606449282553745, 0.2983483849971522],\n",
              " [-2.358324370284341, -3.2802717852754464],\n",
              " [0.11634857155970124, -4.800709474129049],\n",
              " [-3.7479447572198366, 2.6259593740677465],\n",
              " [3.969920812244464, 2.1394489490657422]]"
            ]
          },
          "metadata": {},
          "execution_count": 59
        }
      ]
    },
    {
      "cell_type": "code",
      "source": [
        "def f_himmelblau(X):\n",
        "  x,y = X\n",
        "  return (x**2 + y -11)**2 + (x + y**2 -7)**2"
      ],
      "metadata": {
        "id": "4wMpNMM0OBb9"
      },
      "execution_count": 60,
      "outputs": []
    },
    {
      "cell_type": "code",
      "source": [
        "objv = [f_himmelblau(f) for f in feno]\n",
        "objv"
      ],
      "metadata": {
        "colab": {
          "base_uri": "https://localhost:8080/"
        },
        "id": "2ztt9e5ROaGT",
        "outputId": "b043a5f2-dd28-4900-a5ce-ebe5c6eb8311"
      },
      "execution_count": 68,
      "outputs": [
        {
          "output_type": "execute_result",
          "data": {
            "text/plain": [
              "[328.9015436551873,\n",
              " 13.508000788210824,\n",
              " 61.99009457191005,\n",
              " 26.14861258902506,\n",
              " 405.0047608196211,\n",
              " 73.98198199813015,\n",
              " 162.40152442407097,\n",
              " 475.58537245947304,\n",
              " 111.97738895349343,\n",
              " 29.74542660196467,\n",
              " 48.78658623863281,\n",
              " 116.98587875431804,\n",
              " 43.33480317120448,\n",
              " 418.2990804973696,\n",
              " 173.81331270002426,\n",
              " 175.55057231117001,\n",
              " 34.7855219546027,\n",
              " 146.36303925626376,\n",
              " 146.07530720245325,\n",
              " 170.8425354184748,\n",
              " 101.55764523866166,\n",
              " 159.9832142422052,\n",
              " 57.47838757646295,\n",
              " 178.71584929149273,\n",
              " 134.3504332792021,\n",
              " 159.61864610294958,\n",
              " 77.97880904313226,\n",
              " 510.4825570842903,\n",
              " 47.02356565690665,\n",
              " 49.99985106741518]"
            ]
          },
          "metadata": {},
          "execution_count": 68
        }
      ]
    },
    {
      "cell_type": "code",
      "source": [],
      "metadata": {
        "id": "xcN1-VbmPJcC"
      },
      "execution_count": null,
      "outputs": []
    },
    {
      "cell_type": "markdown",
      "source": [
        "## Selección\n",
        "\n",
        "En la selección vamos a escoger a los individuos con las mejores condiciones para contribuir a la generación de la siguiente generación.\n",
        "\n",
        "Para esto, tenemos que calcular la aptitud de cada individuo.\n",
        "\n",
        "### Aptitud"
      ],
      "metadata": {
        "id": "hwg12GyDPKeb"
      }
    },
    {
      "cell_type": "code",
      "source": [
        "## Generación de la aptitud con normalización\n",
        "## Como estamos en un problema de minimización, para obtener la aptitud de los valores de la función objetivo,\n",
        "## la propuesta es usar la inversa de estos valores, pues la inversa de un valor muy pequeño, es superior a la inversa de un\n",
        "## valor grande, de manera que en el primer caso, la aptitud será mayor\n",
        "val_min = min(objv)\n",
        "val_max = max(objv)\n",
        "\n",
        "objv_norm = [ (((i-val_min)/(val_max-val_min))+0.0001)**-1 for i in objv]\n",
        "\n",
        "for i,j in zip(objv, objv_norm):\n",
        "  print(f\"{i}--{j}\")"
      ],
      "metadata": {
        "colab": {
          "base_uri": "https://localhost:8080/"
        },
        "id": "H43Y6d_bQC0W",
        "outputId": "7c4124f0-a669-4965-c1b7-8cea8b38f619"
      },
      "execution_count": 73,
      "outputs": [
        {
          "output_type": "stream",
          "name": "stdout",
          "text": [
            "328.9015436551873--1.5754801269091072\n",
            "13.508000788210824--10000.0\n",
            "61.99009457191005--10.240185734033753\n",
            "26.14861258902506--39.16173721642972\n",
            "405.0047608196211--1.2692607653397792\n",
            "73.98198199813015--8.211241736351454\n",
            "162.40152442407097--3.336671200301277\n",
            "475.58537245947304--1.0754067214349203\n",
            "111.97738895349343--5.044449541567698\n",
            "29.74542660196467--30.513341618178366\n",
            "48.78658623863281--14.067328367407002\n",
            "116.98587875431804--4.80040756553576\n",
            "43.33480317120448--16.634296486551904\n",
            "418.2990804973696--1.2275802842206989\n",
            "173.81331270002426--3.0992144134225\n",
            "175.55057231117001--3.065997900009199\n",
            "34.7855219546027--23.302361414485002\n",
            "146.36303925626376--3.73932917320159\n",
            "146.07530720245325--3.7474421966562192\n",
            "170.8425354184748--3.157715037328848\n",
            "101.55764523866166--5.6410700187282465\n",
            "159.9832142422052--3.391741057618602\n",
            "57.47838757646295--11.28972297151278\n",
            "178.71584929149273--3.007273001740228\n",
            "134.3504332792021--4.110892549544088\n",
            "159.61864610294958--3.4002010865346235\n",
            "77.97880904313226--7.702583090801925\n",
            "510.4825570842903--0.9999000099990001\n",
            "47.02356565690665--14.806216960083514\n",
            "49.99985106741518--13.600260172404479\n"
          ]
        }
      ]
    },
    {
      "cell_type": "code",
      "source": [
        "## Generacion de aptitud escalada\n",
        "\n",
        "def scaled_fitness(new_max, new_min, original_fitness):\n",
        "  val_max = max(original_fitness)\n",
        "  val_min = min(original_fitness)\n",
        "\n",
        "  y = np.array([new_min, new_max])\n",
        "  X = np.matrix([[val_min, 1],[1, val_max]])\n",
        "\n",
        "  a,b = np.ravel(X.I @ y)\n",
        "\n",
        "  return [()]\n",
        "scaled_fitness(100,50, objv_norm)"
      ],
      "metadata": {
        "colab": {
          "base_uri": "https://localhost:8080/"
        },
        "id": "du6Ntw4jSFFL",
        "outputId": "e33bc25b-5b31-444f-e86f-b928dd070fee"
      },
      "execution_count": 80,
      "outputs": [
        {
          "output_type": "execute_result",
          "data": {
            "text/plain": [
              "(49.99999949994999, 0.005000000050005002)"
            ]
          },
          "metadata": {},
          "execution_count": 80
        }
      ]
    }
  ],
  "metadata": {
    "kernelspec": {
      "display_name": "Python 3",
      "language": "python",
      "name": "python3"
    },
    "language_info": {
      "codemirror_mode": {
        "name": "ipython",
        "version": 3
      },
      "file_extension": ".py",
      "mimetype": "text/x-python",
      "name": "python",
      "nbconvert_exporter": "python",
      "pygments_lexer": "ipython3",
      "version": "3.7.6"
    },
    "colab": {
      "provenance": []
    }
  },
  "nbformat": 4,
  "nbformat_minor": 0
}