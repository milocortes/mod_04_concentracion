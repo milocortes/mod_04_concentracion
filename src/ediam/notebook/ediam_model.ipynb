{
 "cells": [
  {
   "cell_type": "markdown",
   "metadata": {},
   "source": [
    "# EDIAM, Molina (2016)\n",
    "<a href=\"https://colab.research.google.com/github/milocortes/mod_04_concentracion/blob/main/src/ediam/notebook/ediam_model.ipynb\" target=\"_parent\"><img src=\"https://colab.research.google.com/assets/colab-badge.svg\" alt=\"Open In Colab\"/></a>\n"
   ]
  },
  {
   "cell_type": "markdown",
   "metadata": {
    "slideshow": {
     "slide_type": "slide"
    }
   },
   "source": [
    "## Introducción"
   ]
  },
  {
   "cell_type": "markdown",
   "metadata": {
    "slideshow": {
     "slide_type": "subslide"
    }
   },
   "source": [
    "### Objetivo del modelo\n",
    "\n",
    "* Proporcionar un análisis cuantitativo exploratorio de distintos esquemas de cooperación asociado con la arquitectura del GCF.\n",
    "* Se enfoca principalmente en la evaluación tecnológica de países avanzados y emergentes y en el efecto que las intervenciones de política tienen en la mitigación del cambio climático y del crecimiento económico.\n",
    "\n",
    "$$\n",
    "\\texttt{Estructura del modelo = Teoría del crecimiento endógeno + Cambio tecnológico dirigido}\n",
    "$$\n",
    "\n",
    "### Innovaciones de modelo\n",
    "\n",
    "* La intervención pública se modela como una perturbación que se activa durante un periodo limitado sujeta a una restricción presupuestaria y restricciones específicas del régimen de política.\n",
    "* Proporciona una descripción detallada de las propiedades tecnológicas de sistemas tecnológicos competitivos.\n",
    "\n"
   ]
  },
  {
   "cell_type": "markdown",
   "metadata": {
    "slideshow": {
     "slide_type": "slide"
    }
   },
   "source": [
    "## Modelo"
   ]
  },
  {
   "cell_type": "markdown",
   "metadata": {
    "slideshow": {
     "slide_type": "subslide"
    }
   },
   "source": [
    "El modelo proporciona una representación abstracta y simplificada en un contexto multipaís en el que se da lugar el cambio tecnológico dirigido. EL modelo tiene como fin el análisis exploratorio cuantitativo de la difusión de largo plazo de tecnologías de energías renovables (SET) y análizar el desempeño de distintas arquitecturas de cooperación.\n",
    "\n",
    "El modelo supone dos regiones:\n",
    "* Una tecnológicamente avanzada \n",
    "* Una emergente  tecnológicamente atrasada"
   ]
  },
  {
   "cell_type": "markdown",
   "metadata": {
    "slideshow": {
     "slide_type": "subslide"
    }
   },
   "source": [
    "La producción de energía en ambas regiones se realiza mediante una combinación de dos ofertas de energía primaria:\n",
    "* Energía fósil, $Y_{fe}$\n",
    "* Energía sostenible, $Y_{se}$"
   ]
  },
  {
   "cell_type": "markdown",
   "metadata": {
    "slideshow": {
     "slide_type": "subslide"
    }
   },
   "source": [
    "El uso de energía fósil en ambas regiones contribuye a la degradación del ambiente de la siguiente manera:\n",
    "\n",
    "$\n",
    "\\begin{align}\n",
    "\\frac{\\partial S}{\\partial t} = - \\xi  \\big( Y(t)_{fe}^{A} + Y(t)_{fe}^{E}\\big) + \\delta S(t)\n",
    "\\end{align}\n",
    "$\n",
    "\n",
    "donde:\n",
    "* $S$ es la calidad de ambiente.\n",
    "* $\\xi$ es el daño marginal al ambiente por unidad de energia fósil usada en ambas regiones.\n",
    "* $\\delta$ es la tasa promedio de regeneración ambiental"
   ]
  },
  {
   "cell_type": "markdown",
   "metadata": {
    "slideshow": {
     "slide_type": "subslide"
    }
   },
   "source": [
    "La emisión de $CO_2$ es función de la calidad del ambiente:\n",
    "\n",
    "$\n",
    "\\begin{align}\n",
    "CO_2(t)= CO_{2|6.0°C}- S(t)\n",
    "\\end{align}\n",
    "$\n",
    "\n",
    "Donde $CO_{2|6.0°C}$ es el nivel de emisiones de $C0_2$ que llevarían al incremento del $6.0°C$ "
   ]
  },
  {
   "cell_type": "markdown",
   "metadata": {
    "slideshow": {
     "slide_type": "subslide"
    }
   },
   "source": [
    "La temperatura evoluciona de la siguiente forma:\n",
    "\n",
    "$\n",
    "\\begin{align}\n",
    "\\Delta T(t)= \\beta \\; ln \\dfrac{CO_2(t)}{CO_{2,0}}\n",
    "\\end{align}\n",
    "$\n",
    "\n",
    "Donde $CO_{2,0}$ es el nivel inicial de concentración en la atmósfera de $C0_2$ al inicio de siglo XX."
   ]
  },
  {
   "cell_type": "markdown",
   "metadata": {
    "slideshow": {
     "slide_type": "subslide"
    }
   },
   "source": [
    "### Comportamiento de los agentes\n",
    "\n",
    "En ambas regiones, la combinación para la producción de energía es el resultado de la iteracción de la decisión de los diferentes agentes."
   ]
  },
  {
   "cell_type": "markdown",
   "metadata": {
    "slideshow": {
     "slide_type": "subslide"
    }
   },
   "source": [
    "#### Productores de energías secundarias\n",
    "* La energía secundaria se produce en un mercado competitivo.\n",
    "* Los productores de energía secundaria usan dos tipos de energía primaria para su producción: $Y_{fe}$ y $Y_{se}$.\n"
   ]
  },
  {
   "cell_type": "markdown",
   "metadata": {
    "slideshow": {
     "slide_type": "subslide"
    }
   },
   "source": [
    "El problema de los productores de energía secundaria es el siguiente:\n",
    "\n",
    "\\begin{align}\n",
    "\\max_{Y_{}^k(t),Y_{r}^k(t),Y_{f}^k(t)} p^k(t) Y^k(t)-p_{se}^k(t)Y_{se}^k(t)-p_{fe}^k(t)Y_{fe}^k(t)\\\\\n",
    "\\begin{aligned}\n",
    "\\text{subject to} \\; \\; \\; \n",
    "Y^k(t)= \\big( Y_{se}^k(t)^{\\frac{\\varepsilon-1}{\\varepsilon}} + Y_{fe}^k(t)^{\\frac{\\varepsilon-1}{\\varepsilon}} \\big)^{\\frac{\\varepsilon}{\\varepsilon-1}}\\\\\n",
    "Y^k, Y_{se}^{k},Y_{fe}^{k},p^k,p_{se}^k,p_{fe}^k \\geq 0\\\\\n",
    "\\varepsilon > 0\n",
    "\\end{aligned}\n",
    "\\end{align}\n",
    "donde $\\varepsilon$ es la elasticidad de sustitución entre los sectores de energía fósil y renovable y $k$ denota cada región, $k \\in [A,E]$.$Y^k, Y_{se}^{k},Y_{fe}^{k}$ denotan el nivel de producción de energía secundaria, energía primaria sostenible y energía primaria fósil en la región $k$ al tiempo $t$."
   ]
  },
  {
   "cell_type": "markdown",
   "metadata": {
    "slideshow": {
     "slide_type": "subslide"
    }
   },
   "source": [
    "#### Productores de energía primaria\n",
    "Dos tipos de oferentes de energía primaria:\n",
    "* Energía fósil.\n",
    "* Energía sostenible."
   ]
  },
  {
   "cell_type": "markdown",
   "metadata": {
    "slideshow": {
     "slide_type": "subslide"
    }
   },
   "source": [
    "Estos agentes usan trabajo y un número infinito de tecnologías específicas al sector para la producción de energía de acuerdo a la siguiente función de producción agregada (Acemoglu,2012):\n",
    "$\n",
    "\\begin{align}\n",
    "Y_{j}^k= L^{{k^{1-\\alpha}}}_{j} \\int_{0}^{1}A^{{k^{1-\\alpha}}}_{j,i} x^{{k^{\\alpha}}}_{j,i} di\n",
    "\\end{align}\n",
    "$\n",
    "$L^{{k^{1-\\alpha}}}_{j}$ es el trabajo usado en el sector $j \\in$ {energía renovable, energía fósil}.\n",
    "$A^{{k^{1-\\alpha}}}_{j,i}$ es la productividad de la tecnología del tipo $i$ en el sector $j$.\n",
    "$x^{{k^{\\alpha}}}_{j,i}$ es el número de unidades de tecnología del tipo $i$ en el sector $j$ usadas en la produción, para la región $k$."
   ]
  },
  {
   "cell_type": "markdown",
   "metadata": {
    "slideshow": {
     "slide_type": "subslide"
    }
   },
   "source": [
    "La asignación relativa de trabajo es un $\\textit{proxy}$ para el tamaño de mercado de la energía relativo a cada sector de energía primaria:\n",
    "\n",
    "$$\n",
    "\\begin{align}\n",
    "L_{se}^k+L_{fe}^k= L^k(t)\n",
    "\\end{align}\n",
    "$$\n",
    "\n",
    "Siguiendo a Aghion y Howitt(1988), el stock de trabajo crece a una tasa constante y exógena $r^k$, de manera qué:\n",
    "$$\n",
    "\\begin{align}\n",
    "L^k(t)= L_{0}^k e^{r^{k}t}\n",
    "\\end{align}\n",
    "$$\n",
    "\n",
    "Inicialmente, se asume que la oferta laboral en la región emergente es mayor que la de la región avanzada:\n",
    "$$\n",
    "\\begin{align}\n",
    "L_0^E > L_0^A\n",
    "\\end{align}\n",
    "$$"
   ]
  },
  {
   "cell_type": "markdown",
   "metadata": {
    "slideshow": {
     "slide_type": "subslide"
    }
   },
   "source": [
    "Los productores de energía primaria enfrentan el siguiente problema:\n",
    "$$\n",
    "\\begin{align}\n",
    "\\max_{L_j,Y_i} \\; \\; \\;p^k_j Y^k_j-w^k L_j^k- \\int_0^1 p_{j,i}^k x_{j,i}^k \\; di\\\\\n",
    "\\end{align}\n",
    "$$\n",
    "<center>s.t</center>\n",
    "$$\n",
    "\\begin{aligned}\n",
    "L_{se}^k+L_{fe}^k= L^k(t)\\\\\n",
    "Y_{j}^k= L^{{k^{1-\\alpha}}}_{j} \\int_{0}^{1}A^{{k^{1-\\alpha}}}_{j,i} x^{{k^{\\alpha}}}_{j,i} di\n",
    "\\end{aligned}\n",
    "$$"
   ]
  },
  {
   "cell_type": "markdown",
   "metadata": {
    "slideshow": {
     "slide_type": "subslide"
    }
   },
   "source": [
    "#### Productores y distribuidores de tecnología\n",
    "\n",
    "Para ambos sectores, la tecnología es suministrada por empresas que operan en mercados monopolísticos. Una vez que los emprendedores de tecnología desarrollan exitosamente una nueva tecnología, estos obtienen derechos monopolísticos de su invención por un periodo fijo de tiempo. "
   ]
  },
  {
   "cell_type": "markdown",
   "metadata": {
    "slideshow": {
     "slide_type": "subslide"
    }
   },
   "source": [
    "Estos agentes deciden el número de unidades de tecnología que necesitan para poder maximizar sus ganancias:\n",
    "\n",
    "$\n",
    "\\begin{align}\n",
    "\\max_{p_{j,i},x_{j,i}} \\pi_{j,i}^m = \\big( p_{j,i} - \\psi_{j,i} \\big)x_{j,i}\n",
    "\\end{align}\n",
    "$\n",
    "\n",
    "donde $\\psi_{j,i}$ son los costos unitarios de la producción para la tecnología tipo $i$ en el sector $j$."
   ]
  },
  {
   "cell_type": "markdown",
   "metadata": {
    "slideshow": {
     "slide_type": "subslide"
    }
   },
   "source": [
    "##### Emprendedores tecnológicos\n",
    "\n",
    "Los emprendedores tecnológicos trabajan en mejorar sus tecnologías usadas para producir energía primaria al realizar inversión en R&D. Estos deciden en qué sector enfocarse al comparar las ganancias esperadas de invertir R&D en el desarrollo y mejoramiento de tecnologías en ambos sectores. Los emprendedores trabajan en uno u en otro sector, pero no en los dos:\n",
    "\n",
    "$\n",
    "\\begin{align}\n",
    "\\theta_{se}+\\theta_{fe}=1\n",
    "\\end{align}\n",
    "$\n",
    "\n",
    "donde $\\theta_{fe}$ y $\\theta_{se}$ son los share de emprendedores trabajando en R&D en el sector $\\textit{fe}$ y $\\textit{se}$, respectivamente.\n"
   ]
  },
  {
   "cell_type": "markdown",
   "metadata": {
    "slideshow": {
     "slide_type": "subslide"
    }
   },
   "source": [
    "Cada emprendedor decide primero si trabaja en el sector $\\theta_{fe}$ o $\\theta_{se}$, y posteriormente se enfoca en una innovación tecnológica única en el sector elegido.\n",
    "\n",
    "Por lo tanto, no más de un emprendedor trabaja en la misma innovación tecnológica (Acemoglu, 2012)."
   ]
  },
  {
   "cell_type": "markdown",
   "metadata": {
    "slideshow": {
     "slide_type": "subslide"
    }
   },
   "source": [
    "Este proceso de decisión se modela usando un modelo lógico nominal. La utilidad de trabajar en el sector $j$ del emprendedor $z$ está dada por:\n",
    "\n",
    "$\n",
    "\\begin{align}\n",
    "    U_{j,z}(t)=V(x_j)+ \\epsilon_{j,z}\n",
    "\\end{align}\n",
    "$\n",
    "\n",
    "$V(x_j)$ es un componente de utilidad determinístico que depende de los atributos de $x_{j}$ de invertir R&D en el sector $j$.\n",
    "\n",
    "Se asume que:\n",
    "\n",
    "$\n",
    "\\begin{align}\n",
    "V(x_j)= \\Pi_j(t)\n",
    "\\end{align}\n",
    "$\n",
    "\n",
    "$\\Pi_j(t)$ es la ganancia esperada de invertir en el sector $j$ en cualquier periodo de tiempo."
   ]
  },
  {
   "cell_type": "markdown",
   "metadata": {
    "slideshow": {
     "slide_type": "subslide"
    }
   },
   "source": [
    "Bajo estos supuestos y dado el comportamiento de maximización de la utilidad, entonces $\\theta_j(t)$, el share de emprendedores que deciden invertir en el sector $j$ al tiempo $t$ es:\n",
    "\n",
    "$\n",
    "\\begin{align}\n",
    "\\theta_j(t)= \\dfrac{e^{\\Pi_j(t)}}{\\sum_{k=se}^{fe}e^{\\Pi_k(t)}}\n",
    "\\end{align}\n",
    "$\n",
    "\n",
    "Entonces, la ganancia esperada de trabajar en cada sector es:\n",
    "$\n",
    "\\begin{align}\n",
    "\\Pi_{j}(t)= \\eta_j \\int_0^1 \\pi_{j,i}^m(t) di\n",
    "\\end{align}\n",
    "$\n",
    "\n",
    "donde $\\eta_j$ es la propensión a la innovación de sector $j$."
   ]
  },
  {
   "cell_type": "markdown",
   "metadata": {
    "slideshow": {
     "slide_type": "subslide"
    }
   },
   "source": [
    "#### Consumidores\n",
    "\n",
    "El problema de los consumidores es el siguiente:\n",
    "\n",
    "$\n",
    "\\begin{align}\n",
    "\\max_{C(t)} \\sum_{t=0}^\\infty \\; \\dfrac{1}{(1+\\rho)^t} u(C(t),S(t)) \n",
    "\\end{align}\n",
    "$\n",
    "\n",
    "<center>s.t</center>\n",
    "\n",
    "$\n",
    "\\begin{align}\n",
    "C(t)+M(t)=Y(t)\n",
    "\\end{align}\n",
    "$\n",
    "\n",
    "Donde $\\rho$ es la tasa de descuento de los consumidores, $C(t)$ representa el consumo, $M(t)$ es la inversión en tecnología y $Y(t)$ es la producción de energía secundaria. "
   ]
  },
  {
   "cell_type": "markdown",
   "metadata": {
    "slideshow": {
     "slide_type": "subslide"
    }
   },
   "source": [
    "Para simplificar, se usa la misma relación de aversión al riesgo (CRRA) como en Acemoglu(2012):\n",
    "\n",
    "$\n",
    "\\begin{align}\n",
    "u(C(t),S(t))=\\dfrac{(\\phi(S(t))C(y))^{1-\\sigma}}{1-\\sigma}\n",
    "\\end{align}\n",
    "$"
   ]
  },
  {
   "cell_type": "markdown",
   "metadata": {
    "slideshow": {
     "slide_type": "subslide"
    }
   },
   "source": [
    "Se asume que la utilidad es función del consumo y del ambiente. El parámetro $\\sigma$ es la elasticidad intertemporal de sustitución. Usando la misma forma funcional de Acemoglu(2012), se parametriza la calidad del ambiente como:\n",
    "\n",
    "$\n",
    "\\begin{align}\n",
    "\\phi(S)=\\phi(\\Delta S)=\\dfrac{(\\Delta T_{disaster}- \\Delta T(S))^\\lambda-\\lambda \\Delta T_{disaster}^{\\lambda-1}(\\Delta T_{disaster}-\\Delta T(S))}{(1-\\lambda)\\Delta T_{disaster}^\\lambda}\n",
    "\\end{align}\n",
    "$\n",
    "\n",
    "donde $\\Delta T(S)$ resulta de combinar las ecuaciones $(2)$ y $(3)$, y representa el incremento promedio de la temperatura global desde tiempos preindustriales para un nivel dado de calidad del ambiente. El parámetro $\\lambda$ describe la rapidez que la calidad del ambiente disminuye ante el crecimiento de las emisiones de $CO_2$."
   ]
  },
  {
   "cell_type": "markdown",
   "metadata": {
    "slideshow": {
     "slide_type": "subslide"
    }
   },
   "source": [
    "#### Dinámica del cambio tecnológico\n",
    "\n",
    "Technological change is of vital importance for both regions because the continuous\n",
    "improvement of technologies used for primary energy production leads to higher production of\n",
    "secondary energy and to lower energy prices."
   ]
  },
  {
   "cell_type": "markdown",
   "metadata": {
    "slideshow": {
     "slide_type": "subslide"
    }
   },
   "source": [
    "##### Competencia tecnológica\n",
    "\n",
    "The model considers two competing technological sectors: sustainable energy technologies\n",
    "(SETs) and fossil energy technologies (FETs). Each technology sector supports one of the two\n",
    "primary energy sectors: SETs support the production of sustainable energy and FETs support the\n",
    "production of fossil energy.\n",
    "\n",
    "These technological sectors compete against each other in two fields:\n",
    "\n",
    "* In terms of the share of secondary energy that is being produced using one of the two technological sectors.\n",
    "* In terms of the share of research and development resources that each technological sector receives from technology entrepreneurs."
   ]
  },
  {
   "cell_type": "markdown",
   "metadata": {
    "slideshow": {
     "slide_type": "subslide"
    }
   },
   "source": [
    "Inicialmente, se asume que FETs son tecnologías más productivas (i.e. higher energy output in MWh per unit of installed capacity in MW) que las SETs, tal que:\n",
    "\n",
    "$\n",
    "\\begin{align}\n",
    "A_{fet,0}^k > A_{set,0}^k\n",
    "\\end{align}\n",
    "$\n",
    "\n",
    "As a result, initially, fossil energy technologies are more widely used in the production of\n",
    "secondary energy. This incentivizes a greater share of technology entrepreneurs to work on the\n",
    "research and development of these technologies. In contrast, due to the initial low productivity of\n",
    "sustainable energy technologies, less renewable energy is produced and fewer research and\n",
    "development resources are directed towards improving these technologies."
   ]
  },
  {
   "cell_type": "markdown",
   "metadata": {
    "slideshow": {
     "slide_type": "subslide"
    }
   },
   "source": [
    "##### Opciones tecnológicas\n",
    "\n",
    "In line with the theory of “Directed Technological Change” (Acemoglu, 2002) each primary\n",
    "energy sector in the model considers an abstract continuum of technological options that can be\n",
    "used to support the production of primary energy.\n",
    "\n",
    "Using the same assumption as in Acemoglu et al. (2012), the productivity of each\n",
    "primary energy sector is described by averaging the productivity of all the technologies used for\n",
    "energy production, as described by:\n",
    "\n",
    "$\n",
    "\\begin{align}\n",
    "    A_{j}^k \\equiv \\int_0^1 A_{ji}^k di\n",
    "\\end{align}\n",
    "$\n",
    "\n",
    "donde $A_{j}^k$ denota la productividad promedio del sector $j$ en la región $k$, y $A_{ji}^k$ denota la productividad de tecnologías individuales $i$ en el sector $j$ de la región $k$.  "
   ]
  },
  {
   "cell_type": "markdown",
   "metadata": {
    "slideshow": {
     "slide_type": "subslide"
    }
   },
   "source": [
    "##### Resource driven change and regional differences\n",
    "\n",
    "In both regions the decisions of technology entrepreneurs are fundamental to push the\n",
    "technological frontier forward. Entrepreneurs invest in the research and development of the two\n",
    "technological sectors, increasing the productivity of technologies."
   ]
  },
  {
   "cell_type": "markdown",
   "metadata": {
    "slideshow": {
     "slide_type": "subslide"
    }
   },
   "source": [
    "In the advanced region, entrepreneurs developed new and more productive technologies\n",
    "for production of primary energy. This evolution of productivity through the incorporation of\n",
    "new technologies in the advanced region is described by the following differential equation:\n",
    "$\n",
    "\\begin{align}\n",
    "\\frac{d A_{j}^A}{dt} = \\gamma_j(A_{j}^A) \\eta_j \\theta_j^A(t) A_{j}^A(t) \n",
    "\\end{align}\n",
    "$\n",
    "\n",
    "donde $\\frac{d A_{j}^A}{dt}$ es la tasa de cambio de productividad en el sector $j$, $\\theta_j^A$ el share de emprendedores trabajando en el sector $j$ y $A_j^A$ denota la productividad actual del sector $j$ al tiempo $t$  "
   ]
  },
  {
   "cell_type": "markdown",
   "metadata": {
    "slideshow": {
     "slide_type": "subslide"
    }
   },
   "source": [
    "$\\gamma_j$ y $\\eta_j$ describen las características tecnológicas de cada sector de energía primaria. El parámetro $\\gamma_j$ denotes the average R&D returns to productivity in sector $j$; this is the\n",
    "average positive change in productivity in sector $j$ resulting by the development of new\n",
    "technologies. The parameter $\\eta_j$ denotes the innovation propensity of sector $j$: this is the\n",
    "probability of developing and successfully commercializing new technologies that increase the\n",
    "overall productivity of sector $j$ technologies."
   ]
  },
  {
   "cell_type": "markdown",
   "metadata": {
    "slideshow": {
     "slide_type": "fragment"
    }
   },
   "source": [
    "Equation (23) implies that entrepreneurs in the advanced region use previous technologies to\n",
    "develop new technologies, an incremental pattern of change commonly defined in the literature\n",
    "as “building on the shoulders of giants” (Acemoglu, 2002; Arthur, 2009)."
   ]
  },
  {
   "cell_type": "markdown",
   "metadata": {
    "slideshow": {
     "slide_type": "subslide"
    }
   },
   "source": [
    "In the emerging region, technology entrepreneurs also innovate, but their efforts are targeted\n",
    "towards imitating the existing technologies in advanced region. This process is described by the\n",
    "following expression:\n",
    "\n",
    "$\n",
    "\\begin{align}\n",
    "\\frac{d A_{j}^E}{dt} = \\nu_j\\gamma_j(A_{j}^E)  \\theta_j^E (A_{j}^A(t)-A_{j}^E(t))\n",
    "\\end{align}\n",
    "$\n",
    "\n",
    "donde $\\nu_j$ denotes the probability of successfully imitating/adapting (i.e. transferability) the\n",
    "technologies of sector $j$ developed in the advanced region. This implies that entrepreneurs in\n",
    "the advanced region push the technological frontier forward, while the innovative activity in the\n",
    "emerging region is focused on closing the technological gap ($\\textit{i.e.}$ $A_{j}^A(t)-A_{j}^E(t)$) through\n",
    "imitation and adaptation of foreign technologies."
   ]
  },
  {
   "cell_type": "markdown",
   "metadata": {
    "slideshow": {
     "slide_type": "subslide"
    }
   },
   "source": [
    "I also assume that initially the technologies used in the advanced region are more\n",
    "productive than the technologies used in the emerging region, such that:\n",
    "\n",
    "$\n",
    "\\begin{align}\n",
    "A_{j,0}^A > A_{j,0}^E\n",
    "\\end{align}\n",
    "$"
   ]
  },
  {
   "cell_type": "markdown",
   "metadata": {
    "slideshow": {
     "slide_type": "subslide"
    }
   },
   "source": [
    "Similarly to the framework of Dasgupta and Stiglitz (1980), the returns to R&D ($\\gamma_j$) are a\n",
    "function of the existing productivity in each region and they display diminishing returns such\n",
    "that $\\gamma_j'(A_j)<0$ y $\\gamma_j''(A_j)>0$ de acuerdo a la siguiente expresión:\n",
    "\n",
    "$\n",
    "\\begin{align}\n",
    "\\gamma_j= \\gamma_{j,0} e^{\\omega_j \\frac{A_j^D(t)}{A_0^D}}\n",
    "\\end{align}\n",
    "$"
   ]
  },
  {
   "cell_type": "markdown",
   "metadata": {
    "slideshow": {
     "slide_type": "fragment"
    }
   },
   "source": [
    "This indicates that as the productivity of a given technological sector increases, then the\n",
    "returns to R&D in that sector decrease. This implies that for mature technological sectors, the\n",
    "returns of R&D in productivity gains are smaller compared to immature technological sectors.\n",
    "This captures the notion that in mature technological sectors, innovative activity focuses\n",
    "primarily on achieving incremental improvements over the defined technological standards. In\n",
    "contrast, in immature technological sectors, as technological standards have not yet been well\n",
    "defined, initially innovative activity focuses both in radical and incremental innovations that\n",
    "increase more sharply the productivity of technologies."
   ]
  },
  {
   "cell_type": "markdown",
   "metadata": {
    "slideshow": {
     "slide_type": "notes"
    }
   },
   "source": [
    "This does not imply that the overall productivity of immature technological sectors grows\n",
    "at a faster rate than the productivity of mature technological sectors. As described in equation\n",
    "(e23), the sectorial rate of growth in productivity depends also on the share of entrepreneurs\n",
    "doing R&D. For mature technologies that capture large shares of R&D investments, even though\n",
    "R&D returns might be smaller than the R&D returns from immature technologies, in as much as\n",
    "a bigger share of entrepreneurs work on mature technologies’ R&D, then it is possible than the\n",
    "productivity of mature technologies grows at a faster rate than the productivity of immature\n",
    "technologies. In subsequent chapters, this case is reviewed in more detail for the case of\n",
    "sustainable energy technologies (i.e. immature technologies) and fossil energy technologies (i.e.\n",
    "mature technologies)."
   ]
  },
  {
   "cell_type": "markdown",
   "metadata": {
    "slideshow": {
     "slide_type": "subslide"
    }
   },
   "source": [
    "The parameter $\\omega_j \\in [0,1]$ in the exponential equation (26) represents R&D returns\n",
    "decay rate of sector $j$, which is also an important characteristic of the technological sectors\n",
    "considered in this model. The parameter $\\omega_j $ controls how rapidly the R&D returns decrease as\n",
    "the overall productivity of a sector increases: the higher the value of this parameter, the quicker\n",
    "the decay of the R&D returns.\n",
    "\n",
    "Initially, I assumed that there are not decay rate differences among the technological\n",
    "sectors considered, and that both technological sectors are equally mature.\n",
    "\n",
    "$\n",
    "\\begin{align}\n",
    "\\omega_{set}=\\omega_{fet}=0\n",
    "\\end{align}\n",
    "$"
   ]
  },
  {
   "cell_type": "markdown",
   "metadata": {
    "slideshow": {
     "slide_type": "subslide"
    }
   },
   "source": [
    "##### Experience-driven change\n",
    "\n",
    "Similar to Bosetti et al. (2006), the model also considers the effect of the accumulation of\n",
    "experience in the two technological sectors. In this case, as more energy technology units are\n",
    "installed in both regions, the average cost of producing these technologies reduces. This is\n",
    "modeled using the following power-law function:\n",
    "\n",
    "$\n",
    "\\begin{align}\n",
    "\\psi_j(t)=\\psi_{j,0}\\big(X_j^A(t)+X_j^E(t) \\big)^{l_i}\n",
    "\\end{align}\n",
    "$\n",
    "\n",
    "Where $\\psi_j(t)$ represents the average production costs of technologies in sector $j$ at time $t$, $\\psi_{j,0}$\n",
    "stands for the initial costs of producing technologies in sector $j$. $X_j^A$ and $X_j^E$ represent the accumulated number of technologies used in each sector $j$ in the advanced and emerging regions. "
   ]
  },
  {
   "cell_type": "markdown",
   "metadata": {
    "slideshow": {
     "slide_type": "subslide"
    }
   },
   "source": [
    "The parameter $l_i$ controls the rate at which experience leads to cost reductions in technologies. Similarly, initially I assume that there are no differences among technological sectors, such that:\n",
    "\n",
    "$\n",
    "\\begin{align}\n",
    "l_{set}=l_{fet}=0\n",
    "\\end{align}\n",
    "$\n",
    "The expressions described in this section depict an incremental technological change\n",
    "process that depends on the economic decisions and actions of entrepreneurs in each region, and\n",
    "on the inherent technological characteristics of the two competing technological sectors."
   ]
  },
  {
   "cell_type": "markdown",
   "metadata": {
    "slideshow": {
     "slide_type": "subslide"
    }
   },
   "source": [
    "### Regional Policy Instruments and International Cooperation\n",
    "This section describes the policies that can be implemented in each region to incentivize the\n",
    "development of SETs and to increase their use in the production of secondary energy.\n",
    "\n",
    "From a technological perspective, these policies fall into two categories. \n",
    "* $\\textbf{Technological push policies}$ increase the rate of innovation in the SETs sector, thus accelerating the introduction of better and more productive SETs into the energy market. \n",
    "* $\\textbf{Technological pull policies}$ incentivize secondary energy producers to increase the share of sustainable energy being used in secondary energy production, and also incentivize primary energy producers to use more SETs in primary energy production by reducing the costs of these technologies,\n",
    "\n",
    "International cooperation (i.e. Green Climate Fund) is modeled through mixing elements\n",
    "of these two types of policies in both regions, and by assuming that the international policy\n",
    "portfolio is funded by both regions."
   ]
  },
  {
   "cell_type": "markdown",
   "metadata": {
    "slideshow": {
     "slide_type": "subslide"
    }
   },
   "source": [
    "#### Subsidies for research and development\n",
    "\n",
    "R&D subsides are part of the $\\textbf{technological push}$ policies. These subsidies are used to\n",
    "incentivize a greater share of entrepreneurs to work on the sustainable energy technologies\n",
    "sector. Formally, these subsidies are modelled as a markup over the profits of entrepreneurs\n",
    "working in SETs, such that:\n",
    "\n",
    "$\n",
    "\\begin{align}\n",
    "\\pi_{set,i}^k=(1+q_{set}) (p_{set,i}^k- \\psi_{se,i})x_{set,i}^k\n",
    "\\end{align}\n",
    "$\n",
    "\n",
    "donde $q_{set} \\in [0,\\infty)$ denotes the subsidy rate. These subsidies increase the expected profits of\n",
    "conducting research in the SETs sector. This, as described by equation (15), results into a higher\n",
    "share of entrepreneurs ($\\theta_{se}$) working in the development of sustainable energy technologies."
   ]
  },
  {
   "cell_type": "markdown",
   "metadata": {
    "slideshow": {
     "slide_type": "subslide"
    }
   },
   "source": [
    "#### Price subsidies for clean energy technologies\n",
    "Sustainable energy technologies subsidies reduce the market price of these technologies which\n",
    "increases the demand for SETs in primary energy production. This effectively affects the\n",
    "decision making process of primary energy producers by reducing the costs of using sustainable\n",
    "energy technologies in production, thus increasing the demand for SETs and also decreasing the\n",
    "market price of sustainable energy. Formally, this subsidy is modeled as follows:\n",
    "\n",
    "$\n",
    "\\begin{align}\n",
    "p_{set,i,s}^k=(1-t_{set})p_{set,i}^k\n",
    "\\end{align}\n",
    "$\n",
    "\n",
    "donde $t_{set} \\in [0,1)$ denotes the price subsidy rate for these technologies."
   ]
  },
  {
   "cell_type": "markdown",
   "metadata": {
    "slideshow": {
     "slide_type": "subslide"
    }
   },
   "source": [
    "##### Taxation on the use of fossil energy\n",
    "\n",
    "Taxation of fossil energy increases the cost of using fossil energy for secondary energy\n",
    "production, such that:\n",
    "\n",
    "$\n",
    "\\begin{align}\n",
    "p_{fe,s}^k=p_{fe}^k(1+\\tau_{fe})\n",
    "\\end{align}\n",
    "$\n",
    "\n",
    "donde $\\tau_{fe} \\in [0, \\infty)$. As a result this tax incentivizes secondary energy producers to use more\n",
    "sustainable energy for secondary energy production."
   ]
  },
  {
   "cell_type": "markdown",
   "metadata": {
    "slideshow": {
     "slide_type": "subslide"
    }
   },
   "source": [
    "#### Green Climate Fund\n",
    "\n",
    "The Green Climate Fund (GCF) is a multi-lateral financial institution funded by contributions of\n",
    "both advanced and emerging nations. Funds from the GCF can be directed towards facilitating the\n",
    "implementation of sustainable energy technologies in emerging nations by means of co-funding\n",
    "of technological projects, or by means of facilitating the transfer of advanced energy\n",
    "technologies to emerging nations."
   ]
  },
  {
   "cell_type": "markdown",
   "metadata": {
    "slideshow": {
     "slide_type": "subslide"
    }
   },
   "source": [
    " I model this policy as a complement to the local technology\n",
    "subsidy in the emerging region, such that in the emerging region, once the GCF is implemented,\n",
    "the price of SETs is given by:\n",
    "\n",
    "$\n",
    "\\begin{align}\n",
    "p_{set,i,s}^E=(1-(t_{set}+t_{GCF}))p_{set,i}^E\n",
    "\\end{align}\n",
    "$\n",
    "$$\n",
    "\\begin{equation*}\n",
    "t_{GCF} = \\begin{cases}\n",
    "0 &\\text{si $t_{set}=0$}\\\\\n",
    "> 0 &\\text{si $t_{set}>0$}\n",
    "\\end{cases}\n",
    "\\end{equation*}\n",
    "$$\n",
    "note that under this specification, for the GCF to work it is necessary that a local technology\n",
    "subsidy exists in the emerging region as well, capturing the fact that this policy is co-funded by\n",
    "both regions."
   ]
  },
  {
   "cell_type": "markdown",
   "metadata": {
    "slideshow": {
     "slide_type": "subslide"
    }
   },
   "source": [
    "Another focus area for the GCF is the co-funding of R&D programs and the development\n",
    "of local technical capacities that can facilitate the diffusion, adaptation and implementation of\n",
    "SETs in emerging nations. I model this also as a complement to the local R&D subsidy in the\n",
    "emerging region:\n",
    "$\n",
    "\\begin{align}\n",
    "\\pi_{set,i}^E=(1+q_{set}+q_{GCF})(p_{set,i}^E-\\psi_{se,i})x_{set,i}^E\n",
    "\\end{align}\n",
    "$\n",
    "$$\n",
    "\\begin{equation*}\n",
    "q_{GCF} = \\begin{cases}\n",
    "0 &\\text{si $q_{set}=0$}\\\\\n",
    "> 0 &\\text{si $q_{set}>0$}\n",
    "\\end{cases}\n",
    "\\end{equation*}\n",
    "$$\n",
    "\n",
    "Similarly to the case of technology subsidies, under this framework, the share of the\n",
    "R&D subsidy funded by the GCF is only implemented when the emerging region participates to\n",
    "some degree in the financing of this policy, which mimics the financial architecture of the GCF."
   ]
  },
  {
   "cell_type": "markdown",
   "metadata": {
    "slideshow": {
     "slide_type": "subslide"
    }
   },
   "source": [
    "### System’s Dynamics\n",
    "As described in the previous sections, there are two dynamic processes considered in this\n",
    "modeling framework: technological change dynamics and climate change dynamics. Productivity\n",
    "changes of sustainable energy technologies and fossil energy technologies influence the decision\n",
    "making process of economic agents. Climate change dynamics influence the need for policy\n",
    "intervention affecting the size of the policy response required for mitigation, and, in turn, also\n",
    "affecting the incentives and decisions of economic agents."
   ]
  },
  {
   "cell_type": "markdown",
   "metadata": {
    "slideshow": {
     "slide_type": "subslide"
    }
   },
   "source": [
    "Therefore, the dynamics of the system are described by how\n",
    "technological and climate change (equations 1,23 and 24) affect primary energy prices,\n",
    "technology prices, the demand for technologies, the allocation of labor across the two primary\n",
    "energy sectors, and the allocation of entrepreneurs across the two technological sectors. In the\n",
    "following paragraphs, I describe this inter-temporal equilibrium; note that the equilibrium\n",
    "equations used in this model resemble the same equilibrium expressions in the model of\n",
    "Acemoglu et al. (2012)."
   ]
  },
  {
   "cell_type": "markdown",
   "metadata": {
    "slideshow": {
     "slide_type": "subslide"
    }
   },
   "source": [
    "Differences in these equilibrium conditions arise due to two\n",
    "assumptions: \n",
    "\n",
    "* 1) this model assumes in equation (e28) that the accumulation of experience results in lower technology costs,\n",
    "* 2) this model assumes that the properties of the two technological sectors are different ($\\textit{i.e.}$ $\\gamma_j$ y $\\eta_j$)"
   ]
  },
  {
   "cell_type": "markdown",
   "metadata": {
    "slideshow": {
     "slide_type": "subslide"
    }
   },
   "source": [
    "#### Production of primary energy\n",
    "\n",
    "Partially solving the maximization problem of secondary energy producers described in equation\n",
    "(4) (see Appendix A.1), I obtain:\n",
    "\n",
    "$\n",
    "\\begin{align}\n",
    "\\dfrac{Y_{se}^k(t)}{Y_{fe}^k(t)}= \\Bigg( \\dfrac{p_{fe}^k(t) \\times (1+\\tau)}{p_{se}^k(t)} \\Bigg)^{\\Large\\varepsilon}\n",
    "\\end{align}\n",
    "$\n",
    "\n",
    "This indicates that as prices of sustainable energy decline, the demand for sustainable\n",
    "energy increases. Since both types of primary energy are substitutes ($\\varepsilon >1$), then a marginal\n",
    "increase in the use of sustainable energy also entails the same marginal decrease in the use of\n",
    "fossil energy. If exogenous demand grows (equation 7) then the use of both energy sources\n",
    "could increase."
   ]
  },
  {
   "cell_type": "markdown",
   "metadata": {
    "slideshow": {
     "slide_type": "subslide"
    }
   },
   "source": [
    "#### Technology prices\n",
    "\n",
    "Partially solving the maximization problem of technology producers results in the describing\n",
    "technology prices as a function of production cost (see Appendix A.2), such that:\n",
    "\n",
    "$\n",
    "\\begin{align}\n",
    "p_{ji}(t)= \\dfrac{\\psi_j(t)}{\\alpha}\n",
    "\\end{align}\n",
    "$\n",
    "\n",
    "as more experience is accumulated in one technology sector, then the production costs of\n",
    "technologies decline and this induces a reduction in the market price of these technologies."
   ]
  },
  {
   "cell_type": "markdown",
   "metadata": {
    "slideshow": {
     "slide_type": "subslide"
    }
   },
   "source": [
    "#### Demand for technologies\n",
    "\n",
    "Using result (36) and the first order conditions of primary energy producers’ leads to the\n",
    "equilibrium demand for technologies (see Appendix A.2):\n",
    "\n",
    "$\n",
    "\\begin{align}\n",
    "x_{ji}^k(t)=\\Bigg( \\dfrac{\\alpha^2 p_{j}^k(t)}{(1-t_{set}\\psi_j(t))} \\Bigg)^{\\Large{\\frac{1}{1-\\alpha}}} L_j^k A_{ji}^k\n",
    "\\end{align}\n",
    "$\n",
    "this demand function shows that demand in technologies increases with positive changes in\n",
    "primary energy prices (for the sector being supported by these technologies), as well as with\n",
    "reductions in technology prices through technology subsidies and the accumulation of\n",
    "experience. Also, improvements in technologies’ productivity incentivize the usage of sector\n",
    "specific technologies for primary energy production."
   ]
  },
  {
   "cell_type": "markdown",
   "metadata": {
    "slideshow": {
     "slide_type": "subslide"
    }
   },
   "source": [
    "#### Expected profits of research and development\n",
    "\n",
    "Combining equations (36) and (37) (see Appendix A.3) results in the equilibrium level of\n",
    "research in both sectors:\n",
    "\n",
    "$\n",
    "\\begin{align}\n",
    "    \\dfrac{\\Pi_{set}^k(t)}{\\Pi_{fet}^k(t)}= (1+q_{se}^k) \\times \\dfrac{\\eta_{se}}{\\eta_{fe}} \\times \\dfrac{1}{(1-t_{set}^k)^{\\Large{\\frac{1}{1-\\alpha}}}} \\times \\Big( \\dfrac{\\psi_{fe}}{\\psi_{se}} \\Big)^{\\Large{\\frac{\\alpha}{1-\\alpha}}}  \\times \\Big(\\dfrac{p_{se}^k(t)}{p_{fe}^k(t)}\\Big)^{\\Large{\\frac{1}{1-\\alpha}}} \\times \\dfrac{L_{se}^k(t)}{L_{fe}^k(t)} \\times \\dfrac{A_{se}^k(t)}{A_{fe}^k(t)}\n",
    "\\end{align}\n",
    "$\n",
    "\n",
    "If this ratio is greater than one, then the majority of research and development is directed\n",
    "towards sustainable energy technologies (equation e15). In the tradition of Acemoglu (2002) and\n",
    "Acemoglu et al. (2012) framework, equation (e38) shows that there are three key forces\n",
    "determining which sector captures the greater share of entrepreneurial activity:"
   ]
  },
  {
   "cell_type": "markdown",
   "metadata": {
    "slideshow": {
     "slide_type": "subslide"
    }
   },
   "source": [
    "1. the $\\textit{direct productivity effect}$ $\\dfrac{A_{se}^k(t)}{A_{fe}^k(t)}$ incentivizing research in the sector with the more advanced and productive technologies.\n",
    "2. the $\\textit{price effect}$ $\\dfrac{p_{se}^k(t)}{p_{fe}^k(t)}$ incentivizing research in the energy sector\n",
    "with the higher energy prices.\n",
    "3. the $\\textit{market size effect}$ $\\dfrac{L_{se}^k(t)}{L_{fe}^k(t)}$ pushing R&D towards the sector with the highest market size.\n"
   ]
  },
  {
   "cell_type": "markdown",
   "metadata": {
    "slideshow": {
     "slide_type": "subslide"
    }
   },
   "source": [
    "In addition to these forces two more factors are at play:\n",
    "1. the $\\textit{experience effect}$ $\\Big( \\dfrac{\\psi_{fe}}{\\psi_{se}} \\Big)^{\\Large{\\frac{\\alpha}{1-\\alpha}}}$ pushing innovative activity towards the sector that more rapidly reduces technological production costs.\n",
    "2. the $\\textit{innovation propensity effect}$ $\\dfrac{\\eta_{se}}{\\eta_{fe}}$ incentivizing R&D in the sector that more rapidly yields new technologies ($\\textit{i.e.}$ se asume que $\\eta_{se}\\neq\\eta_{fe}$).\n",
    "\n",
    "Note also that the research and technologies subsidies also incentivize R&D in sustainable energy technologies."
   ]
  },
  {
   "cell_type": "code",
   "execution_count": null,
   "metadata": {
    "slideshow": {
     "slide_type": "subslide"
    }
   },
   "outputs": [],
   "source": []
  },
  {
   "cell_type": "markdown",
   "metadata": {
    "slideshow": {
     "slide_type": "subslide"
    }
   },
   "source": [
    "## MODEL ENGINE"
   ]
  },
  {
   "cell_type": "code",
   "execution_count": null,
   "metadata": {
    "slideshow": {
     "slide_type": "subslide"
    }
   },
   "outputs": [],
   "source": []
  },
  {
   "cell_type": "markdown",
   "metadata": {},
   "source": [
    "### Determination of Initial Conditions\n",
    "\n",
    "Using data on energy production across developed and developing countries it is possible to\n",
    "estimate the corresponding initial levels of productivity for both regions (A.7).\n",
    "\n",
    "La condición inicial para $A_{fet,0}$ está dada por:\n",
    "\n",
    "$\n",
    "\\begin{align}\n",
    "A_{fet,0} = \\dfrac{1}{\\rho} \\Bigg(  Y_{se,0}^{\\dfrac{\\varepsilon -1}{\\varepsilon }} + Y_{fe,0}^{\\dfrac{\\varepsilon -1}{\\varepsilon }} \\Bigg)^{\\dfrac{\\varepsilon }{\\varepsilon -1}} \\times \\Bigg(  1 + \\bigg(  \\dfrac{Y_{se,0}}{Y_{fe,0}} \\bigg)^{\\dfrac{\\varphi}{1-\\alpha-\\varphi}}\\Bigg)^{\\dfrac{1}{\\varphi}}\n",
    "\\end{align}\n",
    "$\n",
    "\n",
    "Donde $\\varphi=(1-\\alpha)(1-\\varepsilon)$. Sustituyendo y resolviendo, tenemos:\n",
    "\n",
    "$\n",
    "\\begin{align}\n",
    "A_{fet,0} = \\dfrac{1}{\\rho} \\Bigg(  Y_{se,0}^{\\dfrac{\\varepsilon -1}{\\varepsilon }} + Y_{fe,0}^{\\dfrac{\\varepsilon -1}{\\varepsilon }} \\Bigg)^{\\dfrac{\\varepsilon }{\\varepsilon -1}} \\times \\Bigg(  1 + \\bigg(  \\dfrac{Y_{se,0}}{Y_{fe,0}} \\bigg)^{\\dfrac{1-\\varepsilon}{\\varepsilon}}\\Bigg)^{\\dfrac{1}{(1-\\alpha) (1-\\varepsilon)}}\n",
    "\\end{align}\n",
    "$\n",
    "\n",
    "Y la condición inicial de $A_{set}$ está dada por:\n",
    "\n",
    "$\n",
    "\\begin{align}\n",
    "A_{set,0} = \\dfrac{1}{\\rho} \\Bigg(  Y_{se,0}^{\\dfrac{\\varepsilon -1}{\\varepsilon }} + Y_{fe,0}^{\\dfrac{\\varepsilon -1}{\\varepsilon }} \\Bigg)^{\\dfrac{\\varepsilon }{\\varepsilon -1}} \\times \\Bigg(  1 + \\bigg(  \\dfrac{Y_{fe,0}}{Y_{se,0}} \\bigg)^{\\dfrac{1-\\varepsilon}{\\varepsilon}}\\Bigg)^{\\dfrac{1}{(1-\\alpha) (1-\\varepsilon)}}\n",
    "\\end{align}\n",
    "$\n",
    "\n",
    "\n",
    "Donde $\\rho=L_{set}+L_{fet}$, siendo $L_{set}$ la fuerza laboral trabajando en el sector sostenible y $L_{fet}$ la fuerza laboral trabajando en el sector fosil.  "
   ]
  },
  {
   "cell_type": "code",
   "execution_count": null,
   "metadata": {
    "slideshow": {
     "slide_type": "subslide"
    }
   },
   "outputs": [],
   "source": []
  },
  {
   "cell_type": "markdown",
   "metadata": {
    "slideshow": {
     "slide_type": "subslide"
    }
   },
   "source": [
    "### Put all parameters together\n",
    "\n",
    "* $\\alpha$ : proporción del ingreso de capital en el ingreso total.\n",
    "* $\\varepsilon$ : elasticidad de sustitución.\n",
    "* $\\gamma_{re}$ : retornos a la productividad de R&D en el sector renovable.\n",
    "* $\\gamma_{ce}$ : retornos a la productividad de R&D en el sector de carbono.\n",
    "* $\\eta_{re}$ : propensión a la innovación en el sector renovable.\n",
    "* $\\eta_{ce}$ : propensión a la innovación en el sector de carbono.\n",
    "* $\\nu_{re}$ : probabilidad de éxito al imitar o adaptar tecnología del sector renovable desarrollada en la región avanzada por parte de la región emergente.\n",
    "* $\\nu_{ce}$ : probabilidad de éxito al imitar o adaptar tecnología del sector de carbono desarrollada en la región avanzada por parte de la región emergente.\n",
    "* $qsi$: measures the rate of environmental degradation resulting from the production of dirty inputs\n",
    "* $\\Delta T$: incremento de la temperatura desde tiempos preindustriales (grados celsius).\n",
    "* $\\Delta T_{disaster}$: 6.0 (grados celsius).\n",
    "* $\\beta$ :  sensibilidad de la atmósfera a emisiones de $CO_2$ (grados celsius)\n",
    "* $CO_{2,0}$ : nivel inicial de concentración de $C0_2$ en la atmósfera al inicio del siglo XX.\n",
    "* $CO_{2|6.0°C}$: nivel de emisiones de $C0_2$ que resultaría en un incremento de la temperatura de $6.0°C$ con respecto a niveles preindustriales.\n",
    "* $r^{N}$: tasa de crecimiento de la oferta laboral en la región desarrollada.\n",
    "* $r^{S}$: tasa de crecimiento de la oferta laboral en la región emergente.\n",
    "* $\\rho$: tasa de descuento.\n",
    "* $\\sigma$: inversa de la elasticidad intertemporal de sustitución.\n",
    "\n"
   ]
  },
  {
   "cell_type": "markdown",
   "metadata": {},
   "source": [
    "![alt text](parametros_iniciales.png \"Title\")\n",
    "![alt text](empirical_validation_parameters.png \"Title\")"
   ]
  },
  {
   "cell_type": "code",
   "execution_count": 1,
   "metadata": {
    "slideshow": {
     "slide_type": "subslide"
    }
   },
   "outputs": [],
   "source": [
    "#Load parameters required for determining initial conditions\n",
    "α = 3.5\n",
    "ε = 0.33\n",
    "size_factor = 0.8\n",
    "γ_re = 0.25\n",
    "k_re = 0\n",
    "γ_ce = 0.25\n",
    "k_ce = 0\n",
    "η_re= 0.02\n",
    "η_ce= 0.02\n",
    "ν_re = 0.02 \n",
    "ν_ce= 0.02\n",
    "qsi = 0.010054\n",
    "δ_S = 0.001823\n",
    "Δ_T_Disaster= 7.5\n",
    "β_T = 4.997053\n",
    "CO2_base = 289.415046\n",
    "CO2_Disaster= 1298.216153\n",
    "labor_growth_N = 0.0 \n",
    "labor_growth_S = 0.0\n",
    "ρ = 0.01\n",
    "λ = 0.1443\n",
    "σ = 2\n",
    "ξ = 0.01\n",
    "\n",
    "## Y renewable energy, advanced economies\n",
    "Yre_N_0 = 43.5\n",
    "## Y carbon energy, advanced economies\n",
    "Yce_N_0 = 191.7\n",
    "## Y renewable energy, emerging economies\n",
    "Yre_S_0 = 28.2\n",
    "## Y carbon energy, emerging economies\n",
    "Yce_S_0 = 260.7\n",
    "### Environment quality\n",
    "S_0 = 915.970085\n",
    "\n",
    "#Initial Productivity conditions are determined by the initial levels of production of energy\n",
    "\n",
    "#In the advanced economies\n",
    "Ace_N_0 = ((Yce_N_0**((ε-1)/ε)+Yre_N_0**((ε-1)/ε))**(ε/(ε-1)))*(1+(Yce_N_0/Yre_N_0)**((1-ε)/ε))**(1/((1-α)*(1-ε)))\n",
    "\n",
    "Are_N_0 = ((Yce_N_0**((ε-1)/ε)+Yre_N_0**((ε-1)/ε))**(ε/(ε-1)))*(1+(Yre_N_0/Yce_N_0)**((1-ε)/ε))**(1/((1-α)*(1-ε)))\n",
    "\n",
    "#In the Southern Region\n",
    "Ace_S_0 = (1/size_factor)*((Yce_S_0**((ε-1)/ε)+Yre_S_0**((ε-1)/ε))**(ε/(ε-1)))*(1+(Yce_S_0/Yre_S_0)**((1-ε)/ε))**(1/((1-α)*(1-ε)))\n",
    "Are_S_0 = (1/size_factor)*((Yce_S_0**((ε-1)/ε)+Yre_S_0**((ε-1)/ε))**(ε/(ε-1)))*(1+(Yre_S_0/Yce_S_0)**((1-ε)/ε))**(1/((1-α)*(1-ε)))\n"
   ]
  },
  {
   "cell_type": "markdown",
   "metadata": {
    "slideshow": {
     "slide_type": "subslide"
    }
   },
   "source": [
    "## Determinación de las políticas"
   ]
  },
  {
   "cell_type": "code",
   "execution_count": null,
   "metadata": {},
   "outputs": [],
   "source": []
  },
  {
   "cell_type": "code",
   "execution_count": null,
   "metadata": {},
   "outputs": [],
   "source": []
  },
  {
   "cell_type": "code",
   "execution_count": null,
   "metadata": {
    "slideshow": {
     "slide_type": "subslide"
    }
   },
   "outputs": [],
   "source": []
  },
  {
   "cell_type": "markdown",
   "metadata": {},
   "source": [
    "## Estructura económica"
   ]
  },
  {
   "cell_type": "code",
   "execution_count": 2,
   "metadata": {},
   "outputs": [],
   "source": [
    "import math\n",
    "\n",
    "time = 1 \n",
    "\n",
    "### Condiciones iniciales pata  t=1\n",
    "### Environment quality\n",
    "S = S_0 \n",
    "\n",
    "Ace_N = Ace_N_0\n",
    "Are_N = Are_N_0\n",
    "\n",
    "Ace_S = Ace_S_0\n",
    "Are_S = Are_S_0 \n",
    "### Auxiliares generales\n",
    "\n",
    "φ= (1-α)*(1-ε)\n",
    "\n",
    "#this is the cost of production of clean technologies\n",
    "epsi_re = α**2 \n",
    "#this is the cost of production of dirty technologies\n",
    "epsi_ce = α**2\n",
    "\n"
   ]
  },
  {
   "cell_type": "markdown",
   "metadata": {},
   "source": [
    "#### Región norte\n",
    "\n",
    "Similarly to the framework of Dasgupta and Stiglitz (1980), the returns to R&D ($\\gamma_j$) are a\n",
    "function of the existing productivity in each region and they display diminishing returns such\n",
    "that $\\gamma_j'(A_j)<0$ y $\\gamma_j''(A_j)>0$ de acuerdo a la siguiente expresión:\n",
    "\n",
    "$\n",
    "\\begin{align}\n",
    "\\gamma_j= \\gamma_{j,0} e^{\\omega_j \\frac{A_j^D(t)}{A_0^D}}\n",
    "\\end{align}\n",
    "$\n"
   ]
  },
  {
   "cell_type": "code",
   "execution_count": 3,
   "metadata": {},
   "outputs": [],
   "source": [
    "\n",
    "### North Region\n",
    "#Auxiliaries in North\n",
    "\n",
    "L_N = math.exp(labor_growth_N*time)\n",
    "\n",
    "#gamma displays decreasing returns as in Stiligtz\n",
    "γ_re_t_N = γ_re*math.exp(-k_re*(Are_N/Are_N_0-1)) \n",
    "\n",
    "#gamma displays decreasing returns as in Stiligtz\n",
    "γ_ce_t_N = γ_ce*math.exp(-k_ce*(Ace_N/Ace_N_0-1)) \n"
   ]
  },
  {
   "cell_type": "markdown",
   "metadata": {},
   "source": [
    "##### First we determine the equilibrium levels of relative input prices and relative labor\n",
    "\n",
    "*Prices of primary energy*\n",
    "\n",
    "$\n",
    "\\begin{align}\n",
    "    \\dfrac{p^k_{se}(t)}{p^k_{fe}(t)} = \\Bigg( \\dfrac{A^k_{fe}(t)}{A^k_{se}(t)} \\Bigg)^{(1-\\alpha)} \\times \\Bigg( \\dfrac{(1-t^k_{set}) \\times \t\\psi_{se}(t)}{\t\\psi_{fe}(t)} \\Bigg)^\\alpha\n",
    "\\end{align}\n",
    "$\n",
    "\n",
    "\n",
    "*Labor allocations*\n",
    "\n",
    "$\n",
    "\\begin{align}\n",
    "    \\dfrac{L^k_{se}(t)}{L^k_{fe}(t)}= \\Big( 1+\\tau^k_{fe}\\Big)^\\varepsilon \\Bigg( \\dfrac{(1-t^k_{set}) \\psi_{se}(t)}{\\psi_{fe}(t)} \\Bigg)^{\\alpha (1-\\varepsilon)} \\times \\Bigg( \\dfrac{A^k_{se}(t)}{A^k_{fe}(t)} \\Bigg)^{-(1-\\alpha)(1-\\varepsilon)}\n",
    "\\end{align}\n",
    "$\n"
   ]
  },
  {
   "cell_type": "code",
   "execution_count": 4,
   "metadata": {},
   "outputs": [],
   "source": [
    "### Carbon tax in advanced region\n",
    "ce_tax_N=0\n",
    "### Technology subsidy in advanced region\n",
    "Tec_subsidy_N=0\n",
    "\n",
    "### Subsidies for research and development\n",
    "RD_subsidy_N = 0\n",
    "\n",
    "RelPrice_N = ((Ace_N/Are_N)**(1-α))*(((epsi_re*(1-Tec_subsidy_N))/epsi_ce)**α)\n",
    "RelLabor_N =((1+ce_tax_N)**ε)*((((1-Tec_subsidy_N)*epsi_re)/epsi_ce)**(α*(1-ε)))*((Are_N/Ace_N)**(-1*φ))\n"
   ]
  },
  {
   "cell_type": "markdown",
   "metadata": {},
   "source": [
    "##### Second we determine the equilibrium conditions for each sector\n",
    "\n",
    "\n",
    "**demanda de tecnología**\n",
    "\n",
    "$\n",
    "\\begin{align}\n",
    "    x_{jit} = \\Bigg( \\dfrac{\\alpha^2 p_{jt}}{(1-t_s) \\psi_j} \\Bigg)^{\\dfrac{1}{1-\\alpha}} L_{jt}A_{jit}\n",
    "\\end{align}\n",
    "$\n",
    "\n",
    "**ganancias esperadas**\n",
    "\n",
    "Formally, these subsidies are modelled as a markup over the profits of entrepreneurs\n",
    "working in SETs, such that:\n",
    "\n",
    "$\n",
    "\\begin{align}\n",
    "    \\pi^k_{set,i} = \\big( 1 + q_{set}\\big) \\times \\big( p^k_{set,i} - \\psi_{se,i} \\big) \\times x^k_{set,i}\n",
    "\\end{align}\n",
    "$\n",
    "\n",
    "**niveles de producción de equilibrio**\n",
    "\n",
    "$\n",
    "\\begin{align}\n",
    "    Y_{jt}= \\Bigg( \\dfrac{\\alpha^2 p_{jt}}{(1-t_s)\\psi_j}\\Bigg)^{\\dfrac{\\alpha}{1-\\alpha}} L_{jj}A_{jt}\n",
    "\\end{align}\n",
    "$\n"
   ]
  },
  {
   "cell_type": "code",
   "execution_count": 7,
   "metadata": {},
   "outputs": [],
   "source": [
    "# Clean sector\n",
    "#based on the assumption that Labor.re.N+Labor.ce.N=L.N\n",
    "Labor_re_N = (RelLabor_N*L_N)/(1+RelLabor_N) \n",
    "#based on the assumption that  Price.re.N^(1-ε)+Price.ce.N^(1-ε)=1\n",
    "Price_re_N = RelPrice_N/(RelPrice_N**(1-ε)+(1)**(1-ε))**(1/(1-ε)) \n",
    "# technology demand\n",
    "Agg_demand_re_tech_N = ((((α**2)*Price_re_N)/((1-Tec_subsidy_N)*epsi_re))**(1/(1-α)))*Labor_re_N*Are_N\n",
    "# Expected profits see annex IV. Equilibrium research profits\n",
    "Profits_re_N =(1+RD_subsidy_N)*η_re*epsi_re*((1-α)/α)*Agg_demand_re_tech_N \n",
    "# Equilibrium levels of production\n",
    "Yre_N = ((((α**2)*Price_re_N)/((1-Tec_subsidy_N)*epsi_re))**(α/(1-α)))*Labor_re_N*Are_N\n",
    "\n",
    "# dirty sector\n",
    "Labor_ce_N = L_N/(RelLabor_N+1)\n",
    "Price_ce_N = Price_re_N/RelPrice_N\n",
    "Agg_demand_ce_tech_N = ((((α**2)*Price_ce_N)/(epsi_ce))**(1/(1-α)))*Labor_ce_N*Ace_N\n",
    "Profits_ce_N = η_ce*epsi_ce*((1-α)/α)*Agg_demand_ce_tech_N\n",
    "Yce_N = ((((α**2)*Price_ce_N)/(epsi_ce))**(α/(1-α)))*Labor_ce_N*Ace_N\n",
    "\n",
    "# Producción total\n",
    "\n",
    "Y_N = ((Yre_N)**((ε-1)/ε)+(Yce_N)**((ε-1)/ε))**(ε/(ε-1))\n"
   ]
  },
  {
   "cell_type": "markdown",
   "metadata": {},
   "source": [
    "###### Allocation of Scientists\n",
    "\n",
    "Los emprendedores tecnológicos trabajan en mejorar sus tecnologías usadas para producir energía primaria al realizar inversión en R&D. Estos deciden en qué sector enfocarse al comparar las ganancias esperadas de invertir R&D en el desarrollo y mejoramiento de tecnologías en ambos sectores. Los emprendedores trabajan en uno u en otro sector, pero no en los dos:\n",
    "\n",
    "$\n",
    "\\begin{align}\n",
    "\\theta_{se}+\\theta_{fe}=1\n",
    "\\end{align}\n",
    "$\n",
    "\n",
    "donde $\\theta_{fe}$ y $\\theta_{se}$ son los share de emprendedores trabajando en R&D en el sector $\\textit{fe}$ y $\\textit{se}$, respectivamente.\n",
    "\n",
    "\n",
    "Bajo estos supuestos y dado el comportamiento de maximización de la utilidad, entonces $\\theta_j(t)$, el share de emprendedores que deciden invertir en el sector $j$ al tiempo $t$ es:\n",
    "\n",
    "$\n",
    "\\begin{align}\n",
    "\\theta_j(t)= \\dfrac{e^{\\Pi_j(t)}}{\\sum_{k=se}^{fe}e^{\\Pi_k(t)}}\n",
    "\\end{align}\n",
    "$\n",
    "\n",
    "Entonces, la ganancia esperada de trabajar en cada sector es:\n",
    "$\n",
    "\\begin{align}\n",
    "\\Pi_{j}(t)= \\eta_j \\int_0^1 \\pi_{j,i}^m(t) di\n",
    "\\end{align}\n",
    "$\n",
    "\n",
    "donde $\\eta_j$ es la propensión a la innovación de sector $j$."
   ]
  },
  {
   "cell_type": "code",
   "execution_count": 10,
   "metadata": {},
   "outputs": [],
   "source": [
    "sre_N = math.exp(Profits_re_N)/(math.exp(Profits_ce_N)+math.exp(Profits_re_N))\n",
    "sce_N = 1-sre_N"
   ]
  },
  {
   "cell_type": "markdown",
   "metadata": {},
   "source": [
    "#### Región Sur\n"
   ]
  },
  {
   "cell_type": "code",
   "execution_count": 14,
   "metadata": {},
   "outputs": [],
   "source": [
    "#Auxiliaries in South\n",
    "#the population of the South is 4.6 that of the North,\n",
    "L_S = (math.exp(labor_growth_S*time))*size_factor \n",
    "γ_re_t_S = γ_re\n",
    "γ_ce_t_S = γ_ce"
   ]
  },
  {
   "cell_type": "code",
   "execution_count": 16,
   "metadata": {},
   "outputs": [],
   "source": [
    "### Carbon tax in emergent region\n",
    "ce_tax_S=0\n",
    "### Technology subsidy in emergent region\n",
    "Tec_subsidy_S=0\n",
    "\n",
    "### Subsidies for research and development\n",
    "RD_subsidy_S = 0\n",
    "#First we determine the equilibrium levels of relative input prices and relative labour\n",
    "\n",
    "RelPrice_S = ((Ace_S/Are_S)**(1-α))*(((epsi_re*(1-Tec_subsidy_S))/epsi_ce)**α)\n",
    "RelLabor_S = ((1+ce_tax_S)**ε)*((((1-Tec_subsidy_S)*epsi_re)/epsi_ce)**(α*(1-ε)))*((Are_S/Ace_S)**(-1*φ))\n"
   ]
  },
  {
   "cell_type": "code",
   "execution_count": 20,
   "metadata": {},
   "outputs": [],
   "source": [
    "#Second we determine the equilibrium conditions for each sector\n",
    "#clean sector\n",
    "#based on the assumption that Labor_re_S+Labor_ce_S=L_S\n",
    "Labor_re_S = (L_S*RelLabor_S)/(RelLabor_S+1) \n",
    "#based on the assumption that  Price_re_S**(1-ε)+(Price_ce_S)**(1-ε)=1\n",
    "Price_re_S = RelPrice_S/(RelPrice_S**(1-ε)+(1)**(1-ε))**(1/(1-ε)) \n",
    "Agg_demand_re_tech_S = ((((α**2)*Price_re_S)/((1-Tec_subsidy_S)*epsi_re))**(1/(1-α)))*Labor_re_S*Are_S\n",
    "Profits_re_S = (1+RD_subsidy_S)*η_re*epsi_re*((1-α)/α)*Agg_demand_re_tech_S \n",
    "Yre_S = ((((α**2)*Price_re_S)/((1-Tec_subsidy_S)*epsi_re))**(α/(1-α)))*Labor_re_S*Are_S\n"
   ]
  },
  {
   "cell_type": "code",
   "execution_count": 22,
   "metadata": {},
   "outputs": [],
   "source": [
    "#dirty sector\n",
    "Labor_ce_S = L_S/(RelLabor_S+1)\n",
    "Price_ce_S = Price_re_S/RelPrice_S\n",
    "Agg_demand_ce_tech_S = ((((α**2)*Price_ce_S)/(epsi_ce))**(1/(1-α)))*Labor_ce_S*Ace_S\n",
    "Profits_ce_S = η_ce*epsi_ce*((1-α)/α)*Agg_demand_ce_tech_S \n",
    "Yce_S = ((((α**2)*Price_ce_S)/(epsi_ce))**(α/(1-α)))*Labor_ce_S*Ace_S\n"
   ]
  },
  {
   "cell_type": "code",
   "execution_count": 26,
   "metadata": {},
   "outputs": [],
   "source": [
    "#Total Production\n",
    "Y_S = ((Yre_S)**((ε-1)/ε)+(Yce_S)**((ε-1)/ε))**(ε/(ε-1))\n",
    "\n",
    "#Allocation of Scientists\n",
    "sre_S = math.exp(Profits_re_S)/(math.exp(Profits_ce_S)+math.exp(Profits_re_S))\n",
    "sce_S = 1-sre_S\n"
   ]
  },
  {
   "cell_type": "markdown",
   "metadata": {},
   "source": [
    "##### Changes in Temperature\n",
    "\n"
   ]
  },
  {
   "cell_type": "code",
   "execution_count": 32,
   "metadata": {},
   "outputs": [],
   "source": [
    "##### Changes in Temperature\n",
    "#increase in temperature at which there is environmental disaster\n",
    "Delta_Temp_Disaster = Δ_T_Disaster\n",
    "CO2_Concentration = max(CO2_Disaster-S,CO2_base)\n",
    "Delta_Temp = min(β_T*math.log(CO2_Concentration/CO2_base),Delta_Temp_Disaster)\n"
   ]
  },
  {
   "cell_type": "code",
   "execution_count": 33,
   "metadata": {},
   "outputs": [],
   "source": [
    "#Welfare Calculations\n",
    "Consumption_N = Y_N-epsi_re*Agg_demand_re_tech_N-epsi_ce*Agg_demand_ce_tech_N\n",
    "Consumption_S = (Y_S-epsi_re*Agg_demand_re_tech_S-epsi_ce*Agg_demand_ce_tech_S)*(1/size_factor)\n",
    "Cost_S_Damage = ((Delta_Temp_Disaster-Delta_Temp)**λ-λ*Delta_Temp_Disaster**(λ-1)*(Delta_Temp_Disaster-Delta_Temp))/((1-λ)*Delta_Temp_Disaster**λ)\n"
   ]
  },
  {
   "cell_type": "code",
   "execution_count": 38,
   "metadata": {},
   "outputs": [],
   "source": [
    "#Budget restrictions\n",
    "Tec_subsidy_GF_N = 0\n",
    "RD_subsidy_GF_N = 0\n",
    "Budget_function_N = (ce_tax_N*Price_ce_N*Yce_N) - (Tec_subsidy_N*epsi_re*Agg_demand_re_tech_N) - (Tec_subsidy_GF_N*epsi_re*Agg_demand_re_tech_S) -(RD_subsidy_N*η_re*((epsi_re/α)-epsi_re)*Agg_demand_re_tech_N )-(RD_subsidy_GF_N*η_re*((epsi_re/α)-epsi_re)*Agg_demand_re_tech_S) \n",
    "\n",
    "Budget_function_S = (ce_tax_S*Price_ce_S*Yce_S)- (Tec_subsidy_S*epsi_re*Agg_demand_re_tech_S) - (RD_subsidy_S*η_re*((epsi_re/α)-epsi_re)*Agg_demand_re_tech_S)"
   ]
  },
  {
   "cell_type": "code",
   "execution_count": 41,
   "metadata": {},
   "outputs": [],
   "source": [
    "#State variables\n",
    "\n",
    "#Evolution of Productivity North Region\n",
    "dAre_N = γ_re_t_N*η_re*sre_N*Are_N\n",
    "dAce_N = γ_ce_t_N*η_ce*sce_N*Ace_N\n",
    "\n",
    "#Evolution of Productivity South Region\n",
    "dAre_S = γ_re_t_S*ν_re*sre_S*(Are_N-Are_S)\n",
    "dAce_S = γ_ce_t_S*ν_ce*sce_S*(Ace_N-Ace_S)\n",
    "\n",
    "#Environmental Quality\n",
    "dS = min(1_0,δ_S*S-qsi*(Yce_N+Yce_S))"
   ]
  },
  {
   "cell_type": "code",
   "execution_count": 48,
   "metadata": {},
   "outputs": [
    {
     "data": {
      "text/plain": [
       "191.69999999999973"
      ]
     },
     "execution_count": 48,
     "metadata": {},
     "output_type": "execute_result"
    }
   ],
   "source": [
    "Yce_N"
   ]
  },
  {
   "cell_type": "code",
   "execution_count": null,
   "metadata": {},
   "outputs": [],
   "source": []
  }
 ],
 "metadata": {
  "celltoolbar": "Slideshow",
  "kernelspec": {
   "display_name": "Python 3",
   "language": "python",
   "name": "python3"
  },
  "language_info": {
   "codemirror_mode": {
    "name": "ipython",
    "version": 3
   },
   "file_extension": ".py",
   "mimetype": "text/x-python",
   "name": "python",
   "nbconvert_exporter": "python",
   "pygments_lexer": "ipython3",
   "version": "3.7.6"
  }
 },
 "nbformat": 4,
 "nbformat_minor": 5
}
