{
 "cells": [
  {
   "cell_type": "code",
   "execution_count": 2,
   "metadata": {},
   "outputs": [
    {
     "data": {
      "text/html": [
       "<p>To authorize access needed by Earth Engine, open the following\n",
       "        URL in a web browser and follow the instructions:</p>\n",
       "        <p><a href=https://code.earthengine.google.com/client-auth?scopes=https%3A//www.googleapis.com/auth/earthengine%20https%3A//www.googleapis.com/auth/devstorage.full_control&request_id=r1xDSBJ0racZJ1dbjCkqs_x0CcEN5NoAMngc3BkqSJ8&tc=0965gogrmgVXyJBkvWSjm3Ufzk-Cd8O3Gsynib3yVic&cc=TmlPgfmoVZ5aahVpttw5Agcshy5VJEMpn_um8uZ2jOU>https://code.earthengine.google.com/client-auth?scopes=https%3A//www.googleapis.com/auth/earthengine%20https%3A//www.googleapis.com/auth/devstorage.full_control&request_id=r1xDSBJ0racZJ1dbjCkqs_x0CcEN5NoAMngc3BkqSJ8&tc=0965gogrmgVXyJBkvWSjm3Ufzk-Cd8O3Gsynib3yVic&cc=TmlPgfmoVZ5aahVpttw5Agcshy5VJEMpn_um8uZ2jOU</a></p>\n",
       "        <p>The authorization workflow will generate a code, which you\n",
       "        should paste in the box below</p>\n",
       "        "
      ],
      "text/plain": [
       "<IPython.core.display.HTML object>"
      ]
     },
     "metadata": {},
     "output_type": "display_data"
    },
    {
     "name": "stdout",
     "output_type": "stream",
     "text": [
      "Enter verification code: 4/1AX4XfWhuRf7TqBJPb-ESGSP9owIXlFiEvstzlneuZOecRyBBwE1rH1BpwhQ\n",
      "\n",
      "Successfully saved authorization token.\n"
     ]
    }
   ],
   "source": [
    "import ee\n",
    "\n",
    "# Trigger the authentication flow.\n",
    "ee.Authenticate()\n",
    "\n",
    "# Initialize the library.\n",
    "ee.Initialize()"
   ]
  },
  {
   "cell_type": "code",
   "execution_count": 3,
   "metadata": {},
   "outputs": [],
   "source": [
    "\n",
    "# Import the MODIS land cover collection.\n",
    "lc = ee.ImageCollection('MODIS/006/MCD12Q1')\n",
    "\n",
    "# Import the MODIS land surface temperature collection.\n",
    "lst = ee.ImageCollection('MODIS/006/MOD11A1')\n",
    "\n",
    "# Import the USGS ground elevation image.\n",
    "elv = ee.Image('USGS/SRTMGL1_003')\n",
    "\n",
    "# Import JRC Global Surface Water\n",
    "water = ee.Image(\"JRC/GSW1_2/GlobalSurfaceWater\")\n",
    "\n",
    "# Wetness\n",
    "wetness = ee.ImageCollection('Oxford/MAP/TCW_5km_Monthly')\n",
    "wetness_img = wetness.mean()\n",
    "wetness_img = wetness_img.select('Mean')\n",
    "# Import the MODIS EVI\n",
    "evi = ee.ImageCollection('MODIS/MOD09GA_006_EVI')\n",
    "evi_img = evi.mean()\n",
    "\n",
    "# Initial date of interest (inclusive).\n",
    "i_date = '2017-01-01'\n",
    "\n",
    "# Final date of interest (exclusive).\n",
    "f_date = '2020-01-01'\n",
    "\n",
    "# Selection of appropriate bands and dates for LST.\n",
    "lst = lst.select('LST_Day_1km', 'QC_Day').filterDate(i_date, f_date)\n",
    "\n",
    "# Reduce the LST collection by mean.\n",
    "lst_img = lst.mean()\n",
    "\n",
    "# Adjust for scale factor.\n",
    "lst_img = lst_img.select('LST_Day_1km').multiply(0.02)\n",
    "\n",
    "# Convert Kelvin to Celsius.\n",
    "lst_img = lst_img.select('LST_Day_1km').add(-273.15)\n",
    "\n",
    "# Create a geodesic polygon.\n",
    "xmin, xmax, ymin, ymax = -87.93044, -85.23703, 31.82364, 35.0167\n",
    "\n",
    "polygon = ee.Geometry.Polygon(coords = [[[xmin,ymin], [xmin,ymax ], [xmax,ymin], [xmax,ymax ]]])\n"
   ]
  },
  {
   "cell_type": "code",
   "execution_count": 4,
   "metadata": {},
   "outputs": [
    {
     "name": "stdout",
     "output_type": "stream",
     "text": [
      "https://earthengine.googleapis.com/v1alpha/projects/earthengine-legacy/thumbnails/2df16ac3a7068bf8e56c0155bccf907a-e285100205332b1b74e24efb123a973c:getPixels\n",
      "\n",
      "Please wait while the thumbnail loads, it may take a moment...\n"
     ]
    },
    {
     "data": {
      "text/html": [
       "<img src=\"https://earthengine.googleapis.com/v1alpha/projects/earthengine-legacy/thumbnails/2df16ac3a7068bf8e56c0155bccf907a-e285100205332b1b74e24efb123a973c:getPixels\"/>"
      ],
      "text/plain": [
       "<IPython.core.display.Image object>"
      ]
     },
     "execution_count": 4,
     "metadata": {},
     "output_type": "execute_result"
    }
   ],
   "source": [
    "\n",
    "from IPython.display import Image\n",
    "\n",
    "# Create a URL to the styled image for a region around France.\n",
    "url = lst_img.getThumbUrl({\n",
    "    'min': 10, 'max': 30, 'dimensions': 512, 'region': polygon,\n",
    "    'palette': ['blue', 'yellow', 'orange', 'red']})\n",
    "print(url)\n",
    "\n",
    "# Display the thumbnail land surface temperature in France.\n",
    "print('\\nPlease wait while the thumbnail loads, it may take a moment...')\n",
    "Image(url=url)"
   ]
  },
  {
   "cell_type": "code",
   "execution_count": 5,
   "metadata": {},
   "outputs": [
    {
     "data": {
      "text/html": [
       "<img src=\"https://earthengine.googleapis.com/v1alpha/projects/earthengine-legacy/thumbnails/54f606a49e87cb7d8e172589879a0985-1349956f45ebffce84678e799f170586:getPixels\"/>"
      ],
      "text/plain": [
       "<IPython.core.display.Image object>"
      ]
     },
     "execution_count": 5,
     "metadata": {},
     "output_type": "execute_result"
    }
   ],
   "source": [
    "\n",
    "# Make pixels with elevation below sea level transparent.\n",
    "elv_img = elv.updateMask(elv.gt(0))\n",
    "\n",
    "# Display the thumbnail of styled elevation in France.\n",
    "Image(url=elv_img.getThumbURL({\n",
    "    'min': 0, 'max': 2000, 'dimensions': 512, 'region': polygon,\n",
    "    'palette': ['006633', 'E5FFCC', '662A00', 'D8D8D8', 'F5F5F5']}))\n"
   ]
  },
  {
   "cell_type": "code",
   "execution_count": 6,
   "metadata": {},
   "outputs": [
    {
     "data": {
      "text/html": [
       "<img src=\"https://earthengine.googleapis.com/v1alpha/projects/earthengine-legacy/thumbnails/71355d3b12fa9330403f7296ec5c5e56-89537179d3812ace72a318a8b7a06c69:getPixels\"/>"
      ],
      "text/plain": [
       "<IPython.core.display.Image object>"
      ]
     },
     "execution_count": 6,
     "metadata": {},
     "output_type": "execute_result"
    }
   ],
   "source": [
    "Image(url=wetness_img.getThumbURL({\n",
    "    'min': -0.6, 'max': 0.5,  'region': polygon,\n",
    "    'palette': ['ffffff', 'fcd163', '99b718', '66a000', '3e8601', '207401', '056201','004c00', '011301']}))"
   ]
  },
  {
   "cell_type": "code",
   "execution_count": 52,
   "metadata": {},
   "outputs": [],
   "source": [
    "task_wetness = ee.batch.Export.image.toDrive(image=wetness_img,\n",
    "                                     description='wetness_gallopavo_1000',\n",
    "                                     scale=1000,\n",
    "                                     region=polygon,\n",
    "                                     fileNamePrefix='wetness_gallopavo_1000',\n",
    "                                     crs='EPSG:32616',\n",
    "                                     fileFormat='GeoTIFF')\n",
    "task_wetness.start()"
   ]
  },
  {
   "cell_type": "code",
   "execution_count": 53,
   "metadata": {},
   "outputs": [
    {
     "data": {
      "text/plain": [
       "{'state': 'READY',\n",
       " 'description': 'wetness_gallopavo_1000',\n",
       " 'creation_timestamp_ms': 1654385009164,\n",
       " 'update_timestamp_ms': 1654385009164,\n",
       " 'start_timestamp_ms': 0,\n",
       " 'task_type': 'EXPORT_IMAGE',\n",
       " 'id': 'LQMWLY5P3SA4Z5WBDVIZEXZA',\n",
       " 'name': 'projects/earthengine-legacy/operations/LQMWLY5P3SA4Z5WBDVIZEXZA'}"
      ]
     },
     "execution_count": 53,
     "metadata": {},
     "output_type": "execute_result"
    }
   ],
   "source": [
    "task_wetness.status()"
   ]
  },
  {
   "cell_type": "code",
   "execution_count": 55,
   "metadata": {},
   "outputs": [],
   "source": [
    "task_evi = ee.batch.Export.image.toDrive(image=evi_img,\n",
    "                                     description='evi_gallopavo_1000',\n",
    "                                     scale=1000,\n",
    "                                     region=polygon,\n",
    "                                     fileNamePrefix='evi_gallopavo_1000',\n",
    "                                     crs='EPSG:32616',\n",
    "                                     fileFormat='GeoTIFF')\n",
    "task_evi.start()\n"
   ]
  },
  {
   "cell_type": "code",
   "execution_count": 56,
   "metadata": {},
   "outputs": [
    {
     "data": {
      "text/plain": [
       "{'state': 'READY',\n",
       " 'description': 'evi_gallopavo_1000',\n",
       " 'creation_timestamp_ms': 1654385032077,\n",
       " 'update_timestamp_ms': 1654385032077,\n",
       " 'start_timestamp_ms': 0,\n",
       " 'task_type': 'EXPORT_IMAGE',\n",
       " 'id': 'G3Z467YB2VYU3J7WWGQ4HXML',\n",
       " 'name': 'projects/earthengine-legacy/operations/G3Z467YB2VYU3J7WWGQ4HXML'}"
      ]
     },
     "execution_count": 56,
     "metadata": {},
     "output_type": "execute_result"
    }
   ],
   "source": [
    "task_evi.status()\n"
   ]
  },
  {
   "cell_type": "code",
   "execution_count": 57,
   "metadata": {},
   "outputs": [],
   "source": [
    "task_lst = ee.batch.Export.image.toDrive(image=lst_img,\n",
    "                                     description='lst_gallopavo_1000',\n",
    "                                     scale=1000,\n",
    "                                     region=polygon,\n",
    "                                     fileNamePrefix='lst_gallopavo_1000',\n",
    "                                     crs='EPSG:32616',\n",
    "                                     fileFormat='GeoTIFF')\n",
    "task_lst.start()\n"
   ]
  },
  {
   "cell_type": "code",
   "execution_count": 58,
   "metadata": {},
   "outputs": [
    {
     "data": {
      "text/plain": [
       "{'state': 'READY',\n",
       " 'description': 'lst_gallopavo_1000',\n",
       " 'creation_timestamp_ms': 1654385044401,\n",
       " 'update_timestamp_ms': 1654385044401,\n",
       " 'start_timestamp_ms': 0,\n",
       " 'task_type': 'EXPORT_IMAGE',\n",
       " 'id': 'QFJZC52PCW222AE2R5MWMYCG',\n",
       " 'name': 'projects/earthengine-legacy/operations/QFJZC52PCW222AE2R5MWMYCG'}"
      ]
     },
     "execution_count": 58,
     "metadata": {},
     "output_type": "execute_result"
    }
   ],
   "source": [
    "task_lst.status()"
   ]
  },
  {
   "cell_type": "code",
   "execution_count": 59,
   "metadata": {},
   "outputs": [],
   "source": [
    "task_elv = ee.batch.Export.image.toDrive(image=elv_img,\n",
    "                                     description='elv_gallopavo_1000',\n",
    "                                     scale=1000,\n",
    "                                     region=polygon,\n",
    "                                     fileNamePrefix='elv_gallopavo_1000',\n",
    "                                     crs='EPSG:32616',\n",
    "                                     fileFormat='GeoTIFF')\n",
    "task_elv.start()\n"
   ]
  },
  {
   "cell_type": "code",
   "execution_count": 60,
   "metadata": {},
   "outputs": [
    {
     "data": {
      "text/plain": [
       "{'state': 'READY',\n",
       " 'description': 'elv_gallopavo_1000',\n",
       " 'creation_timestamp_ms': 1654385059700,\n",
       " 'update_timestamp_ms': 1654385059700,\n",
       " 'start_timestamp_ms': 0,\n",
       " 'task_type': 'EXPORT_IMAGE',\n",
       " 'id': 'K25QJF3SU7LUEIWSUKSQGYIX',\n",
       " 'name': 'projects/earthengine-legacy/operations/K25QJF3SU7LUEIWSUKSQGYIX'}"
      ]
     },
     "execution_count": 60,
     "metadata": {},
     "output_type": "execute_result"
    }
   ],
   "source": [
    "task_elv.status()"
   ]
  },
  {
   "cell_type": "code",
   "execution_count": null,
   "metadata": {},
   "outputs": [],
   "source": []
  },
  {
   "cell_type": "code",
   "execution_count": null,
   "metadata": {},
   "outputs": [],
   "source": []
  },
  {
   "cell_type": "code",
   "execution_count": null,
   "metadata": {},
   "outputs": [],
   "source": []
  }
 ],
 "metadata": {
  "kernelspec": {
   "display_name": "Python 3",
   "language": "python",
   "name": "python3"
  },
  "language_info": {
   "codemirror_mode": {
    "name": "ipython",
    "version": 3
   },
   "file_extension": ".py",
   "mimetype": "text/x-python",
   "name": "python",
   "nbconvert_exporter": "python",
   "pygments_lexer": "ipython3",
   "version": "3.7.6"
  }
 },
 "nbformat": 4,
 "nbformat_minor": 5
}
