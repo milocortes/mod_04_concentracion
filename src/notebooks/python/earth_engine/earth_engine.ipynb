{
 "cells": [
  {
   "cell_type": "code",
   "execution_count": 4,
   "id": "1b101ee8",
   "metadata": {},
   "outputs": [
    {
     "data": {
      "text/html": [
       "<p>To authorize access needed by Earth Engine, open the following\n",
       "        URL in a web browser and follow the instructions:</p>\n",
       "        <p><a href=https://code.earthengine.google.com/client-auth?scopes=https%3A//www.googleapis.com/auth/earthengine%20https%3A//www.googleapis.com/auth/devstorage.full_control&request_id=MKCy2yw-jmULwhLUOfrFEkfRY1IhzfpbIVFgsYVQQtU&tc=_ErF_JN1WgUdUh8-CO0i0Ae5R5yUAnQMoIRjzD79bPs&cc=KNvOhw9cLKSYRfc9Hz_2eQyxn5zFFV7inr6WPkaVIRM>https://code.earthengine.google.com/client-auth?scopes=https%3A//www.googleapis.com/auth/earthengine%20https%3A//www.googleapis.com/auth/devstorage.full_control&request_id=MKCy2yw-jmULwhLUOfrFEkfRY1IhzfpbIVFgsYVQQtU&tc=_ErF_JN1WgUdUh8-CO0i0Ae5R5yUAnQMoIRjzD79bPs&cc=KNvOhw9cLKSYRfc9Hz_2eQyxn5zFFV7inr6WPkaVIRM</a></p>\n",
       "        <p>The authorization workflow will generate a code, which you should paste in the box below.</p>\n",
       "        "
      ],
      "text/plain": [
       "<IPython.core.display.HTML object>"
      ]
     },
     "metadata": {},
     "output_type": "display_data"
    },
    {
     "name": "stdout",
     "output_type": "stream",
     "text": [
      "Enter verification code: 4/1ARtbsJo3ac0k-62H7AQSEPbLJv-G5w7YPuKr0rOVMNUfwKYxm3s6mUHLquk\n",
      "\n",
      "Successfully saved authorization token.\n"
     ]
    }
   ],
   "source": [
    "#conda install -c conda-forge earthengine-api\n",
    "import ee\n",
    "\n",
    "# Trigger the authentication flow.\n",
    "ee.Authenticate()\n",
    "\n",
    "# Initialize the library.\n",
    "ee.Initialize()"
   ]
  },
  {
   "cell_type": "code",
   "execution_count": 12,
   "id": "163e081d",
   "metadata": {},
   "outputs": [
    {
     "data": {
      "text/html": [
       "<img src=\"https://earthengine.googleapis.com/v1alpha/projects/earthengine-legacy/thumbnails/64e44f6f95716455885262ec501f1cfd-76006f722806036f7d4c387b6812860d:getPixels\"/>"
      ],
      "text/plain": [
       "<IPython.core.display.Image object>"
      ]
     },
     "execution_count": 12,
     "metadata": {},
     "output_type": "execute_result"
    }
   ],
   "source": [
    "from IPython.display import Image\n",
    "\n",
    "# Import GPM: Monthly Global Precipitation Measurement (GPM) v6 \n",
    "gpm = ee.ImageCollection('NASA/GPM_L3/IMERG_MONTHLY_V06').filterDate('2019-01-01', '2020-01-01')\n",
    "\n",
    "precipitation = gpm.select('precipitation').max()\n",
    "mask = precipitation.gt(0)\n",
    "precipitation = precipitation.updateMask(mask)\n",
    "\n",
    "# Create a geodesic polygon.\n",
    "xmin, xmax, ymin, ymax = -99.364924, -98.940303, 19.048237, 19.592757\n",
    "\n",
    "polygon = ee.Geometry.Polygon(coords = [[[xmin,ymin], [xmin,ymax ], [xmax,ymin], [xmax,ymax ]]])\n",
    "\n",
    "# Display the thumbnail of styled elevation in France.\n",
    "Image(url=precipitation.getThumbURL({\n",
    "    'min': 0, 'max': 1.5, 'dimensions': 512, 'region': polygon,\n",
    "    'palette': [ '000096','0064ff', '00b4ff', '33db80', '9beb4a','ffeb00', 'ffb300', 'ff6400', 'eb1e00', 'af0000']}))\n"
   ]
  },
  {
   "cell_type": "code",
   "execution_count": null,
   "id": "9c8e8458",
   "metadata": {},
   "outputs": [],
   "source": [
    "\"\"\"\n",
    "task_wetness = ee.batch.Export.image.toDrive(image=wetness_img,\n",
    "                                     description='wetness_gallopavo_1000',\n",
    "                                     scale=1000,\n",
    "                                     region=polygon,\n",
    "                                     fileNamePrefix='wetness_gallopavo_1000',\n",
    "                                     crs='EPSG:32616',\n",
    "                                     fileFormat='GeoTIFF')\n",
    "task_wetness.start()\n",
    "\"\"\""
   ]
  },
  {
   "cell_type": "code",
   "execution_count": null,
   "id": "29727a95",
   "metadata": {},
   "outputs": [],
   "source": [
    "#task_wetness.status()"
   ]
  },
  {
   "cell_type": "code",
   "execution_count": null,
   "id": "547e36bf",
   "metadata": {},
   "outputs": [],
   "source": []
  },
  {
   "cell_type": "code",
   "execution_count": 52,
   "id": "6857aaaf",
   "metadata": {},
   "outputs": [],
   "source": []
  },
  {
   "cell_type": "code",
   "execution_count": null,
   "id": "4fdd70e8",
   "metadata": {},
   "outputs": [],
   "source": []
  },
  {
   "cell_type": "code",
   "execution_count": null,
   "id": "e47b7d71",
   "metadata": {},
   "outputs": [],
   "source": []
  },
  {
   "cell_type": "code",
   "execution_count": null,
   "id": "0dff2bf3",
   "metadata": {},
   "outputs": [],
   "source": []
  },
  {
   "cell_type": "code",
   "execution_count": null,
   "id": "64588c72",
   "metadata": {},
   "outputs": [],
   "source": []
  },
  {
   "cell_type": "code",
   "execution_count": null,
   "id": "414d23df",
   "metadata": {},
   "outputs": [],
   "source": []
  },
  {
   "cell_type": "code",
   "execution_count": 59,
   "id": "2e22f4dd",
   "metadata": {},
   "outputs": [],
   "source": []
  },
  {
   "cell_type": "code",
   "execution_count": null,
   "id": "8d69f72f",
   "metadata": {},
   "outputs": [],
   "source": []
  },
  {
   "cell_type": "code",
   "execution_count": null,
   "id": "8f764443",
   "metadata": {},
   "outputs": [],
   "source": []
  },
  {
   "cell_type": "code",
   "execution_count": null,
   "id": "13a2d437",
   "metadata": {},
   "outputs": [],
   "source": []
  },
  {
   "cell_type": "code",
   "execution_count": null,
   "id": "c0fe8f40",
   "metadata": {},
   "outputs": [],
   "source": []
  }
 ],
 "metadata": {
  "kernelspec": {
   "display_name": "Python 3 (ipykernel)",
   "language": "python",
   "name": "python3"
  },
  "language_info": {
   "codemirror_mode": {
    "name": "ipython",
    "version": 3
   },
   "file_extension": ".py",
   "mimetype": "text/x-python",
   "name": "python",
   "nbconvert_exporter": "python",
   "pygments_lexer": "ipython3",
   "version": "3.7.13"
  }
 },
 "nbformat": 4,
 "nbformat_minor": 5
}
