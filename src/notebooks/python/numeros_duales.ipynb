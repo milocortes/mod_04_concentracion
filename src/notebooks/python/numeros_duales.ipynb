{
 "cells": [
  {
   "cell_type": "markdown",
   "metadata": {},
   "source": [
    "# Diferenciación automática\n",
    "\n",
    "<a href=\"https://colab.research.google.com/github/milocortes/mod_04_concentracion/blob/ccm-2024/src/notebooks/python/numeros_duales.ipynb\" target=\"_parent\"><img src=\"https://colab.research.google.com/assets/colab-badge.svg\" alt=\"Open In Colab\"/></a>\n",
    "\n",
    "\n",
    "* [Algorithms for Optimization, sección 2.4](https://algorithmsbook.com/optimization/files/optimization.pdf)\n",
    "* [Introduction to Automatic Differentiation and MATLAB Object-Oriented Programming](https://epubs.siam.org/doi/10.1137/080743627)"
   ]
  },
  {
   "cell_type": "markdown",
   "metadata": {},
   "source": [
    "La [diferenciación automática](https://en.wikipedia.org/wiki/Automatic_differentiation) es un método para evaluar derivadas de funciones representadas como programas usualamente conocido como gráfica de cómputo.[[Automatic Differentiation in Machine Learning: a Survey, Baydin et. al, 2018](https://arxiv.org/abs/1502.05767)]. El programa está compuesto por operaciones elementales como sumas, restas, multiplicaciones y divisiones. \n",
    "\n",
    "Una gráfica de cómputo representa una función donde los nodos son operaciones y las aristas son relaciones de entrada-salida. Los nodos hoja de una gráfica computacional son variables de entrada o constantes, y los nodos terminales son valores de salida de la función. \n",
    "\n",
    "Hay dos métodos de diferenciación automática usando una gráfica de cómputo.\n",
    "\n",
    "* **Forward accumulation** : el método usa **números duales** para recorrer el árbol desde las entradas hasta las salidas.\n",
    "* **Backward accumulation** : recorre el árbol de las salidas a las entradas.\n",
    "\n",
    "## Forward accumulation\n",
    "\n",
    "Para la función:\n",
    "\n",
    "$$\n",
    "    \\begin{equation}\n",
    "        6x^2 - 12x +3\n",
    "    \\end{equation}\n",
    "$$\n",
    "\n",
    "La gráfica de cómputo asociada a esta función es la siguiente:\n",
    "\n",
    "Para calcular el valor de la función y de su derivada en el punto $x=3$, recorreríamos la gráfica de la siguiente manera:\n",
    "\n",
    "![Diferenciación automática](compu_graph_one_dim.png)\n",
    "\n",
    "La gráfica de cómputo tomaría la siguiente configuración inicial:\n",
    "\n",
    "![Diferenciación automática. Configuración inicial](config_compu_graph_one_dim.png)\n"
   ]
  },
  {
   "cell_type": "markdown",
   "metadata": {},
   "source": [
    "## Implementación de números duales\n",
    "\n",
    "Todos los datos en un programa Python están representados por objetos o por relaciones entre objetos (ver : https://docs.python.org/3/reference/datamodel.html).\n",
    "\n",
    "Nosotros podemos modificar estas relaciones entre objetos al modificar los denominados \"atributos especiales\".\n",
    "\n",
    "Estos son atributos proporcionan acceso a la implementación de operaciones entre clases y podemos modificarlos \n",
    "(sobrecargarlos).\n",
    "\n",
    "Estos atributos especiales inicial con **__** y terminan de la misma forma con **__**.\n",
    "\n",
    "Para la implementación de números duales nos interesan los atributos especiales que pueden ser definidos \n",
    "para emular objetos numéricos y operaciones entre estos objetos numéricos.\n",
    "\n",
    "Por ejemplo, para evaluar la expresión x + y, donde x es una instancia de una clase que tiene el método especial\n",
    "**__**add**__()**,  se llama al método x.**__**add**__**(x,y).\n",
    "\n",
    "Por ejemplo, las siguientes operaciones son equivalentes:\n",
    "* 4.7 + 6.8\n",
    "* 4.7.**__**add**__**(6.8)\n",
    "    \n",
    "Con el objetivo de implementar el método Forward Accumulation de diferenciación automática, \n",
    "el cual diferencía una función al recorrer \"hacia adelante\" la gráfica computacional de la función (\n",
    "Una gráfica computacional representa una función donde los nodos representan operaciones y las aristas relaciones \n",
    "de entrada-salida).\n",
    "\n",
    "El recorrido a través de la gráfica computacional puede ser automatizado al sobrecargar cada operación aritmética que  produce el valor de la función y de su derivada. Esto es, tenemos que sobrecargar las reglas de derivación para la suma, resta, división, regla de la cadena, etc.\n"
   ]
  },
  {
   "cell_type": "code",
   "execution_count": null,
   "metadata": {},
   "outputs": [],
   "source": [
    "\n",
    "class Dual:\n",
    "    \"\"\"\n",
    "    Implementación de números duales.\n",
    "    \n",
    "    ...\n",
    "\n",
    "    Atributos\n",
    "    ----------\n",
    "    val : float\n",
    "        valor de la variable a evaluar en la función\n",
    "    der : float\n",
    "        valor de la dericaba de la variable a evaluar en la función\n",
    "\n",
    "    Métodos\n",
    "    -------\n",
    "    __add__()\n",
    "        sobrecarga la operación aritmética de suma\n",
    "    \n",
    "    __sub__()\n",
    "        sobrecarga la operación aritmética de resta\n",
    "        \n",
    "    \"\"\"\n",
    "    \n",
    "    def __init__(self, val, der):\n",
    "        self.val = val\n",
    "        self.der = der\n",
    "    \n",
    "    def __repr__(self):\n",
    "        return f\"Valor: {self.val}, Derivada: {self.der}\"\n",
    "    \n",
    "    ## Sobrecargamos el método de suma al incorporar las reglas de derivación para la suma. \n",
    "    \n",
    "    ## Para f(x) y g(x) \n",
    "    def __add__(self, other):\n",
    "        if isinstance(other, Dual):\n",
    "            return Dual(self.val + other.val, # f(x) + g(x)\n",
    "                        self.der + other.der) # fʼ(x) + gʼ(x)\n",
    "        else:\n",
    "            ## El otro objeto es una constante, no un número dual\n",
    "            return Dual(self.val + other, # f(x) + c\n",
    "                        self.der + 0) # fʼ(x) + 0\n",
    "\n",
    "    ## Para g(x) y f(x) \n",
    "    def __radd__(self, other):\n",
    "        if isinstance(other, Dual):\n",
    "            return Dual(self.val + other.val # g(x) + f(x)  \n",
    "                        , self.der + other.der) # gʼ(x) + fʼ(x)  \n",
    "        else:\n",
    "            return Dual(self.val + other, #  c + f(x)\n",
    "                        self.der + 0) # 0 + fʼ(x)\n",
    "\n",
    "    ## Sobrecargamos el método de resta al incorporar las reglas de derivación para la resta. \n",
    "    \n",
    "    ## Para f(x) y g(x) \n",
    "    def __sub__(self, other):\n",
    "        if isinstance(other, Dual):\n",
    "            return Dual(self.val - other.val, # f(x) - g(x)\n",
    "                        self.der - other.der) # fʼ(x) - gʼ(x)\n",
    "        else:\n",
    "            ## El otro objeto es una constante, no un número dual\n",
    "            return Dual(self.val - other, # f(x) - c\n",
    "                        self.der - 0) # fʼ(x) - 0\n",
    "\n",
    "    def __rsub__(self, other):\n",
    "        if isinstance(other, Dual):\n",
    "            return Dual(self.val - other.val, # g(x) - f(x)\n",
    "                        self.der - other.der) # gʼ(x) - fʼ(x)\n",
    "        else:\n",
    "            return Dual(self.val - other, #  c - f(x)\n",
    "                        self.der - 0) # 0 - fʼ(x)\n",
    "\n",
    "    ## Sobrecargamos el método de multiplicación al incorporar las reglas de derivación para la multiplicación. \n",
    "    def __mul__(self, other):\n",
    "        if isinstance(other, Dual):\n",
    "            return Dual(self.val * other.val, # f(x) * g(x)\n",
    "                        self.val * other.der + other.val * self.der ) # f(x) * gʼ(x) + g(x) * fʼ(x)  \n",
    "        else:\n",
    "            return Dual(self.val * other, # f(x) * c\n",
    "                        self.der * other) # fʼ(x) * c\n",
    "\n",
    "    def __rmul__(self, other):\n",
    "        if isinstance(other, Dual):\n",
    "            return Dual(self.val * other.val, # g(x) * f(x)  \n",
    "                        self.val * other.der + other.val * self.der ) # g(x) * fʼ(x) + f(x) * gʼ(x)   \n",
    "        else:\n",
    "            return Dual(self.val * other, self.der * other)\n",
    "\n",
    "    ## Sobrecargamos el método de potencia\n",
    "    def __pow__(self, a):\n",
    "        return Dual(self.val**a, # f(x)^a\n",
    "                    a* self.val**(a-1)) # a f(x)^(a-1)\n",
    "\n",
    "    ## Sobrecargamos el método de división\n",
    "    def __truediv__(self, other):\n",
    "        return Dual(self.val / other.val, # f(x)/g(x)\n",
    "                    (self.der*other.val - other.der*self.val)/(other.val)**2) # fʼ(x)*g(x) - gʼ(x)*f(x) / (g(x)^2)"
   ]
  },
  {
   "cell_type": "markdown",
   "metadata": {},
   "source": [
    "## Probemos la clase <code>Dual</code>\n",
    "\n",
    "### Función a)\n",
    "Para la función:\n",
    "\n",
    "$$\n",
    "    \\begin{equation}\n",
    "        6x^2 - 12x +3\n",
    "    \\end{equation}\n",
    "$$\n",
    "\n",
    "¿Cual es el valor de la función y de su derivada en el punto $x = 3$?"
   ]
  },
  {
   "cell_type": "code",
   "execution_count": null,
   "metadata": {},
   "outputs": [],
   "source": [
    "# Generamos un objeto Dual. El primer argumento del constructor es el valor de la variable a evaluar \n",
    "# y el segunfo argumento indica que se requiere evaluar en la derivada de la función.\n",
    "x = Dual(3,1)\n",
    "\n",
    "6*x**2 - 12*x + 3\n"
   ]
  },
  {
   "cell_type": "markdown",
   "metadata": {},
   "source": [
    "### Función b)\n",
    "\n",
    "Para la función:\n",
    "\n",
    "$$\n",
    "    \\begin{equation}\n",
    "        \\dfrac{x^2 + 3x}{x^3 + x^2 +2}\n",
    "    \\end{equation}\n",
    "$$\n",
    "\n",
    "¿Cual es el valor de la función y de su derivada en el punto $x = 3$?\n",
    "\n"
   ]
  },
  {
   "cell_type": "code",
   "execution_count": null,
   "metadata": {},
   "outputs": [],
   "source": [
    "(x**2 + x*3)/(x**3 + x**2 + 2)\n"
   ]
  },
  {
   "cell_type": "code",
   "execution_count": null,
   "metadata": {},
   "outputs": [],
   "source": [
    "# Verifiquemos el resultado anterior\n",
    "def f(x):\n",
    "    return (x**2 + x*3)/(x**3 + x*2 + 2)\n",
    "\n",
    "def df(x):\n",
    "    return (((2*x + 3)*(x**3 + x*2 + 2)) - ((x**2 + x*3)*(3*x**2 + 2)))/(x**3 + x*2 + 2)**2"
   ]
  },
  {
   "cell_type": "code",
   "execution_count": null,
   "metadata": {},
   "outputs": [],
   "source": [
    "f(3)"
   ]
  },
  {
   "cell_type": "code",
   "execution_count": null,
   "metadata": {},
   "outputs": [],
   "source": [
    "df(3)"
   ]
  },
  {
   "cell_type": "markdown",
   "metadata": {},
   "source": [
    "### Función c)\n",
    "\n",
    "Para la función:\n",
    "\n",
    "$$\n",
    "    \\begin{equation}\n",
    "        (4x^2 + 16x +3)^2\n",
    "    \\end{equation}\n",
    "$$\n",
    "\n",
    "¿Cual es el valor de la función y de su derivada en el punto $x = 3$?\n",
    "\n",
    "Tenemos que implementar la regla de la cadena de potencias para números duales."
   ]
  },
  {
   "cell_type": "code",
   "execution_count": null,
   "metadata": {},
   "outputs": [],
   "source": [
    "def chain_rule_power(dual_number, power):\n",
    "    return Dual(dual_number.val**power, # f(g(x))^a\n",
    "                power*(dual_number.val) * (dual_number.der) ) # a * f(x) *gʼ(x)"
   ]
  },
  {
   "cell_type": "code",
   "execution_count": null,
   "metadata": {},
   "outputs": [],
   "source": [
    "chain_rule_power(4*x**2 + 16*x +3, 2)\n"
   ]
  },
  {
   "cell_type": "code",
   "execution_count": null,
   "metadata": {},
   "outputs": [],
   "source": [
    "# Verifiquemos el resultado anterior\n",
    "def f(x):\n",
    "    return (4*x**2 + 16*x + 3)**2 \n",
    "\n",
    "def df(x):\n",
    "    return 2*(4*x**2 + 16*x +3)*(8*x + 16)"
   ]
  },
  {
   "cell_type": "code",
   "execution_count": null,
   "metadata": {},
   "outputs": [],
   "source": [
    "f(3)"
   ]
  },
  {
   "cell_type": "code",
   "execution_count": null,
   "metadata": {},
   "outputs": [],
   "source": [
    "df(3)"
   ]
  },
  {
   "cell_type": "markdown",
   "metadata": {},
   "source": [
    "## Gradiente con números duales\n",
    "\n",
    "Hasta el momento sólo hemos trabajado con funciones de una variable. Para extender el método de diferenciación automática con *forward accumulation* para funciones de varias variables, necesitamos agregar el cálculo del gradiente con números duales.\n",
    "\n",
    "Cuando consideramos funciones de varias variables, la gráfica de cómputo es prácticamente la misma que para el caso univariado, de manera que podemos extender el método *forward accumulation* sin grandes complicaciones. \n",
    "\n",
    "Considerando la función \n",
    "\n",
    "$$f(x,y) = 2x^3 + 3y^2 + c$$\n",
    "\n",
    "La gráfica de cómputo asociada es:\n",
    "\n",
    "<center><img src=\"https://raw.githubusercontent.com/bereml/iap/master/fig/autodiff_example.svg\" width=\"800\" align=\"center\"/></center>\n",
    "&nbsp;\n",
    "\n",
    "[Tomado del ejemplo de Bere y Ricardo](https://github.com/gibranfp/CursoAprendizajeProfundo/blob/2022-1/notebooks/1c_pytorch.ipynb)"
   ]
  },
  {
   "cell_type": "code",
   "execution_count": null,
   "metadata": {},
   "outputs": [],
   "source": [
    "import numpy as np\n",
    "\n",
    "def gradiente(f, *xs):\n",
    "    gs = []\n",
    "\n",
    "    for i,x in enumerate(xs):\n",
    "        if i == 0:\n",
    "            gs.append(f(Dual(x, 1), *xs[1:]))\n",
    "        else:\n",
    "            gs.append(f(*xs[:i], Dual(x,1), *xs[(i+1):]))\n",
    "\n",
    "    return np.array([g.der for g in gs])"
   ]
  },
  {
   "cell_type": "markdown",
   "metadata": {},
   "source": [
    "### Función d)\n",
    "\n",
    "Para la función:\n",
    "\n",
    "$$\n",
    "    \\begin{equation}\n",
    "        3x^2 + 10y^2\n",
    "    \\end{equation}\n",
    "$$\n",
    "\n",
    "¿Cual es el gradiente en el punto $(x,y) = (2,3)$?\n",
    "\n"
   ]
  },
  {
   "cell_type": "code",
   "execution_count": null,
   "metadata": {},
   "outputs": [],
   "source": [
    "def f(x,y):\n",
    "    return 3*x**2 + 10*y**2\n",
    "\n",
    "gradiente(f, 2, 3)"
   ]
  },
  {
   "cell_type": "markdown",
   "metadata": {},
   "source": [
    "### Función e) Himmelblau\n",
    "\n",
    "$$\n",
    "    \\begin{equation}\n",
    "        f(x,y) = (x^2 + y -11)^2 + (x + y^2 -7)^2\n",
    "    \\end{equation}\n",
    "$$\n",
    "\n",
    "con gradiente\n",
    "\n",
    "\n",
    "$$\n",
    "\\nabla f(x,y)=  \\begin{bmatrix}\n",
    "\\frac{\\partial f(x,y)}{\\partial x} \\\\\n",
    "\\frac{\\partial f(x,y)}{\\partial y}\n",
    "\\end{bmatrix} =\n",
    " \\begin{bmatrix}\n",
    "4x (x^2 + y - 11) + 2(x + y^2 - 7) \\\\\n",
    "2(x^2 + y - 11) + 4  y  (x + y^2 - 7)\n",
    "\\end{bmatrix} \n",
    "$$\n",
    "\n",
    "¿Cual es el gradiente en el punto $(x,y) = (-3,3)$?\n"
   ]
  },
  {
   "cell_type": "code",
   "execution_count": null,
   "metadata": {},
   "outputs": [],
   "source": [
    "def himmelblau_dual(x,y):\n",
    "    return chain_rule_power(x**2 + y -11, 2) + chain_rule_power(x + y**2 -7, 2)"
   ]
  },
  {
   "cell_type": "code",
   "execution_count": null,
   "metadata": {},
   "outputs": [],
   "source": [
    "gradiente(himmelblau_dual, -3, 3)"
   ]
  },
  {
   "cell_type": "code",
   "execution_count": null,
   "metadata": {},
   "outputs": [],
   "source": [
    "def himmelblau(x,y):\n",
    "    return (x**2 + y -11)**2 + (x + y**2 -7)**2\n",
    "\n",
    "def gradiente_himmelblau(x,y):\n",
    "    dx = 4 * x * (x**2 + y - 11) + 2 * (x + y**2 - 7)\n",
    "    dy = 2 * (x**2 + y - 11) + 4 * y * (x + y**2 - 7)\n",
    "    return np.array([dx,dy])\n",
    "\n",
    "xk_himm = [-3,3]\n",
    "\n",
    "himmelblau(*xk_himm)\n",
    "gradiente_himmelblau(*xk_himm)\n"
   ]
  },
  {
   "cell_type": "markdown",
   "metadata": {},
   "source": [
    "## Algoritmo de descenso de gradiente con números duales"
   ]
  },
  {
   "cell_type": "code",
   "execution_count": null,
   "metadata": {},
   "outputs": [],
   "source": [
    "# Definimos punto inicial de búsqueda\n",
    "x0 = np.array([-3,3])\n",
    "\n",
    "# Definimos la tasa de aprendizaje\n",
    "rho = 0.005\n",
    "\n",
    "# Definimos la cantidad de iteraciones\n",
    "n = 40\n",
    "\n",
    "xt = x0\n",
    "\n",
    "# Comenzamos las iteraciones\n",
    "for it in range(n):\n",
    "    print(f\"Iteración {it}. Evaluación del punto {xt} en la función: {himmelblau(*xt)}\")\n",
    "\n",
    "    ## Actualizamos xt con la regla de actualización de deepest descent\n",
    "    xt = xt - rho*gradiente(himmelblau_dual, *xt) \n"
   ]
  },
  {
   "cell_type": "markdown",
   "metadata": {},
   "source": [
    "## Función f) McCormick\n",
    "\n",
    "$$\n",
    "    \\begin{equation}\n",
    "        f(x,y) = \\sin(x+y) + (x-y)^2 - 1.5x + 2.5y + 1\n",
    "    \\end{equation}\n",
    "$$\n"
   ]
  },
  {
   "cell_type": "code",
   "execution_count": null,
   "metadata": {},
   "outputs": [],
   "source": [
    "import math\n",
    "\n",
    "\n",
    "def chain_rule_sin(dual_number):\n",
    "    return Dual(math.sin(dual_number.val), # sin(f(x))\n",
    "                math.cos(dual_number.val) * (dual_number.der) ) # cos(f(x)) * fʼ(x)\n",
    "\n",
    "def McCormick(x,y):\n",
    "    return math.sin(x+y) + (x-y)**2 - 1.5*x + 2.5*y + 1\n",
    "\n",
    "def McCormick_dual(x,y):\n",
    "    return chain_rule_sin(x+y) + chain_rule_power(x-y,2) - 1.5*x + 2.5*y + 1"
   ]
  },
  {
   "cell_type": "code",
   "execution_count": null,
   "metadata": {},
   "outputs": [],
   "source": [
    "# Definimos punto inicial de búsqueda\n",
    "x0 = np.array([-3,3])\n",
    "\n",
    "# Definimos la tasa de aprendizaje\n",
    "rho = 0.005\n",
    "\n",
    "# Definimos la cantidad de iteraciones\n",
    "n = 2000\n",
    "\n",
    "xt = x0\n",
    "\n",
    "# Comenzamos las iteraciones\n",
    "for it in range(n):\n",
    "    \n",
    "    if it % 100 == 0:\n",
    "        print(f\"Iteración {it}. Evaluación del punto {xt} en la función: {McCormick(*xt)}\")\n",
    "\n",
    "    ## Actualizamos xt con la regla de actualización de deepest descent\n",
    "    xt = xt - rho*gradiente(McCormick_dual, *xt) "
   ]
  }
 ],
 "metadata": {
  "kernelspec": {
   "display_name": "Python 3 (ipykernel)",
   "language": "python",
   "name": "python3"
  },
  "language_info": {
   "codemirror_mode": {
    "name": "ipython",
    "version": 3
   },
   "file_extension": ".py",
   "mimetype": "text/x-python",
   "name": "python",
   "nbconvert_exporter": "python",
   "pygments_lexer": "ipython3",
   "version": "3.10.13"
  }
 },
 "nbformat": 4,
 "nbformat_minor": 4
}
