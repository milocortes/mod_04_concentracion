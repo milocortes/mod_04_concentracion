{
 "cells": [
  {
   "cell_type": "markdown",
   "metadata": {},
   "source": [
    "# Diferenciación automática\n",
    "\n",
    "<a href=\"https://colab.research.google.com/github/milocortes/mod_04_concentracion/blob/ccm-2023/src/notebooks/python/numeros_duales.ipynb\" target=\"_parent\"><img src=\"https://colab.research.google.com/assets/colab-badge.svg\" alt=\"Open In Colab\"/></a>\n",
    "\n",
    "\n",
    "* [Algorithms for Optimization, sección 2.4](https://algorithmsbook.com/optimization/files/optimization.pdf)\n",
    "* [Introduction to Automatic Differentiation and MATLAB Object-Oriented Programming](https://epubs.siam.org/doi/10.1137/080743627)"
   ]
  },
  {
   "cell_type": "markdown",
   "metadata": {},
   "source": [
    "## Implementación de números duales\n",
    "\n",
    "Todos los datos en un programa Python están representados por objetos o por relaciones entre objetos (ver : https://docs.python.org/3/reference/datamodel.html).\n",
    "\n",
    "Nosotros podemos modificar estas relaciones entre objetos al modificar los denominados \"atributos especiales\".\n",
    "\n",
    "Estos son atributos proporcionan acceso a la implementación de operaciones entre clases y podemos modificarlos \n",
    "(sobrecargarlos).\n",
    "\n",
    "Estos atributos especiales inicial con **__** y terminan de la misma forma con **__**.\n",
    "\n",
    "Para la implementación de números duales nos interesan los atributos especiales que pueden ser definidos \n",
    "para emular objetos numéricos y operaciones entre estos objetos numéricos.\n",
    "\n",
    "Por ejemplo, para evaluar la expresión x + y, donde x es una instancia de una clase que tiene el método especial\n",
    "**__**add**__()**,  se llama al método x.**__**add**__**(x,y).\n",
    "\n",
    "Por ejemplo, las siguientes operaciones son equivalentes:\n",
    "* 4.7 + 6.8\n",
    "* 4.7.**__**add**__**(6.8)\n",
    "    \n",
    "Con el objetivo de implementar el método Forward Accumulation de diferenciación automática, \n",
    "el cual diferencía una función al recorrer \"hacia adelante\" la gráfica computacional de la función (\n",
    "Una gráfica computacional representa una función donde los nodos representan operaciones y las aristas relaciones \n",
    "de entrada-salida).\n",
    "\n",
    "El recorrido a través de la gráfica computacional puede ser automatizado al sobrecargar cada operación aritmética que  produce el valor de la función y de su derivada. Esto es, tenemos que sobrecargar las reglas de derivación para la suma, resta, división, regla de la cadena, etc.\n"
   ]
  },
  {
   "cell_type": "code",
   "execution_count": 1,
   "metadata": {},
   "outputs": [],
   "source": [
    "\n",
    "class Dual:\n",
    "    \"\"\"\n",
    "    Implementación de números duales.\n",
    "    \n",
    "    ...\n",
    "\n",
    "    Atributos\n",
    "    ----------\n",
    "    val : float\n",
    "        valor de la variable a evaluar en la función\n",
    "    der : float\n",
    "        valor de la dericaba de la variable a evaluar en la función\n",
    "\n",
    "    Métodos\n",
    "    -------\n",
    "    __add__()\n",
    "        sobrecarga la operación aritmética de suma\n",
    "    \n",
    "    __sub__()\n",
    "        sobrecarga la operación aritmética de resta\n",
    "        \n",
    "    \"\"\"\n",
    "    \n",
    "    def __init__(self, val, der):\n",
    "        self.val = val\n",
    "        self.der = der\n",
    "    \n",
    "    def __repr__(self):\n",
    "        return f\"Valor: {self.val}, Derivada: {self.der}\"\n",
    "    \n",
    "    ## Sobrecargamos el método de suma al incorporar las reglas de derivación para la suma. \n",
    "    \n",
    "    ## Para f(x) y g(x) \n",
    "    def __add__(self, other):\n",
    "        if isinstance(other, Dual):\n",
    "            return Dual(self.val + other.val, # f(x) + g(x)\n",
    "                        self.der + other.der) # f(x) + g(x)\n",
    "        else:\n",
    "            ## El otro objeto es una constante, no un número dual\n",
    "            return Dual(self.val + other, # f(x) + c\n",
    "                        self.der + 0) # fʼ(x) + 0\n",
    "\n",
    "    ## Para g(x) y f(x) \n",
    "    def __radd__(self, other):\n",
    "        if isinstance(other, Dual):\n",
    "            return Dual(self.val + other.val # g(x) + f(x)  \n",
    "                        , self.der + other.der) # gʼ(x) + fʼ(x)  \n",
    "        else:\n",
    "            return Dual(self.val + other, #  c + f(x)\n",
    "                        self.der + 0) # 0 + fʼ(x)\n",
    "\n",
    "    ## Sobrecargamos el método de resta al incorporar las reglas de derivación para la resta. \n",
    "    \n",
    "    ## Para f(x) y g(x) \n",
    "    def __sub__(self, other):\n",
    "        if isinstance(other, Dual):\n",
    "            return Dual(self.val - other.val, # f(x) - g(x)\n",
    "                        self.der - other.der) # f(x) - g(x)\n",
    "        else:\n",
    "            ## El otro objeto es una constante, no un número dual\n",
    "            return Dual(self.val - other, # f(x) - c\n",
    "                        self.der - 0) # fʼ(x) - 0\n",
    "\n",
    "    def __rsub__(self, other):\n",
    "        if isinstance(other, Dual):\n",
    "            return Dual(self.val - other.val, # g(x) - f(x)\n",
    "                        self.der - other.der) # gʼ(x) - fʼ(x)\n",
    "        else:\n",
    "            return Dual(self.val - other, #  c - f(x)\n",
    "                        self.der - 0) # 0 - fʼ(x)\n",
    "\n",
    "    ## Sobrecargamos el método de multiplicación al incorporar las reglas de derivación para la multiplicación. \n",
    "    def __mul__(self, other):\n",
    "        if isinstance(other, Dual):\n",
    "            return Dual(self.val * other.val, # f(x) * g(x)\n",
    "                        self.val * other.der + other.val * self.der ) # f(x) * gʼ(x) + g(x) * fʼ(x)  \n",
    "        else:\n",
    "            return Dual(self.val * other, # f(x) * c\n",
    "                        self.der * other) # fʼ(x) * c\n",
    "\n",
    "    def __rmul__(self, other):\n",
    "        if isinstance(other, Dual):\n",
    "            return Dual(self.val * other.val, # g(x) * f(x)  \n",
    "                        self.val * other.der + other.val * self.der ) # g(x) * fʼ(x) + f(x) * gʼ(x)   \n",
    "        else:\n",
    "            return Dual(self.val * other, self.der * other)\n",
    "\n",
    "    ## Sobrecargamos el método de potencia\n",
    "    def __pow__(self, a):\n",
    "        return Dual(self.val**a, # f(x)^a\n",
    "                    a* self.val**(a-1)) # a f(x)^(a-1)\n",
    "\n",
    "    ## Sobrecargamos el método de división\n",
    "    def __truediv__(self, other):\n",
    "        return Dual(self.val / other.val, # f(x)/g(x)\n",
    "                    (self.der*other.val - other.der*self.val)/(other.val)**2) # fʼ(x)*g(x) - gʼ(x)*f(x) / (g(x)^2)"
   ]
  },
  {
   "cell_type": "markdown",
   "metadata": {},
   "source": [
    "## Probemos la clase <code>Dual</code>\n",
    "\n",
    "### Función a)\n",
    "Para la función:\n",
    "\n",
    "$$\n",
    "    \\begin{equation}\n",
    "        6x^2 - 12x +3\n",
    "    \\end{equation}\n",
    "$$\n",
    "\n",
    "¿Cual es el valor de la función y de su derivada en el punto $x = 3$?"
   ]
  },
  {
   "cell_type": "code",
   "execution_count": 2,
   "metadata": {},
   "outputs": [
    {
     "data": {
      "text/plain": [
       "Valor: 21, Derivada: 24"
      ]
     },
     "execution_count": 2,
     "metadata": {},
     "output_type": "execute_result"
    }
   ],
   "source": [
    "# Generamos un objeto Dual. El primer argumento del constructor es el valor de la variable a evaluar \n",
    "# y el segunfo argumento indica que se requiere evaluar en la derivada de la función.\n",
    "x = Dual(3,1)\n",
    "\n",
    "6*x**2 - 12*x + 3\n"
   ]
  },
  {
   "cell_type": "markdown",
   "metadata": {},
   "source": [
    "### Función b)\n",
    "\n",
    "Para la función:\n",
    "\n",
    "$$\n",
    "    \\begin{equation}\n",
    "        \\dfrac{x^2 + 3x}{x^3 + x^2 +2}\n",
    "    \\end{equation}\n",
    "$$\n",
    "\n",
    "¿Cual es el valor de la función y de su derivada en el punto $x = 3$?\n",
    "\n"
   ]
  },
  {
   "cell_type": "code",
   "execution_count": 3,
   "metadata": {},
   "outputs": [
    {
     "data": {
      "text/plain": [
       "Valor: 0.5142857142857142, Derivada: -0.1689795918367347"
      ]
     },
     "execution_count": 3,
     "metadata": {},
     "output_type": "execute_result"
    }
   ],
   "source": [
    "(x**2 + x*3)/(x**3 + x*2 + 2)\n"
   ]
  },
  {
   "cell_type": "code",
   "execution_count": 4,
   "metadata": {},
   "outputs": [],
   "source": [
    "# Verifiquemos el resultado anterior\n",
    "def f(x):\n",
    "    return (x**2 + x*3)/(x**3 + x*2 + 2)\n",
    "\n",
    "def df(x):\n",
    "    return (((2*x + 3)*(x**3 + x*2 + 2)) - ((x**2 + x*3)*(3*x**2 + 2)))/(x**3 + x*2 + 2)**2"
   ]
  },
  {
   "cell_type": "code",
   "execution_count": 5,
   "metadata": {},
   "outputs": [
    {
     "data": {
      "text/plain": [
       "0.5142857142857142"
      ]
     },
     "execution_count": 5,
     "metadata": {},
     "output_type": "execute_result"
    }
   ],
   "source": [
    "f(3)"
   ]
  },
  {
   "cell_type": "code",
   "execution_count": 6,
   "metadata": {},
   "outputs": [
    {
     "data": {
      "text/plain": [
       "-0.1689795918367347"
      ]
     },
     "execution_count": 6,
     "metadata": {},
     "output_type": "execute_result"
    }
   ],
   "source": [
    "df(3)"
   ]
  },
  {
   "cell_type": "markdown",
   "metadata": {},
   "source": [
    "### Función c)\n",
    "\n",
    "Para la función:\n",
    "\n",
    "$$\n",
    "    \\begin{equation}\n",
    "        (4x^2 + 16x +3)^2\n",
    "    \\end{equation}\n",
    "$$\n",
    "\n",
    "¿Cual es el valor de la función y de su derivada en el punto $x = 3$?\n",
    "\n",
    "Tenemos que implementar la regla de la cadena de potencias para números duales."
   ]
  },
  {
   "cell_type": "code",
   "execution_count": 7,
   "metadata": {},
   "outputs": [],
   "source": [
    "def chain_rule_power(dual_number, power):\n",
    "    return Dual(dual_number.val**power, # f(g(x))^a\n",
    "                power*(dual_number.val) * (dual_number.der) ) # a * f(x) *gʼ(x)"
   ]
  },
  {
   "cell_type": "code",
   "execution_count": 8,
   "metadata": {},
   "outputs": [
    {
     "data": {
      "text/plain": [
       "Valor: 7569, Derivada: 6960"
      ]
     },
     "execution_count": 8,
     "metadata": {},
     "output_type": "execute_result"
    }
   ],
   "source": [
    "chain_rule_power(4*x**2 + 16*x +3, 2)\n"
   ]
  },
  {
   "cell_type": "code",
   "execution_count": 9,
   "metadata": {},
   "outputs": [],
   "source": [
    "# Verifiquemos el resultado anterior\n",
    "def f(x):\n",
    "    return (4*x**2 + 16*x + 3)**2 \n",
    "\n",
    "def df(x):\n",
    "    return 2*(4*x**2 + 16*x +3)*(8*x + 16)"
   ]
  },
  {
   "cell_type": "code",
   "execution_count": 10,
   "metadata": {},
   "outputs": [
    {
     "data": {
      "text/plain": [
       "7569"
      ]
     },
     "execution_count": 10,
     "metadata": {},
     "output_type": "execute_result"
    }
   ],
   "source": [
    "f(3)"
   ]
  },
  {
   "cell_type": "code",
   "execution_count": 11,
   "metadata": {},
   "outputs": [
    {
     "data": {
      "text/plain": [
       "6960"
      ]
     },
     "execution_count": 11,
     "metadata": {},
     "output_type": "execute_result"
    }
   ],
   "source": [
    "df(3)"
   ]
  },
  {
   "cell_type": "markdown",
   "metadata": {},
   "source": [
    "## Gradiente con números duales"
   ]
  },
  {
   "cell_type": "code",
   "execution_count": 12,
   "metadata": {},
   "outputs": [],
   "source": [
    "import numpy as np\n",
    "\n",
    "def gradiente(f, *xs):\n",
    "    gs = []\n",
    "\n",
    "    for i,x in enumerate(xs):\n",
    "        if i == 0:\n",
    "            gs.append(f(Dual(x, 1), *xs[1:]))\n",
    "        else:\n",
    "            gs.append(f(*xs[:i], Dual(x,1), *xs[(i+1):]))\n",
    "\n",
    "    return np.array([g.der for g in gs])"
   ]
  },
  {
   "cell_type": "markdown",
   "metadata": {},
   "source": [
    "### Función d)\n",
    "\n",
    "Para la función:\n",
    "\n",
    "$$\n",
    "    \\begin{equation}\n",
    "        3x^2 + 10y^2\n",
    "    \\end{equation}\n",
    "$$\n",
    "\n",
    "¿Cual es el gradiente en el punto $(x,y) = (2,3)$?\n",
    "\n"
   ]
  },
  {
   "cell_type": "code",
   "execution_count": 13,
   "metadata": {},
   "outputs": [
    {
     "data": {
      "text/plain": [
       "array([12, 60])"
      ]
     },
     "execution_count": 13,
     "metadata": {},
     "output_type": "execute_result"
    }
   ],
   "source": [
    "def f(x,y):\n",
    "    return 3*x**2 + 10*y**2\n",
    "\n",
    "gradiente(f, 2, 3)"
   ]
  },
  {
   "cell_type": "markdown",
   "metadata": {},
   "source": [
    "### Función e) Himmelblau\n",
    "\n",
    "$$\n",
    "    \\begin{equation}\n",
    "        f(x,y) = (x^2 + y -11)^2 + (x + y^2 -7)^2\n",
    "    \\end{equation}\n",
    "$$\n",
    "\n",
    "con gradiente\n",
    "\n",
    "\n",
    "$$\n",
    "\\nabla f(x,y)=  \\begin{bmatrix}\n",
    "\\frac{\\partial f(x,y)}{\\partial x} \\\\\n",
    "\\frac{\\partial f(x,y)}{\\partial y}\n",
    "\\end{bmatrix} =\n",
    " \\begin{bmatrix}\n",
    "4x (x^2 + y - 11) + 2(x + y^2 - 7) \\\\\n",
    "2(x^2 + y - 11) + 4  y  (x + y^2 - 7)\n",
    "\\end{bmatrix} \n",
    "$$\n",
    "\n",
    "¿Cual es el gradiente en el punto $(x,y) = (-3,3)$?\n"
   ]
  },
  {
   "cell_type": "code",
   "execution_count": 14,
   "metadata": {},
   "outputs": [],
   "source": [
    "def himmelblau_dual(x,y):\n",
    "    return chain_rule_power(x**2 + y -11, 2) + chain_rule_power(x + y**2 -7, 2)"
   ]
  },
  {
   "cell_type": "code",
   "execution_count": 15,
   "metadata": {},
   "outputs": [
    {
     "data": {
      "text/plain": [
       "array([-14, -10])"
      ]
     },
     "execution_count": 15,
     "metadata": {},
     "output_type": "execute_result"
    }
   ],
   "source": [
    "gradiente(himmelblau_dual, -3, 3)"
   ]
  },
  {
   "cell_type": "code",
   "execution_count": 16,
   "metadata": {},
   "outputs": [
    {
     "data": {
      "text/plain": [
       "array([-14, -10])"
      ]
     },
     "execution_count": 16,
     "metadata": {},
     "output_type": "execute_result"
    }
   ],
   "source": [
    "def himmelblau(x,y):\n",
    "    return (x**2 + y -11)**2 + (x + y**2 -7)**2\n",
    "\n",
    "def gradiente_himmelblau(x,y):\n",
    "    dx = 4 * x * (x**2 + y - 11) + 2 * (x + y**2 - 7)\n",
    "    dy = 2 * (x**2 + y - 11) + 4 * y * (x + y**2 - 7)\n",
    "    return np.array([dx,dy])\n",
    "\n",
    "xk_himm = [-3,3]\n",
    "\n",
    "himmelblau(*xk_himm)\n",
    "gradiente_himmelblau(*xk_himm)\n"
   ]
  },
  {
   "cell_type": "markdown",
   "metadata": {},
   "source": [
    "## Algoritmo de descenso de gradiente con números duales"
   ]
  },
  {
   "cell_type": "code",
   "execution_count": 17,
   "metadata": {},
   "outputs": [
    {
     "name": "stdout",
     "output_type": "stream",
     "text": [
      "Iteración 0. Evaluación del punto [-3  3] en la función: 2\n",
      "Iteración 1. Evaluación del punto [-2.93  3.05] en la función: 0.7968542600000039\n",
      "Iteración 2. Evaluación del punto [-2.88651986  3.0819285 ] en la función: 0.3220618813046645\n",
      "Iteración 3. Evaluación del punto [-2.85874142  3.10171959] en la función: 0.1318235619771682\n",
      "Iteración 4. Evaluación del punto [-2.84068776  3.11374733] en la función: 0.05468414954178047\n",
      "Iteración 5. Evaluación del punto [-2.82882375  3.12096118] en la función: 0.02299845409609426\n",
      "Iteración 6. Evaluación del punto [-2.82096899  3.12524855] en la función: 0.00980145301416703\n",
      "Iteración 7. Evaluación del punto [-2.81574181  3.12777958] en la función: 0.004228057614274932\n",
      "Iteración 8. Evaluación del punto [-2.81225059  3.12926563] en la función: 0.0018433373172307402\n",
      "Iteración 9. Evaluación del punto [-2.80991274  3.13013384] en la función: 0.0008109525058370222\n",
      "Iteración 10. Evaluación del punto [-2.80834425  3.13063859] en la función: 0.00035946263157802676\n",
      "Iteración 11. Evaluación del punto [-2.80729046  3.13093046] en la función: 0.0001603194404017555\n",
      "Iteración 12. Evaluación del punto [-2.80658172  3.13109821] en la función: 7.185875982341607e-05\n",
      "Iteración 13. Evaluación del punto [-2.80610466  3.13119392] en la función: 3.2337278791175515e-05\n",
      "Iteración 14. Evaluación del punto [-2.80578334  3.13124804] en la función: 1.4598318779205003e-05\n",
      "Iteración 15. Evaluación del punto [-2.8055668   3.13127831] en la función: 6.6067858786809745e-06\n",
      "Iteración 16. Evaluación del punto [-2.80542083  3.13129499] en la función: 2.9959520115640946e-06\n",
      "Iteración 17. Evaluación del punto [-2.80532238  3.13130402] en la función: 1.3606704569302788e-06\n",
      "Iteración 18. Evaluación del punto [-2.80525598  3.13130877] en la función: 6.187270123108911e-07\n",
      "Iteración 19. Evaluación del punto [-2.80521117  3.13131118] en la función: 2.816167919104636e-07\n",
      "Iteración 20. Evaluación del punto [-2.80518093  3.13131232] en la función: 1.282747711320663e-07\n",
      "Iteración 21. Evaluación del punto [-2.80516052  3.13131281] en la función: 5.846238370099914e-08\n",
      "Iteración 22. Evaluación del punto [-2.80514674  3.13131297] en la función: 2.6656862989315756e-08\n",
      "Iteración 23. Evaluación del punto [-2.80513744  3.13131298] en la función: 1.2158935493836594e-08\n",
      "Iteración 24. Evaluación del punto [-2.80513116  3.13131292] en la función: 5.547563290220412e-09\n",
      "Iteración 25. Evaluación del punto [-2.80512692  3.13131284] en la función: 2.531644853416862e-09\n",
      "Iteración 26. Evaluación del punto [-2.80512405  3.13131277] en la función: 1.1555174290877613e-09\n",
      "Iteración 27. Evaluación del punto [-2.80512212  3.13131271] en la función: 5.27481635831347e-10\n",
      "Iteración 28. Evaluación del punto [-2.80512081  3.13131266] en la función: 2.4081457431276183e-10\n",
      "Iteración 29. Evaluación del punto [-2.80511993  3.13131262] en la función: 1.0994942932108526e-10\n",
      "Iteración 30. Evaluación del punto [-2.80511933  3.13131259] en la función: 5.020307778899253e-11\n",
      "Iteración 31. Evaluación del punto [-2.80511893  3.13131257] en la función: 2.2923920734203332e-11\n",
      "Iteración 32. Evaluación del punto [-2.80511865  3.13131255] en la función: 1.0468006722851144e-11\n",
      "Iteración 33. Evaluación del punto [-2.80511847  3.13131254] en la función: 4.780265280502726e-12\n",
      "Iteración 34. Evaluación del punto [-2.80511835  3.13131254] en la función: 2.182981632532058e-12\n",
      "Iteración 35. Evaluación del punto [-2.80511826  3.13131253] en la función: 9.9691018598205e-13\n",
      "Iteración 36. Evaluación del punto [-2.80511821  3.13131253] en la función: 4.552690519780538e-13\n",
      "Iteración 37. Evaluación del punto [-2.80511817  3.13131252] en la función: 2.0791461493756968e-13\n",
      "Iteración 38. Evaluación del punto [-2.80511814  3.13131252] en la función: 9.495233505643813e-14\n",
      "Iteración 39. Evaluación del punto [-2.80511812  3.13131252] en la función: 4.336398727812796e-14\n"
     ]
    }
   ],
   "source": [
    "# Definimos punto inicial de búsqueda\n",
    "x0 = np.array([-3,3])\n",
    "\n",
    "# Definimos la tasa de aprendizaje\n",
    "rho = 0.005\n",
    "\n",
    "# Definimos la cantidad de iteraciones\n",
    "n = 40\n",
    "\n",
    "xt = x0\n",
    "\n",
    "# Comenzamos las iteraciones\n",
    "for it in range(n):\n",
    "    print(f\"Iteración {it}. Evaluación del punto {xt} en la función: {himmelblau(*xt)}\")\n",
    "\n",
    "    ## Actualizamos xt con la regla de actualización de deepest descent\n",
    "    xt = xt - rho*gradiente(himmelblau_dual, *xt) \n"
   ]
  },
  {
   "cell_type": "markdown",
   "metadata": {},
   "source": [
    "## Función f) McCormick\n",
    "\n",
    "$$\n",
    "    \\begin{equation}\n",
    "        f(x,y) = \\sin(x+y) + (x-y)^2 - 1.5x + 2.5y + 1\n",
    "    \\end{equation}\n",
    "$$\n"
   ]
  },
  {
   "cell_type": "code",
   "execution_count": 18,
   "metadata": {},
   "outputs": [],
   "source": [
    "import math\n",
    "\n",
    "\n",
    "def chain_rule_sin(dual_number):\n",
    "    return Dual(math.sin(dual_number.val), # sin(f(x))\n",
    "                math.cos(dual_number.val) * (dual_number.der) ) # cos(f(x)) * fʼ(x)\n",
    "\n",
    "def McCormick(x,y):\n",
    "    return math.sin(x+y) + (x-y)**2 - 1.5*x + 2.5*y + 1\n",
    "\n",
    "def McCormick_dual(x,y):\n",
    "    return chain_rule_sin(x+y) + chain_rule_power(x-y,2) - 1.5*x + 2.5*y + 1"
   ]
  },
  {
   "cell_type": "code",
   "execution_count": 19,
   "metadata": {},
   "outputs": [
    {
     "name": "stdout",
     "output_type": "stream",
     "text": [
      "Iteración 0. Evaluación del punto [-3  3] en la función: 49.0\n",
      "Iteración 100. Evaluación del punto [-0.58039781 -0.65206092] en la función: -0.6977277394619827\n",
      "Iteración 200. Evaluación del punto [-0.44344931 -1.32033368] en la función: -1.8481698356096556\n",
      "Iteración 300. Evaluación del punto [-0.48928077 -1.47295323] en la función: -1.9052119285408433\n",
      "Iteración 400. Evaluación del punto [-0.52116335 -1.518998  ] en la función: -1.9119316670562547\n",
      "Iteración 500. Evaluación del punto [-0.5360792  -1.53579203] en la función: -1.9130022515898073\n",
      "Iteración 600. Evaluación del punto [-0.54251518 -1.5424771 ] en la función: -1.9131846005345143\n",
      "Iteración 700. Evaluación del punto [-0.54523313 -1.54522808] en la función: -1.9132162487955142\n",
      "Iteración 800. Evaluación del punto [-0.54637421 -1.54637354] en la función: -1.9132217795142803\n",
      "Iteración 900. Evaluación del punto [-0.54685254 -1.54685245] en la función: -1.9132227487318807\n",
      "Iteración 1000. Evaluación del punto [-0.54705298 -1.54705297] en la función: -1.9132229187766616\n",
      "Iteración 1100. Evaluación del punto [-0.54713697 -1.54713697] en la función: -1.9132229486246795\n",
      "Iteración 1200. Evaluación del punto [-0.54717217 -1.54717217] en la función: -1.9132229538649743\n",
      "Iteración 1300. Evaluación del punto [-0.54718691 -1.54718691] en la función: -1.9132229547850694\n",
      "Iteración 1400. Evaluación del punto [-0.54719309 -1.54719309] en la función: -1.9132229549466264\n",
      "Iteración 1500. Evaluación del punto [-0.54719568 -1.54719568] en la función: -1.9132229549749944\n",
      "Iteración 1600. Evaluación del punto [-0.54719677 -1.54719677] en la función: -1.9132229549799753\n",
      "Iteración 1700. Evaluación del punto [-0.54719722 -1.54719722] en la función: -1.9132229549808502\n",
      "Iteración 1800. Evaluación del punto [-0.54719741 -1.54719741] en la función: -1.9132229549810038\n",
      "Iteración 1900. Evaluación del punto [-0.54719749 -1.54719749] en la función: -1.9132229549810305\n"
     ]
    }
   ],
   "source": [
    "# Definimos punto inicial de búsqueda\n",
    "x0 = np.array([-3,3])\n",
    "\n",
    "# Definimos la tasa de aprendizaje\n",
    "rho = 0.005\n",
    "\n",
    "# Definimos la cantidad de iteraciones\n",
    "n = 2000\n",
    "\n",
    "xt = x0\n",
    "\n",
    "# Comenzamos las iteraciones\n",
    "for it in range(n):\n",
    "    \n",
    "    if it % 100 == 0:\n",
    "        print(f\"Iteración {it}. Evaluación del punto {xt} en la función: {McCormick(*xt)}\")\n",
    "\n",
    "    ## Actualizamos xt con la regla de actualización de deepest descent\n",
    "    xt = xt - rho*gradiente(McCormick_dual, *xt) "
   ]
  }
 ],
 "metadata": {
  "kernelspec": {
   "display_name": "Python 3",
   "language": "python",
   "name": "python3"
  },
  "language_info": {
   "codemirror_mode": {
    "name": "ipython",
    "version": 3
   },
   "file_extension": ".py",
   "mimetype": "text/x-python",
   "name": "python",
   "nbconvert_exporter": "python",
   "pygments_lexer": "ipython3",
   "version": "3.7.6"
  }
 },
 "nbformat": 4,
 "nbformat_minor": 4
}
