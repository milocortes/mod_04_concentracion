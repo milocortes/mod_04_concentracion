{
 "cells": [
  {
   "cell_type": "markdown",
   "metadata": {
    "id": "Hpu0v-EF9DYL"
   },
   "source": [
    "# Introducción Python\n",
    "\n",
    "El contenido será:\n",
    "* **Tipos de datos**\n",
    "* Collecciones\n",
    "* Compresion de diccionarios, listas, tuplas\n",
    "* Definición de funciones\n",
    "* Estructuras de control\n",
    "\n",
    "\\begin{equation}\n",
    "    x^2 + \\beta^3 + Σ\n",
    "\\end{equation}"
   ]
  },
  {
   "cell_type": "code",
   "execution_count": 6,
   "metadata": {
    "colab": {
     "base_uri": "https://localhost:8080/"
    },
    "id": "ALpdoAHf_IVr",
    "outputId": "9d71b376-2f7b-4a3c-934d-57f062a4d03f"
   },
   "outputs": [
    {
     "data": {
      "text/plain": [
       "int"
      ]
     },
     "execution_count": 6,
     "metadata": {},
     "output_type": "execute_result"
    }
   ],
   "source": [
    "# Tipo de dato: Entero\n",
    "a = 1\n",
    "type(a)"
   ]
  },
  {
   "cell_type": "code",
   "execution_count": 7,
   "metadata": {
    "colab": {
     "base_uri": "https://localhost:8080/"
    },
    "id": "S-DxGLqI-sLZ",
    "outputId": "6ee87a41-bbed-4d00-d7d2-3df3ab26ec91"
   },
   "outputs": [
    {
     "data": {
      "text/plain": [
       "float"
      ]
     },
     "execution_count": 7,
     "metadata": {},
     "output_type": "execute_result"
    }
   ],
   "source": [
    "# Tipo de dato flotante\n",
    "b = 1.0\n",
    "type(b)"
   ]
  },
  {
   "cell_type": "code",
   "execution_count": 10,
   "metadata": {
    "colab": {
     "base_uri": "https://localhost:8080/"
    },
    "id": "wYvFHMLe_XLR",
    "outputId": "aa3add33-d786-4a86-8dca-fc4cd5c6602d"
   },
   "outputs": [
    {
     "data": {
      "text/plain": [
       "bool"
      ]
     },
     "execution_count": 10,
     "metadata": {},
     "output_type": "execute_result"
    }
   ],
   "source": [
    "# Tipo de dato lógico o booleano\n",
    "c = False\n",
    "type(c)"
   ]
  },
  {
   "cell_type": "code",
   "execution_count": 12,
   "metadata": {
    "colab": {
     "base_uri": "https://localhost:8080/"
    },
    "id": "3VJey-vu_gyU",
    "outputId": "a4863e1c-81e3-4afd-9e91-f69577b0f8ab"
   },
   "outputs": [
    {
     "data": {
      "text/plain": [
       "4"
      ]
     },
     "execution_count": 12,
     "metadata": {},
     "output_type": "execute_result"
    }
   ],
   "source": [
    "# Conversión de flotante a entero\n",
    "int(4.5)"
   ]
  },
  {
   "cell_type": "code",
   "execution_count": 14,
   "metadata": {
    "colab": {
     "base_uri": "https://localhost:8080/"
    },
    "id": "xWZ5k5UO_yW9",
    "outputId": "408e353a-4f10-4112-eab1-bbf4a1d0857c"
   },
   "outputs": [
    {
     "data": {
      "text/plain": [
       "str"
      ]
     },
     "execution_count": 14,
     "metadata": {},
     "output_type": "execute_result"
    }
   ],
   "source": [
    "# Tipo de dato cadena\n",
    "d = \"ITESM\"\n",
    "type(d)"
   ]
  },
  {
   "cell_type": "code",
   "execution_count": 16,
   "metadata": {
    "colab": {
     "base_uri": "https://localhost:8080/",
     "height": 36
    },
    "id": "XQaqD7Sf__jF",
    "outputId": "d2285eae-885b-4d99-e4b5-399990d5fb13"
   },
   "outputs": [
    {
     "data": {
      "application/vnd.google.colaboratory.intrinsic+json": {
       "type": "string"
      },
      "text/plain": [
       "'ITESM'"
      ]
     },
     "execution_count": 16,
     "metadata": {},
     "output_type": "execute_result"
    }
   ],
   "source": [
    "# Utilizamos el método lower para pasar a minúsculas el dato\n",
    "d.lower().upper()"
   ]
  },
  {
   "cell_type": "code",
   "execution_count": 18,
   "metadata": {
    "colab": {
     "base_uri": "https://localhost:8080/"
    },
    "id": "DKlmsKkLAg_g",
    "outputId": "270a9da6-3b0b-4678-cc23-4421c844653c"
   },
   "outputs": [
    {
     "data": {
      "text/plain": [
       "['Instituto', 'para', 'devolverle', 'al', 'pueblo', 'lo', 'robado']"
      ]
     },
     "execution_count": 18,
     "metadata": {},
     "output_type": "execute_result"
    }
   ],
   "source": [
    "e = \"Instituto para devolverle al pueblo lo robado\"\n",
    "e.split()"
   ]
  },
  {
   "cell_type": "code",
   "execution_count": 19,
   "metadata": {
    "colab": {
     "base_uri": "https://localhost:8080/"
    },
    "id": "PxF5_3iSBIEs",
    "outputId": "4f893b40-cafc-4e56-e284-417d49d4afd4"
   },
   "outputs": [
    {
     "data": {
      "text/plain": [
       "['censo_2020', 'csv']"
      ]
     },
     "execution_count": 19,
     "metadata": {},
     "output_type": "execute_result"
    }
   ],
   "source": [
    "f = \"censo_2020.csv\"\n",
    "f.split(\".\")"
   ]
  },
  {
   "cell_type": "code",
   "execution_count": 20,
   "metadata": {
    "colab": {
     "base_uri": "https://localhost:8080/"
    },
    "id": "7EzI_bKUBS5Q",
    "outputId": "a8e04bab-0224-43ca-981f-1bc16a616df0"
   },
   "outputs": [
    {
     "data": {
      "text/plain": [
       "['censo', '2020.csv']"
      ]
     },
     "execution_count": 20,
     "metadata": {},
     "output_type": "execute_result"
    }
   ],
   "source": [
    "f.split(\"_\")"
   ]
  },
  {
   "cell_type": "code",
   "execution_count": 23,
   "metadata": {
    "colab": {
     "base_uri": "https://localhost:8080/",
     "height": 36
    },
    "id": "CsGRHBY3BcJ7",
    "outputId": "db4cc851-d6a2-49ea-be45-a384106b5d24"
   },
   "outputs": [
    {
     "data": {
      "application/vnd.google.colaboratory.intrinsic+json": {
       "type": "string"
      },
      "text/plain": [
       "'Hola!! soy Hermilo Cortes'"
      ]
     },
     "execution_count": 23,
     "metadata": {},
     "output_type": "execute_result"
    }
   ],
   "source": [
    "nombre = \"Hermilo\"\n",
    "apellidos = \"Cortes\"\n",
    "\"Hola!! soy \" + nombre + \" \" +apellidos\n"
   ]
  },
  {
   "cell_type": "code",
   "execution_count": 25,
   "metadata": {
    "colab": {
     "base_uri": "https://localhost:8080/",
     "height": 36
    },
    "id": "qN5hXNfLBwuf",
    "outputId": "44b155ef-4ccc-499a-fe18-dd430e8c605c"
   },
   "outputs": [
    {
     "data": {
      "application/vnd.google.colaboratory.intrinsic+json": {
       "type": "string"
      },
      "text/plain": [
       "'Hola!! Soy Hermilo Cortes'"
      ]
     },
     "execution_count": 25,
     "metadata": {},
     "output_type": "execute_result"
    }
   ],
   "source": [
    "f\"Hola!! Soy {nombre} {apellidos}\""
   ]
  },
  {
   "cell_type": "code",
   "execution_count": 27,
   "metadata": {
    "colab": {
     "base_uri": "https://localhost:8080/",
     "height": 36
    },
    "id": "p0VsU3JRCB4X",
    "outputId": "b2b7050e-ef09-4d89-f47b-46ad5e566127"
   },
   "outputs": [
    {
     "data": {
      "application/vnd.google.colaboratory.intrinsic+json": {
       "type": "string"
      },
      "text/plain": [
       "'Hola!! Soy Hermilo Cortes'"
      ]
     },
     "execution_count": 27,
     "metadata": {},
     "output_type": "execute_result"
    }
   ],
   "source": [
    "\"Hola!! Soy {} {}\".format(nombre, apellidos)"
   ]
  },
  {
   "cell_type": "code",
   "execution_count": 29,
   "metadata": {
    "colab": {
     "base_uri": "https://localhost:8080/"
    },
    "id": "GVcgS3K2Cg-l",
    "outputId": "960cb83e-4f62-4bb5-b242-26066c1531f0"
   },
   "outputs": [
    {
     "name": "stdout",
     "output_type": "stream",
     "text": [
      "\n",
      "Hola buenas tardes\n",
      "¿Cómo están?\n",
      "\n"
     ]
    }
   ],
   "source": [
    "\"\"\"\n",
    "Hola buenas tardes\n",
    "¿Cómo están?\n",
    "\"\"\""
   ]
  },
  {
   "cell_type": "code",
   "execution_count": 33,
   "metadata": {
    "colab": {
     "base_uri": "https://localhost:8080/",
     "height": 36
    },
    "id": "i-4MkTIiCz8S",
    "outputId": "7d3f15bf-ef85-40ba-ea6c-3d2815d81ef3"
   },
   "outputs": [
    {
     "data": {
      "application/vnd.google.colaboratory.intrinsic+json": {
       "type": "string"
      },
      "text/plain": [
       "'Gato verde'"
      ]
     },
     "execution_count": 33,
     "metadata": {},
     "output_type": "execute_result"
    }
   ],
   "source": [
    "g = \"gato verde\"\n",
    "g.capitalize()"
   ]
  },
  {
   "cell_type": "code",
   "execution_count": 34,
   "metadata": {
    "colab": {
     "base_uri": "https://localhost:8080/",
     "height": 36
    },
    "id": "tzW0t6HUC-DN",
    "outputId": "d6b48ccc-2f34-4b16-fb92-e02dca9e02f7"
   },
   "outputs": [
    {
     "data": {
      "application/vnd.google.colaboratory.intrinsic+json": {
       "type": "string"
      },
      "text/plain": [
       "'Gato Verde'"
      ]
     },
     "execution_count": 34,
     "metadata": {},
     "output_type": "execute_result"
    }
   ],
   "source": [
    "g.title()"
   ]
  },
  {
   "cell_type": "code",
   "execution_count": 36,
   "metadata": {
    "colab": {
     "base_uri": "https://localhost:8080/"
    },
    "id": "MMHDxjuhDIop",
    "outputId": "43c2e399-2ae0-4590-9296-bb60215df7fd"
   },
   "outputs": [
    {
     "data": {
      "text/plain": [
       "['Instituto', 'para', 'devolverle', 'al', 'pueblo', 'lo', 'robado']"
      ]
     },
     "execution_count": 36,
     "metadata": {},
     "output_type": "execute_result"
    }
   ],
   "source": [
    "from collections import Counter\n",
    "e.split()\n"
   ]
  },
  {
   "cell_type": "code",
   "execution_count": 37,
   "metadata": {
    "colab": {
     "base_uri": "https://localhost:8080/"
    },
    "id": "H619keCzDtYx",
    "outputId": "f38c84ca-04a8-4162-8e87-242898efdf8d"
   },
   "outputs": [
    {
     "data": {
      "text/plain": [
       "Counter({'Instituto': 1,\n",
       "         'para': 1,\n",
       "         'devolverle': 1,\n",
       "         'al': 1,\n",
       "         'pueblo': 1,\n",
       "         'lo': 1,\n",
       "         'robado': 1})"
      ]
     },
     "execution_count": 37,
     "metadata": {},
     "output_type": "execute_result"
    }
   ],
   "source": [
    "cuenta = Counter(e.split())\n",
    "cuenta"
   ]
  },
  {
   "cell_type": "code",
   "execution_count": 43,
   "metadata": {
    "colab": {
     "base_uri": "https://localhost:8080/"
    },
    "id": "T7o5TWuZDxb-",
    "outputId": "d7c56e2e-5320-49d1-fae1-5f287be25e45"
   },
   "outputs": [
    {
     "data": {
      "text/plain": [
       "9"
      ]
     },
     "execution_count": 43,
     "metadata": {},
     "output_type": "execute_result"
    }
   ],
   "source": [
    "int(\"9\")"
   ]
  },
  {
   "cell_type": "markdown",
   "metadata": {
    "id": "IuJljJn_EJhh"
   },
   "source": [
    "## Collecciones\n",
    "\n",
    "* Listas\n",
    "* Tuplas\n",
    "* Diccionarios\n",
    "* Conjuntos"
   ]
  },
  {
   "cell_type": "markdown",
   "metadata": {
    "id": "RQhJfDdPmfMD"
   },
   "source": [
    "## Listas\n",
    "\n",
    "Las listas son estructuras de datos mutables."
   ]
  },
  {
   "cell_type": "code",
   "execution_count": 45,
   "metadata": {
    "colab": {
     "base_uri": "https://localhost:8080/"
    },
    "id": "Fwk3twEXFCW1",
    "outputId": "48b9600a-c529-4b03-d99d-b99a7dad4baf"
   },
   "outputs": [
    {
     "data": {
      "text/plain": [
       "[1, 2, 3]"
      ]
     },
     "execution_count": 45,
     "metadata": {},
     "output_type": "execute_result"
    }
   ],
   "source": [
    "la_lista = [1,2,3]\n",
    "la_lista"
   ]
  },
  {
   "cell_type": "code",
   "execution_count": 46,
   "metadata": {
    "colab": {
     "base_uri": "https://localhost:8080/"
    },
    "id": "vqYoimnoFVrt",
    "outputId": "c5420376-1c94-4584-90db-3615ad4eed96"
   },
   "outputs": [
    {
     "data": {
      "text/plain": [
       "1"
      ]
     },
     "execution_count": 46,
     "metadata": {},
     "output_type": "execute_result"
    }
   ],
   "source": [
    "la_lista[0]"
   ]
  },
  {
   "cell_type": "code",
   "execution_count": 50,
   "metadata": {
    "colab": {
     "base_uri": "https://localhost:8080/"
    },
    "id": "3IPXVMWwFhLQ",
    "outputId": "591c5614-0f71-438d-dcb3-2800989bef32"
   },
   "outputs": [
    {
     "data": {
      "text/plain": [
       "[5, 6, 7]"
      ]
     },
     "execution_count": 50,
     "metadata": {},
     "output_type": "execute_result"
    }
   ],
   "source": [
    "la_lista = [[5,6,7],2,3]\n",
    "la_lista[0]"
   ]
  },
  {
   "cell_type": "code",
   "execution_count": 59,
   "metadata": {
    "colab": {
     "base_uri": "https://localhost:8080/"
    },
    "id": "Uajb-02CGVVW",
    "outputId": "498a350a-ff40-4415-cfc5-0418a7a0fa07"
   },
   "outputs": [
    {
     "data": {
      "text/plain": [
       "[4, 5, 6, 10, 8, 9, 10]"
      ]
     },
     "execution_count": 59,
     "metadata": {},
     "output_type": "execute_result"
    }
   ],
   "source": [
    "A = [4,5,6,10]\n",
    "B = [8,9,10]\n",
    "F = A + B\n",
    "F"
   ]
  },
  {
   "cell_type": "code",
   "execution_count": 64,
   "metadata": {
    "colab": {
     "base_uri": "https://localhost:8080/"
    },
    "id": "7rQirIxCG7fE",
    "outputId": "8ebd425c-83a2-4079-ac18-562574119e68"
   },
   "outputs": [
    {
     "data": {
      "text/plain": [
       "[10, 20, 10, 20, 10, 20, 10, 20]"
      ]
     },
     "execution_count": 64,
     "metadata": {},
     "output_type": "execute_result"
    }
   ],
   "source": [
    "C = [10,20]\n",
    "D = C * 4\n",
    "D"
   ]
  },
  {
   "cell_type": "code",
   "execution_count": 65,
   "metadata": {
    "colab": {
     "base_uri": "https://localhost:8080/"
    },
    "id": "INKTCn8tHQsb",
    "outputId": "4754858f-6dd6-41df-934e-fe78f6e4d3c9"
   },
   "outputs": [
    {
     "data": {
      "text/plain": [
       "[4, 5, 6, 10, 8, 9, 10]"
      ]
     },
     "execution_count": 65,
     "metadata": {},
     "output_type": "execute_result"
    }
   ],
   "source": [
    "F"
   ]
  },
  {
   "cell_type": "code",
   "execution_count": 71,
   "metadata": {
    "colab": {
     "base_uri": "https://localhost:8080/"
    },
    "id": "E0iPDYUiHoxJ",
    "outputId": "485b444f-32e3-48d2-c106-8eec17d7cb11"
   },
   "outputs": [
    {
     "data": {
      "text/plain": [
       "[6, 10, 8, 9, 10, 30]"
      ]
     },
     "execution_count": 71,
     "metadata": {},
     "output_type": "execute_result"
    }
   ],
   "source": [
    "F[2:]"
   ]
  },
  {
   "cell_type": "code",
   "execution_count": 69,
   "metadata": {
    "id": "Ml3BeCtoH6Hs"
   },
   "outputs": [],
   "source": [
    "F.append(30)"
   ]
  },
  {
   "cell_type": "code",
   "execution_count": 72,
   "metadata": {
    "colab": {
     "base_uri": "https://localhost:8080/"
    },
    "id": "NQXCyfdbIAqM",
    "outputId": "2b62e3a7-8cc5-4fe6-ba71-912b85ce4907"
   },
   "outputs": [
    {
     "data": {
      "text/plain": [
       "[4, 5, 6, 10, 8, 9, 10, 30, [1, 2, 3, 4]]"
      ]
     },
     "execution_count": 72,
     "metadata": {},
     "output_type": "execute_result"
    }
   ],
   "source": [
    "F.append([1,2,3,4])\n",
    "F"
   ]
  },
  {
   "cell_type": "code",
   "execution_count": 73,
   "metadata": {
    "colab": {
     "base_uri": "https://localhost:8080/"
    },
    "id": "dTeQsDvdIYQD",
    "outputId": "54b599e3-ac5a-4c3c-8e69-fc7098bbceb2"
   },
   "outputs": [
    {
     "data": {
      "text/plain": [
       "[4, 5, 6, 10, 8, 9, 10, 30, [1, 2, 3, 4], 1, 2, 3, 4]"
      ]
     },
     "execution_count": 73,
     "metadata": {},
     "output_type": "execute_result"
    }
   ],
   "source": [
    "F.extend([1,2,3,4])\n",
    "F"
   ]
  },
  {
   "cell_type": "code",
   "execution_count": 78,
   "metadata": {
    "colab": {
     "base_uri": "https://localhost:8080/"
    },
    "id": "I-4XIGGtIe3w",
    "outputId": "8db7b67b-82df-4d6a-a498-60ad17d26707"
   },
   "outputs": [
    {
     "data": {
      "text/plain": [
       "[1, 2, 3, 4]"
      ]
     },
     "execution_count": 78,
     "metadata": {},
     "output_type": "execute_result"
    }
   ],
   "source": [
    "F = [1,2,3,4]\n",
    "F"
   ]
  },
  {
   "cell_type": "code",
   "execution_count": 79,
   "metadata": {
    "colab": {
     "base_uri": "https://localhost:8080/"
    },
    "id": "8SdJZq9wIvBR",
    "outputId": "dc13d427-4549-4672-968d-b22de1c5b355"
   },
   "outputs": [
    {
     "data": {
      "text/plain": [
       "[1, 2, 3, 4, 200]"
      ]
     },
     "execution_count": 79,
     "metadata": {},
     "output_type": "execute_result"
    }
   ],
   "source": [
    "T = F[:]\n",
    "T.append(200)\n",
    "T"
   ]
  },
  {
   "cell_type": "code",
   "execution_count": 85,
   "metadata": {
    "colab": {
     "base_uri": "https://localhost:8080/"
    },
    "id": "w_KyriHZI6QL",
    "outputId": "8e6cb3a7-360b-49da-87d4-9bb4b3063371"
   },
   "outputs": [
    {
     "data": {
      "text/plain": [
       "['gato', 2, 3, 4]"
      ]
     },
     "execution_count": 85,
     "metadata": {},
     "output_type": "execute_result"
    }
   ],
   "source": [
    "F[0] = \"gato\"\n",
    "F"
   ]
  },
  {
   "cell_type": "markdown",
   "metadata": {
    "id": "DQuRIdx9JgyQ"
   },
   "source": [
    "## Tupla\n",
    "\n",
    "Las tuplas son estructuras de datos inmutables."
   ]
  },
  {
   "cell_type": "code",
   "execution_count": 82,
   "metadata": {
    "colab": {
     "base_uri": "https://localhost:8080/"
    },
    "id": "Om99qGayJgF6",
    "outputId": "53a34f18-fd28-44b2-909e-a1559d67b9b0"
   },
   "outputs": [
    {
     "data": {
      "text/plain": [
       "tuple"
      ]
     },
     "execution_count": 82,
     "metadata": {},
     "output_type": "execute_result"
    }
   ],
   "source": [
    "G = ()\n",
    "type(G)"
   ]
  },
  {
   "cell_type": "code",
   "execution_count": 86,
   "metadata": {
    "colab": {
     "base_uri": "https://localhost:8080/",
     "height": 182
    },
    "id": "XZK1Smu4J5yv",
    "outputId": "4120eb66-b31d-4006-ea41-53a387c091c5"
   },
   "outputs": [
    {
     "ename": "TypeError",
     "evalue": "ignored",
     "output_type": "error",
     "traceback": [
      "\u001b[0;31m---------------------------------------------------------------------------\u001b[0m",
      "\u001b[0;31mTypeError\u001b[0m                                 Traceback (most recent call last)",
      "\u001b[0;32m<ipython-input-86-86a506ed6910>\u001b[0m in \u001b[0;36m<module>\u001b[0;34m\u001b[0m\n\u001b[1;32m      1\u001b[0m \u001b[0mG\u001b[0m \u001b[0;34m=\u001b[0m \u001b[0;34m(\u001b[0m\u001b[0;36m1\u001b[0m\u001b[0;34m,\u001b[0m\u001b[0;36m2\u001b[0m\u001b[0;34m)\u001b[0m\u001b[0;34m\u001b[0m\u001b[0;34m\u001b[0m\u001b[0m\n\u001b[0;32m----> 2\u001b[0;31m \u001b[0mG\u001b[0m\u001b[0;34m[\u001b[0m\u001b[0;36m0\u001b[0m\u001b[0;34m]\u001b[0m \u001b[0;34m=\u001b[0m \u001b[0;34m\"gatos\"\u001b[0m\u001b[0;34m\u001b[0m\u001b[0;34m\u001b[0m\u001b[0m\n\u001b[0m",
      "\u001b[0;31mTypeError\u001b[0m: 'tuple' object does not support item assignment"
     ]
    }
   ],
   "source": [
    "G = (1,2)\n",
    "G[0] = \"gatos\""
   ]
  },
  {
   "cell_type": "code",
   "execution_count": 87,
   "metadata": {
    "colab": {
     "base_uri": "https://localhost:8080/"
    },
    "id": "jiGWye4mKRtJ",
    "outputId": "b94f7e11-4a65-44d8-f9f8-c7d271ac65dd"
   },
   "outputs": [
    {
     "data": {
      "text/plain": [
       "(1, 2, 1, 2, 1, 2)"
      ]
     },
     "execution_count": 87,
     "metadata": {},
     "output_type": "execute_result"
    }
   ],
   "source": [
    "G *3"
   ]
  },
  {
   "cell_type": "code",
   "execution_count": 88,
   "metadata": {
    "colab": {
     "base_uri": "https://localhost:8080/"
    },
    "id": "CpBcidf4KVAJ",
    "outputId": "21418d60-55d9-40a2-8857-1c11c8b00d41"
   },
   "outputs": [
    {
     "data": {
      "text/plain": [
       "(1, 2, 1, 2, 3, 4, 7)"
      ]
     },
     "execution_count": 88,
     "metadata": {},
     "output_type": "execute_result"
    }
   ],
   "source": [
    "Y = (1,2,3,4,7)\n",
    "G+Y"
   ]
  },
  {
   "cell_type": "code",
   "execution_count": 91,
   "metadata": {
    "colab": {
     "base_uri": "https://localhost:8080/"
    },
    "id": "Gti5K6j2KYZF",
    "outputId": "920257dd-3f81-437b-a88c-bcdaaa5a2d45"
   },
   "outputs": [
    {
     "data": {
      "text/plain": [
       "(5,)"
      ]
     },
     "execution_count": 91,
     "metadata": {},
     "output_type": "execute_result"
    }
   ],
   "source": [
    "A = (1+4,)\n",
    "A"
   ]
  },
  {
   "cell_type": "code",
   "execution_count": 96,
   "metadata": {
    "colab": {
     "base_uri": "https://localhost:8080/"
    },
    "id": "j9RYvhQDK63H",
    "outputId": "61f2637c-452f-47f2-fa30-75e7d7cda85c"
   },
   "outputs": [
    {
     "data": {
      "text/plain": [
       "(1, 2)"
      ]
     },
     "execution_count": 96,
     "metadata": {},
     "output_type": "execute_result"
    }
   ],
   "source": [
    "G"
   ]
  },
  {
   "cell_type": "code",
   "execution_count": 100,
   "metadata": {
    "colab": {
     "base_uri": "https://localhost:8080/"
    },
    "id": "2CnhObKLKxD0",
    "outputId": "39f81318-1f22-4d6a-8eb0-36215aab9d06"
   },
   "outputs": [
    {
     "data": {
      "text/plain": [
       "1"
      ]
     },
     "execution_count": 100,
     "metadata": {},
     "output_type": "execute_result"
    }
   ],
   "source": [
    "## Desempaquetamiento de tuplas-listas\n",
    "a1, a2 = G\n",
    "a1"
   ]
  },
  {
   "cell_type": "code",
   "execution_count": null,
   "metadata": {
    "id": "HVo6_RUGLmn6"
   },
   "outputs": [],
   "source": [
    "## El bloque anterior ahorra hacer los siguiente\n",
    "a1 = G[0]\n",
    "a2 = G[1]"
   ]
  },
  {
   "cell_type": "code",
   "execution_count": 104,
   "metadata": {
    "id": "p6bojGoxK5eZ"
   },
   "outputs": [],
   "source": []
  },
  {
   "cell_type": "markdown",
   "metadata": {
    "id": "ufaDdpCWMIj_"
   },
   "source": [
    "## Diccionario\n",
    "\n",
    "El diccionario nos interesa cuando queremos asociar variables, mediante una relación llave-valor.\n",
    "\n",
    "La llave en un diccionario será una estructura de datos o un tipo de dato que sea **hasheable-inmutable**."
   ]
  },
  {
   "cell_type": "code",
   "execution_count": 129,
   "metadata": {
    "colab": {
     "base_uri": "https://localhost:8080/"
    },
    "id": "CPk4k7FBLRyL",
    "outputId": "5b68f844-4b1b-4717-f36e-1b70a840f8e3"
   },
   "outputs": [
    {
     "data": {
      "text/plain": [
       "{'Hermilo': {'edad': 30, 'correo': 'hermilocg@tec.mx'},\n",
       " 'Javier': {'edad': 23, 'correo': 'javier@tec.mx'}}"
      ]
     },
     "execution_count": 129,
     "metadata": {},
     "output_type": "execute_result"
    }
   ],
   "source": [
    "U = { \n",
    "    \"Hermilo\" : {\"edad\":30, \"correo\":\"hermilocg@tec.mx\"} , \n",
    "     \"Javier\" : {\"edad\": 23, \"correo\": \"javier@tec.mx\" }}\n",
    "U"
   ]
  },
  {
   "cell_type": "code",
   "execution_count": 112,
   "metadata": {
    "colab": {
     "base_uri": "https://localhost:8080/"
    },
    "id": "pYb1KHH2NPKt",
    "outputId": "60d5aaa4-8702-41ca-b1b4-97d11a9c342c"
   },
   "outputs": [
    {
     "data": {
      "text/plain": [
       "2240709236575704064"
      ]
     },
     "execution_count": 112,
     "metadata": {},
     "output_type": "execute_result"
    }
   ],
   "source": [
    "\"Hermilo\".__hash__()"
   ]
  },
  {
   "cell_type": "code",
   "execution_count": 120,
   "metadata": {
    "colab": {
     "base_uri": "https://localhost:8080/"
    },
    "id": "2BeAnxFRP7UG",
    "outputId": "e9f25d52-a995-4ef7-f6a9-afbdd4227314"
   },
   "outputs": [
    {
     "data": {
      "text/plain": [
       "{'hermilo': {'edad': 30, 'correo': 'hermilocg@tec.mx'},\n",
       " 'daniel': {'edad': 25, 'correo': 'danielcg@tec.mx'}}"
      ]
     },
     "execution_count": 120,
     "metadata": {},
     "output_type": "execute_result"
    }
   ],
   "source": [
    "empleados = {\n",
    "    \"hermilo\" : {\n",
    "        \"edad\" : 30,\n",
    "        \"correo\" : \"hermilocg@tec.mx\"\n",
    "    },\n",
    "\n",
    "    \"daniel\" : {\n",
    "        \"edad\" : 25,\n",
    "        \"correo\" : \"danielcg@tec.mx\"\n",
    "    }\n",
    "\n",
    "}\n",
    "\n",
    "empleados"
   ]
  },
  {
   "cell_type": "code",
   "execution_count": 130,
   "metadata": {
    "colab": {
     "base_uri": "https://localhost:8080/",
     "height": 641
    },
    "id": "1sRvyq_0WCUw",
    "outputId": "12bd481d-6522-4c28-d7f7-59d244493a65"
   },
   "outputs": [
    {
     "data": {
      "text/html": [
       "\n",
       "  <div id=\"df-6adfa086-7071-4402-9598-aa4e165d537c\">\n",
       "    <div class=\"colab-df-container\">\n",
       "      <div>\n",
       "<style scoped>\n",
       "    .dataframe tbody tr th:only-of-type {\n",
       "        vertical-align: middle;\n",
       "    }\n",
       "\n",
       "    .dataframe tbody tr th {\n",
       "        vertical-align: top;\n",
       "    }\n",
       "\n",
       "    .dataframe thead th {\n",
       "        text-align: right;\n",
       "    }\n",
       "</style>\n",
       "<table border=\"1\" class=\"dataframe\">\n",
       "  <thead>\n",
       "    <tr style=\"text-align: right;\">\n",
       "      <th></th>\n",
       "      <th>CVE_ENT</th>\n",
       "      <th>CVE_MUN</th>\n",
       "      <th>NOM_MUN</th>\n",
       "      <th>OID_1</th>\n",
       "      <th>cov_</th>\n",
       "      <th>cov_id</th>\n",
       "      <th>LLAVE</th>\n",
       "      <th>geometry</th>\n",
       "    </tr>\n",
       "  </thead>\n",
       "  <tbody>\n",
       "    <tr>\n",
       "      <th>0</th>\n",
       "      <td>15</td>\n",
       "      <td>038</td>\n",
       "      <td>Isidro Fabela</td>\n",
       "      <td>27</td>\n",
       "      <td>27</td>\n",
       "      <td>28</td>\n",
       "      <td>15038</td>\n",
       "      <td>POLYGON ((-99.35564 19.59235, -99.35537 19.592...</td>\n",
       "    </tr>\n",
       "    <tr>\n",
       "      <th>1</th>\n",
       "      <td>15</td>\n",
       "      <td>046</td>\n",
       "      <td>Jilotzingo</td>\n",
       "      <td>33</td>\n",
       "      <td>33</td>\n",
       "      <td>34</td>\n",
       "      <td>15046</td>\n",
       "      <td>POLYGON ((-99.34220 19.55510, -99.34202 19.555...</td>\n",
       "    </tr>\n",
       "    <tr>\n",
       "      <th>2</th>\n",
       "      <td>15</td>\n",
       "      <td>060</td>\n",
       "      <td>Nicolás Romero</td>\n",
       "      <td>42</td>\n",
       "      <td>42</td>\n",
       "      <td>43</td>\n",
       "      <td>15060</td>\n",
       "      <td>POLYGON ((-99.35646 19.70361, -99.35617 19.703...</td>\n",
       "    </tr>\n",
       "    <tr>\n",
       "      <th>3</th>\n",
       "      <td>15</td>\n",
       "      <td>095</td>\n",
       "      <td>Tepotzotlán</td>\n",
       "      <td>63</td>\n",
       "      <td>63</td>\n",
       "      <td>64</td>\n",
       "      <td>15095</td>\n",
       "      <td>POLYGON ((-99.22643 19.78949, -99.22492 19.787...</td>\n",
       "    </tr>\n",
       "    <tr>\n",
       "      <th>4</th>\n",
       "      <td>15</td>\n",
       "      <td>112</td>\n",
       "      <td>Villa del Carbón</td>\n",
       "      <td>73</td>\n",
       "      <td>73</td>\n",
       "      <td>74</td>\n",
       "      <td>15112</td>\n",
       "      <td>POLYGON ((-99.42678 19.87500, -99.42640 19.872...</td>\n",
       "    </tr>\n",
       "    <tr>\n",
       "      <th>...</th>\n",
       "      <td>...</td>\n",
       "      <td>...</td>\n",
       "      <td>...</td>\n",
       "      <td>...</td>\n",
       "      <td>...</td>\n",
       "      <td>...</td>\n",
       "      <td>...</td>\n",
       "      <td>...</td>\n",
       "    </tr>\n",
       "    <tr>\n",
       "      <th>71</th>\n",
       "      <td>09</td>\n",
       "      <td>010</td>\n",
       "      <td>Álvaro Obregón</td>\n",
       "      <td>2453</td>\n",
       "      <td>2453</td>\n",
       "      <td>2454</td>\n",
       "      <td>09010</td>\n",
       "      <td>POLYGON ((-99.18906 19.39559, -99.18871 19.394...</td>\n",
       "    </tr>\n",
       "    <tr>\n",
       "      <th>72</th>\n",
       "      <td>09</td>\n",
       "      <td>004</td>\n",
       "      <td>Cuajimalpa de Morelos</td>\n",
       "      <td>2454</td>\n",
       "      <td>2454</td>\n",
       "      <td>2455</td>\n",
       "      <td>09004</td>\n",
       "      <td>POLYGON ((-99.25738 19.40112, -99.25698 19.400...</td>\n",
       "    </tr>\n",
       "    <tr>\n",
       "      <th>73</th>\n",
       "      <td>09</td>\n",
       "      <td>003</td>\n",
       "      <td>Coyoacán</td>\n",
       "      <td>2455</td>\n",
       "      <td>2455</td>\n",
       "      <td>2456</td>\n",
       "      <td>09003</td>\n",
       "      <td>POLYGON ((-99.13984 19.35692, -99.13923 19.356...</td>\n",
       "    </tr>\n",
       "    <tr>\n",
       "      <th>74</th>\n",
       "      <td>09</td>\n",
       "      <td>011</td>\n",
       "      <td>Tláhuac</td>\n",
       "      <td>2456</td>\n",
       "      <td>2456</td>\n",
       "      <td>2457</td>\n",
       "      <td>09011</td>\n",
       "      <td>POLYGON ((-98.97893 19.32393, -98.97856 19.323...</td>\n",
       "    </tr>\n",
       "    <tr>\n",
       "      <th>75</th>\n",
       "      <td>09</td>\n",
       "      <td>009</td>\n",
       "      <td>Milpa Alta</td>\n",
       "      <td>2457</td>\n",
       "      <td>2457</td>\n",
       "      <td>2458</td>\n",
       "      <td>09009</td>\n",
       "      <td>POLYGON ((-98.99718 19.22747, -98.99723 19.227...</td>\n",
       "    </tr>\n",
       "  </tbody>\n",
       "</table>\n",
       "<p>76 rows × 8 columns</p>\n",
       "</div>\n",
       "      <button class=\"colab-df-convert\" onclick=\"convertToInteractive('df-6adfa086-7071-4402-9598-aa4e165d537c')\"\n",
       "              title=\"Convert this dataframe to an interactive table.\"\n",
       "              style=\"display:none;\">\n",
       "        \n",
       "  <svg xmlns=\"http://www.w3.org/2000/svg\" height=\"24px\"viewBox=\"0 0 24 24\"\n",
       "       width=\"24px\">\n",
       "    <path d=\"M0 0h24v24H0V0z\" fill=\"none\"/>\n",
       "    <path d=\"M18.56 5.44l.94 2.06.94-2.06 2.06-.94-2.06-.94-.94-2.06-.94 2.06-2.06.94zm-11 1L8.5 8.5l.94-2.06 2.06-.94-2.06-.94L8.5 2.5l-.94 2.06-2.06.94zm10 10l.94 2.06.94-2.06 2.06-.94-2.06-.94-.94-2.06-.94 2.06-2.06.94z\"/><path d=\"M17.41 7.96l-1.37-1.37c-.4-.4-.92-.59-1.43-.59-.52 0-1.04.2-1.43.59L10.3 9.45l-7.72 7.72c-.78.78-.78 2.05 0 2.83L4 21.41c.39.39.9.59 1.41.59.51 0 1.02-.2 1.41-.59l7.78-7.78 2.81-2.81c.8-.78.8-2.07 0-2.86zM5.41 20L4 18.59l7.72-7.72 1.47 1.35L5.41 20z\"/>\n",
       "  </svg>\n",
       "      </button>\n",
       "      \n",
       "  <style>\n",
       "    .colab-df-container {\n",
       "      display:flex;\n",
       "      flex-wrap:wrap;\n",
       "      gap: 12px;\n",
       "    }\n",
       "\n",
       "    .colab-df-convert {\n",
       "      background-color: #E8F0FE;\n",
       "      border: none;\n",
       "      border-radius: 50%;\n",
       "      cursor: pointer;\n",
       "      display: none;\n",
       "      fill: #1967D2;\n",
       "      height: 32px;\n",
       "      padding: 0 0 0 0;\n",
       "      width: 32px;\n",
       "    }\n",
       "\n",
       "    .colab-df-convert:hover {\n",
       "      background-color: #E2EBFA;\n",
       "      box-shadow: 0px 1px 2px rgba(60, 64, 67, 0.3), 0px 1px 3px 1px rgba(60, 64, 67, 0.15);\n",
       "      fill: #174EA6;\n",
       "    }\n",
       "\n",
       "    [theme=dark] .colab-df-convert {\n",
       "      background-color: #3B4455;\n",
       "      fill: #D2E3FC;\n",
       "    }\n",
       "\n",
       "    [theme=dark] .colab-df-convert:hover {\n",
       "      background-color: #434B5C;\n",
       "      box-shadow: 0px 1px 3px 1px rgba(0, 0, 0, 0.15);\n",
       "      filter: drop-shadow(0px 1px 2px rgba(0, 0, 0, 0.3));\n",
       "      fill: #FFFFFF;\n",
       "    }\n",
       "  </style>\n",
       "\n",
       "      <script>\n",
       "        const buttonEl =\n",
       "          document.querySelector('#df-6adfa086-7071-4402-9598-aa4e165d537c button.colab-df-convert');\n",
       "        buttonEl.style.display =\n",
       "          google.colab.kernel.accessAllowed ? 'block' : 'none';\n",
       "\n",
       "        async function convertToInteractive(key) {\n",
       "          const element = document.querySelector('#df-6adfa086-7071-4402-9598-aa4e165d537c');\n",
       "          const dataTable =\n",
       "            await google.colab.kernel.invokeFunction('convertToInteractive',\n",
       "                                                     [key], {});\n",
       "          if (!dataTable) return;\n",
       "\n",
       "          const docLinkHtml = 'Like what you see? Visit the ' +\n",
       "            '<a target=\"_blank\" href=https://colab.research.google.com/notebooks/data_table.ipynb>data table notebook</a>'\n",
       "            + ' to learn more about interactive tables.';\n",
       "          element.innerHTML = '';\n",
       "          dataTable['output_type'] = 'display_data';\n",
       "          await google.colab.output.renderOutput(dataTable, element);\n",
       "          const docLink = document.createElement('div');\n",
       "          docLink.innerHTML = docLinkHtml;\n",
       "          element.appendChild(docLink);\n",
       "        }\n",
       "      </script>\n",
       "    </div>\n",
       "  </div>\n",
       "  "
      ],
      "text/plain": [
       "   CVE_ENT CVE_MUN                NOM_MUN  OID_1  cov_  cov_id  LLAVE  \\\n",
       "0       15     038          Isidro Fabela     27    27      28  15038   \n",
       "1       15     046             Jilotzingo     33    33      34  15046   \n",
       "2       15     060         Nicolás Romero     42    42      43  15060   \n",
       "3       15     095            Tepotzotlán     63    63      64  15095   \n",
       "4       15     112       Villa del Carbón     73    73      74  15112   \n",
       "..     ...     ...                    ...    ...   ...     ...    ...   \n",
       "71      09     010         Álvaro Obregón   2453  2453    2454  09010   \n",
       "72      09     004  Cuajimalpa de Morelos   2454  2454    2455  09004   \n",
       "73      09     003               Coyoacán   2455  2455    2456  09003   \n",
       "74      09     011                Tláhuac   2456  2456    2457  09011   \n",
       "75      09     009             Milpa Alta   2457  2457    2458  09009   \n",
       "\n",
       "                                             geometry  \n",
       "0   POLYGON ((-99.35564 19.59235, -99.35537 19.592...  \n",
       "1   POLYGON ((-99.34220 19.55510, -99.34202 19.555...  \n",
       "2   POLYGON ((-99.35646 19.70361, -99.35617 19.703...  \n",
       "3   POLYGON ((-99.22643 19.78949, -99.22492 19.787...  \n",
       "4   POLYGON ((-99.42678 19.87500, -99.42640 19.872...  \n",
       "..                                                ...  \n",
       "71  POLYGON ((-99.18906 19.39559, -99.18871 19.394...  \n",
       "72  POLYGON ((-99.25738 19.40112, -99.25698 19.400...  \n",
       "73  POLYGON ((-99.13984 19.35692, -99.13923 19.356...  \n",
       "74  POLYGON ((-98.97893 19.32393, -98.97856 19.323...  \n",
       "75  POLYGON ((-98.99718 19.22747, -98.99723 19.227...  \n",
       "\n",
       "[76 rows x 8 columns]"
      ]
     },
     "execution_count": 130,
     "metadata": {},
     "output_type": "execute_result"
    }
   ],
   "source": []
  },
  {
   "cell_type": "code",
   "execution_count": 122,
   "metadata": {
    "colab": {
     "base_uri": "https://localhost:8080/"
    },
    "id": "tBWko0VVVpAF",
    "outputId": "1ef0d4f4-b9ee-4e2e-e70f-bffc009c2c7a"
   },
   "outputs": [
    {
     "name": "stdout",
     "output_type": "stream",
     "text": [
      "Looking in indexes: https://pypi.org/simple, https://us-python.pkg.dev/colab-wheels/public/simple/\n",
      "Collecting geopandas\n",
      "  Downloading geopandas-0.12.2-py3-none-any.whl (1.1 MB)\n",
      "\u001b[2K     \u001b[90m━━━━━━━━━━━━━━━━━━━━━━━━━━━━━━━━━━━━━━━━\u001b[0m \u001b[32m1.1/1.1 MB\u001b[0m \u001b[31m14.4 MB/s\u001b[0m eta \u001b[36m0:00:00\u001b[0m\n",
      "\u001b[?25hRequirement already satisfied: packaging in /usr/local/lib/python3.9/dist-packages (from geopandas) (23.0)\n",
      "Requirement already satisfied: shapely>=1.7 in /usr/local/lib/python3.9/dist-packages (from geopandas) (2.0.1)\n",
      "Collecting fiona>=1.8\n",
      "  Downloading Fiona-1.9.1-cp39-cp39-manylinux_2_17_x86_64.manylinux2014_x86_64.whl (16.0 MB)\n",
      "\u001b[2K     \u001b[90m━━━━━━━━━━━━━━━━━━━━━━━━━━━━━━━━━━━━━━━━\u001b[0m \u001b[32m16.0/16.0 MB\u001b[0m \u001b[31m42.6 MB/s\u001b[0m eta \u001b[36m0:00:00\u001b[0m\n",
      "\u001b[?25hRequirement already satisfied: pandas>=1.0.0 in /usr/local/lib/python3.9/dist-packages (from geopandas) (1.3.5)\n",
      "Collecting pyproj>=2.6.1.post1\n",
      "  Downloading pyproj-3.4.1-cp39-cp39-manylinux_2_17_x86_64.manylinux2014_x86_64.whl (7.7 MB)\n",
      "\u001b[2K     \u001b[90m━━━━━━━━━━━━━━━━━━━━━━━━━━━━━━━━━━━━━━━━\u001b[0m \u001b[32m7.7/7.7 MB\u001b[0m \u001b[31m68.9 MB/s\u001b[0m eta \u001b[36m0:00:00\u001b[0m\n",
      "\u001b[?25hRequirement already satisfied: setuptools in /usr/local/lib/python3.9/dist-packages (from fiona>=1.8->geopandas) (57.4.0)\n",
      "Requirement already satisfied: certifi in /usr/local/lib/python3.9/dist-packages (from fiona>=1.8->geopandas) (2022.12.7)\n",
      "Requirement already satisfied: attrs>=19.2.0 in /usr/local/lib/python3.9/dist-packages (from fiona>=1.8->geopandas) (22.2.0)\n",
      "Collecting munch>=2.3.2\n",
      "  Downloading munch-2.5.0-py2.py3-none-any.whl (10 kB)\n",
      "Collecting cligj>=0.5\n",
      "  Downloading cligj-0.7.2-py3-none-any.whl (7.1 kB)\n",
      "Requirement already satisfied: click~=8.0 in /usr/local/lib/python3.9/dist-packages (from fiona>=1.8->geopandas) (8.1.3)\n",
      "Collecting click-plugins>=1.0\n",
      "  Downloading click_plugins-1.1.1-py2.py3-none-any.whl (7.5 kB)\n",
      "Requirement already satisfied: numpy>=1.17.3 in /usr/local/lib/python3.9/dist-packages (from pandas>=1.0.0->geopandas) (1.22.4)\n",
      "Requirement already satisfied: pytz>=2017.3 in /usr/local/lib/python3.9/dist-packages (from pandas>=1.0.0->geopandas) (2022.7.1)\n",
      "Requirement already satisfied: python-dateutil>=2.7.3 in /usr/local/lib/python3.9/dist-packages (from pandas>=1.0.0->geopandas) (2.8.2)\n",
      "Requirement already satisfied: six in /usr/local/lib/python3.9/dist-packages (from munch>=2.3.2->fiona>=1.8->geopandas) (1.15.0)\n",
      "Installing collected packages: pyproj, munch, cligj, click-plugins, fiona, geopandas\n",
      "Successfully installed click-plugins-1.1.1 cligj-0.7.2 fiona-1.9.1 geopandas-0.12.2 munch-2.5.0 pyproj-3.4.1\n"
     ]
    }
   ],
   "source": [
    "!pip install geopandas\n",
    "import geopandas as gpd\n"
   ]
  },
  {
   "cell_type": "code",
   "execution_count": 131,
   "metadata": {
    "colab": {
     "base_uri": "https://localhost:8080/",
     "height": 641
    },
    "id": "jIbEjMxiYkSk",
    "outputId": "0715b405-1658-437d-fa6a-cf1d92b7118f"
   },
   "outputs": [
    {
     "data": {
      "text/html": [
       "\n",
       "  <div id=\"df-6bab5015-1a11-4e76-92ae-206fe1a32819\">\n",
       "    <div class=\"colab-df-container\">\n",
       "      <div>\n",
       "<style scoped>\n",
       "    .dataframe tbody tr th:only-of-type {\n",
       "        vertical-align: middle;\n",
       "    }\n",
       "\n",
       "    .dataframe tbody tr th {\n",
       "        vertical-align: top;\n",
       "    }\n",
       "\n",
       "    .dataframe thead th {\n",
       "        text-align: right;\n",
       "    }\n",
       "</style>\n",
       "<table border=\"1\" class=\"dataframe\">\n",
       "  <thead>\n",
       "    <tr style=\"text-align: right;\">\n",
       "      <th></th>\n",
       "      <th>CVE_ENT</th>\n",
       "      <th>CVE_MUN</th>\n",
       "      <th>NOM_MUN</th>\n",
       "      <th>OID_1</th>\n",
       "      <th>cov_</th>\n",
       "      <th>cov_id</th>\n",
       "      <th>LLAVE</th>\n",
       "      <th>geometry</th>\n",
       "    </tr>\n",
       "  </thead>\n",
       "  <tbody>\n",
       "    <tr>\n",
       "      <th>0</th>\n",
       "      <td>15</td>\n",
       "      <td>038</td>\n",
       "      <td>Isidro Fabela</td>\n",
       "      <td>27</td>\n",
       "      <td>27</td>\n",
       "      <td>28</td>\n",
       "      <td>15038</td>\n",
       "      <td>POLYGON ((-99.35564 19.59235, -99.35537 19.592...</td>\n",
       "    </tr>\n",
       "    <tr>\n",
       "      <th>1</th>\n",
       "      <td>15</td>\n",
       "      <td>046</td>\n",
       "      <td>Jilotzingo</td>\n",
       "      <td>33</td>\n",
       "      <td>33</td>\n",
       "      <td>34</td>\n",
       "      <td>15046</td>\n",
       "      <td>POLYGON ((-99.34220 19.55510, -99.34202 19.555...</td>\n",
       "    </tr>\n",
       "    <tr>\n",
       "      <th>2</th>\n",
       "      <td>15</td>\n",
       "      <td>060</td>\n",
       "      <td>Nicolás Romero</td>\n",
       "      <td>42</td>\n",
       "      <td>42</td>\n",
       "      <td>43</td>\n",
       "      <td>15060</td>\n",
       "      <td>POLYGON ((-99.35646 19.70361, -99.35617 19.703...</td>\n",
       "    </tr>\n",
       "    <tr>\n",
       "      <th>3</th>\n",
       "      <td>15</td>\n",
       "      <td>095</td>\n",
       "      <td>Tepotzotlán</td>\n",
       "      <td>63</td>\n",
       "      <td>63</td>\n",
       "      <td>64</td>\n",
       "      <td>15095</td>\n",
       "      <td>POLYGON ((-99.22643 19.78949, -99.22492 19.787...</td>\n",
       "    </tr>\n",
       "    <tr>\n",
       "      <th>4</th>\n",
       "      <td>15</td>\n",
       "      <td>112</td>\n",
       "      <td>Villa del Carbón</td>\n",
       "      <td>73</td>\n",
       "      <td>73</td>\n",
       "      <td>74</td>\n",
       "      <td>15112</td>\n",
       "      <td>POLYGON ((-99.42678 19.87500, -99.42640 19.872...</td>\n",
       "    </tr>\n",
       "    <tr>\n",
       "      <th>...</th>\n",
       "      <td>...</td>\n",
       "      <td>...</td>\n",
       "      <td>...</td>\n",
       "      <td>...</td>\n",
       "      <td>...</td>\n",
       "      <td>...</td>\n",
       "      <td>...</td>\n",
       "      <td>...</td>\n",
       "    </tr>\n",
       "    <tr>\n",
       "      <th>71</th>\n",
       "      <td>09</td>\n",
       "      <td>010</td>\n",
       "      <td>Álvaro Obregón</td>\n",
       "      <td>2453</td>\n",
       "      <td>2453</td>\n",
       "      <td>2454</td>\n",
       "      <td>09010</td>\n",
       "      <td>POLYGON ((-99.18906 19.39559, -99.18871 19.394...</td>\n",
       "    </tr>\n",
       "    <tr>\n",
       "      <th>72</th>\n",
       "      <td>09</td>\n",
       "      <td>004</td>\n",
       "      <td>Cuajimalpa de Morelos</td>\n",
       "      <td>2454</td>\n",
       "      <td>2454</td>\n",
       "      <td>2455</td>\n",
       "      <td>09004</td>\n",
       "      <td>POLYGON ((-99.25738 19.40112, -99.25698 19.400...</td>\n",
       "    </tr>\n",
       "    <tr>\n",
       "      <th>73</th>\n",
       "      <td>09</td>\n",
       "      <td>003</td>\n",
       "      <td>Coyoacán</td>\n",
       "      <td>2455</td>\n",
       "      <td>2455</td>\n",
       "      <td>2456</td>\n",
       "      <td>09003</td>\n",
       "      <td>POLYGON ((-99.13984 19.35692, -99.13923 19.356...</td>\n",
       "    </tr>\n",
       "    <tr>\n",
       "      <th>74</th>\n",
       "      <td>09</td>\n",
       "      <td>011</td>\n",
       "      <td>Tláhuac</td>\n",
       "      <td>2456</td>\n",
       "      <td>2456</td>\n",
       "      <td>2457</td>\n",
       "      <td>09011</td>\n",
       "      <td>POLYGON ((-98.97893 19.32393, -98.97856 19.323...</td>\n",
       "    </tr>\n",
       "    <tr>\n",
       "      <th>75</th>\n",
       "      <td>09</td>\n",
       "      <td>009</td>\n",
       "      <td>Milpa Alta</td>\n",
       "      <td>2457</td>\n",
       "      <td>2457</td>\n",
       "      <td>2458</td>\n",
       "      <td>09009</td>\n",
       "      <td>POLYGON ((-98.99718 19.22747, -98.99723 19.227...</td>\n",
       "    </tr>\n",
       "  </tbody>\n",
       "</table>\n",
       "<p>76 rows × 8 columns</p>\n",
       "</div>\n",
       "      <button class=\"colab-df-convert\" onclick=\"convertToInteractive('df-6bab5015-1a11-4e76-92ae-206fe1a32819')\"\n",
       "              title=\"Convert this dataframe to an interactive table.\"\n",
       "              style=\"display:none;\">\n",
       "        \n",
       "  <svg xmlns=\"http://www.w3.org/2000/svg\" height=\"24px\"viewBox=\"0 0 24 24\"\n",
       "       width=\"24px\">\n",
       "    <path d=\"M0 0h24v24H0V0z\" fill=\"none\"/>\n",
       "    <path d=\"M18.56 5.44l.94 2.06.94-2.06 2.06-.94-2.06-.94-.94-2.06-.94 2.06-2.06.94zm-11 1L8.5 8.5l.94-2.06 2.06-.94-2.06-.94L8.5 2.5l-.94 2.06-2.06.94zm10 10l.94 2.06.94-2.06 2.06-.94-2.06-.94-.94-2.06-.94 2.06-2.06.94z\"/><path d=\"M17.41 7.96l-1.37-1.37c-.4-.4-.92-.59-1.43-.59-.52 0-1.04.2-1.43.59L10.3 9.45l-7.72 7.72c-.78.78-.78 2.05 0 2.83L4 21.41c.39.39.9.59 1.41.59.51 0 1.02-.2 1.41-.59l7.78-7.78 2.81-2.81c.8-.78.8-2.07 0-2.86zM5.41 20L4 18.59l7.72-7.72 1.47 1.35L5.41 20z\"/>\n",
       "  </svg>\n",
       "      </button>\n",
       "      \n",
       "  <style>\n",
       "    .colab-df-container {\n",
       "      display:flex;\n",
       "      flex-wrap:wrap;\n",
       "      gap: 12px;\n",
       "    }\n",
       "\n",
       "    .colab-df-convert {\n",
       "      background-color: #E8F0FE;\n",
       "      border: none;\n",
       "      border-radius: 50%;\n",
       "      cursor: pointer;\n",
       "      display: none;\n",
       "      fill: #1967D2;\n",
       "      height: 32px;\n",
       "      padding: 0 0 0 0;\n",
       "      width: 32px;\n",
       "    }\n",
       "\n",
       "    .colab-df-convert:hover {\n",
       "      background-color: #E2EBFA;\n",
       "      box-shadow: 0px 1px 2px rgba(60, 64, 67, 0.3), 0px 1px 3px 1px rgba(60, 64, 67, 0.15);\n",
       "      fill: #174EA6;\n",
       "    }\n",
       "\n",
       "    [theme=dark] .colab-df-convert {\n",
       "      background-color: #3B4455;\n",
       "      fill: #D2E3FC;\n",
       "    }\n",
       "\n",
       "    [theme=dark] .colab-df-convert:hover {\n",
       "      background-color: #434B5C;\n",
       "      box-shadow: 0px 1px 3px 1px rgba(0, 0, 0, 0.15);\n",
       "      filter: drop-shadow(0px 1px 2px rgba(0, 0, 0, 0.3));\n",
       "      fill: #FFFFFF;\n",
       "    }\n",
       "  </style>\n",
       "\n",
       "      <script>\n",
       "        const buttonEl =\n",
       "          document.querySelector('#df-6bab5015-1a11-4e76-92ae-206fe1a32819 button.colab-df-convert');\n",
       "        buttonEl.style.display =\n",
       "          google.colab.kernel.accessAllowed ? 'block' : 'none';\n",
       "\n",
       "        async function convertToInteractive(key) {\n",
       "          const element = document.querySelector('#df-6bab5015-1a11-4e76-92ae-206fe1a32819');\n",
       "          const dataTable =\n",
       "            await google.colab.kernel.invokeFunction('convertToInteractive',\n",
       "                                                     [key], {});\n",
       "          if (!dataTable) return;\n",
       "\n",
       "          const docLinkHtml = 'Like what you see? Visit the ' +\n",
       "            '<a target=\"_blank\" href=https://colab.research.google.com/notebooks/data_table.ipynb>data table notebook</a>'\n",
       "            + ' to learn more about interactive tables.';\n",
       "          element.innerHTML = '';\n",
       "          dataTable['output_type'] = 'display_data';\n",
       "          await google.colab.output.renderOutput(dataTable, element);\n",
       "          const docLink = document.createElement('div');\n",
       "          docLink.innerHTML = docLinkHtml;\n",
       "          element.appendChild(docLink);\n",
       "        }\n",
       "      </script>\n",
       "    </div>\n",
       "  </div>\n",
       "  "
      ],
      "text/plain": [
       "   CVE_ENT CVE_MUN                NOM_MUN  OID_1  cov_  cov_id  LLAVE  \\\n",
       "0       15     038          Isidro Fabela     27    27      28  15038   \n",
       "1       15     046             Jilotzingo     33    33      34  15046   \n",
       "2       15     060         Nicolás Romero     42    42      43  15060   \n",
       "3       15     095            Tepotzotlán     63    63      64  15095   \n",
       "4       15     112       Villa del Carbón     73    73      74  15112   \n",
       "..     ...     ...                    ...    ...   ...     ...    ...   \n",
       "71      09     010         Álvaro Obregón   2453  2453    2454  09010   \n",
       "72      09     004  Cuajimalpa de Morelos   2454  2454    2455  09004   \n",
       "73      09     003               Coyoacán   2455  2455    2456  09003   \n",
       "74      09     011                Tláhuac   2456  2456    2457  09011   \n",
       "75      09     009             Milpa Alta   2457  2457    2458  09009   \n",
       "\n",
       "                                             geometry  \n",
       "0   POLYGON ((-99.35564 19.59235, -99.35537 19.592...  \n",
       "1   POLYGON ((-99.34220 19.55510, -99.34202 19.555...  \n",
       "2   POLYGON ((-99.35646 19.70361, -99.35617 19.703...  \n",
       "3   POLYGON ((-99.22643 19.78949, -99.22492 19.787...  \n",
       "4   POLYGON ((-99.42678 19.87500, -99.42640 19.872...  \n",
       "..                                                ...  \n",
       "71  POLYGON ((-99.18906 19.39559, -99.18871 19.394...  \n",
       "72  POLYGON ((-99.25738 19.40112, -99.25698 19.400...  \n",
       "73  POLYGON ((-99.13984 19.35692, -99.13923 19.356...  \n",
       "74  POLYGON ((-98.97893 19.32393, -98.97856 19.323...  \n",
       "75  POLYGON ((-98.99718 19.22747, -98.99723 19.227...  \n",
       "\n",
       "[76 rows x 8 columns]"
      ]
     },
     "execution_count": 131,
     "metadata": {},
     "output_type": "execute_result"
    }
   ],
   "source": [
    "## El formato de dato JSON es utilizado por el formato de dato geoespacial GeoJSON\n",
    "## La ventaja de utilizar este formato GeoJSON es que se pueden utilizar servicios web \n",
    "## para consultar información geoespacial\n",
    " \n",
    "zmvm = gpd.read_file(\"https://raw.githubusercontent.com/milocortes/crecimiento_urbano/main/datos/muni_metro.geojson\")\n",
    "zmvm"
   ]
  },
  {
   "cell_type": "code",
   "execution_count": 132,
   "metadata": {
    "colab": {
     "base_uri": "https://localhost:8080/",
     "height": 282
    },
    "id": "5BHkAeZLYzVI",
    "outputId": "23f9211b-dbb6-4a7f-b41f-1cbc717ac888"
   },
   "outputs": [
    {
     "data": {
      "text/plain": [
       "<AxesSubplot:>"
      ]
     },
     "execution_count": 132,
     "metadata": {},
     "output_type": "execute_result"
    },
    {
     "data": {
      "image/png": "[encoded data removed]",
      "text/plain": [
       "<Figure size 432x288 with 1 Axes>"
      ]
     },
     "metadata": {
      "needs_background": "light"
     },
     "output_type": "display_data"
    }
   ],
   "source": [
    "zmvm.plot()"
   ]
  },
  {
   "cell_type": "code",
   "execution_count": 126,
   "metadata": {
    "id": "J8ulHbIkVvnT"
   },
   "outputs": [],
   "source": []
  },
  {
   "cell_type": "code",
   "execution_count": 116,
   "metadata": {
    "colab": {
     "base_uri": "https://localhost:8080/",
     "height": 36
    },
    "id": "ldjWVbd1PNd1",
    "outputId": "a7502a10-a735-4d77-dd33-2374c41d1e2e"
   },
   "outputs": [
    {
     "data": {
      "application/vnd.google.colaboratory.intrinsic+json": {
       "type": "string"
      },
      "text/plain": [
       "'99a85ece6c8a9087f0b68cd65af8739e1da36333b41d12ab3d1d435fcbd5f115'"
      ]
     },
     "execution_count": 116,
     "metadata": {},
     "output_type": "execute_result"
    }
   ],
   "source": [
    "from hashlib import sha256\n",
    "\n",
    "hash_func = sha256(b\"Miercoles de 2x1\")\n",
    "hash_func.hexdigest()"
   ]
  },
  {
   "cell_type": "code",
   "execution_count": null,
   "metadata": {
    "id": "u5BNOphtZgL1"
   },
   "outputs": [],
   "source": []
  },
  {
   "cell_type": "markdown",
   "metadata": {
    "id": "iE0UL6tmZgtw"
   },
   "source": [
    "## Estructuras de control \n"
   ]
  },
  {
   "cell_type": "code",
   "execution_count": 135,
   "metadata": {
    "colab": {
     "base_uri": "https://localhost:8080/"
    },
    "id": "hj-IypjkZas_",
    "outputId": "7dd3bf42-1e45-48d8-832c-6da36c2e5317"
   },
   "outputs": [
    {
     "name": "stdout",
     "output_type": "stream",
     "text": [
      "gato\n",
      "perico\n",
      "perro\n"
     ]
    }
   ],
   "source": [
    "la_lista = [\"gato\",\"perico\",\"perro\"]\n",
    "\n",
    "for elemento in la_lista:\n",
    "    print(elemento)\n"
   ]
  },
  {
   "cell_type": "code",
   "execution_count": 136,
   "metadata": {
    "colab": {
     "base_uri": "https://localhost:8080/"
    },
    "id": "ts5DQFjGaPim",
    "outputId": "f8efb62a-5660-4de4-df6e-8aec6bdef0f8"
   },
   "outputs": [
    {
     "name": "stdout",
     "output_type": "stream",
     "text": [
      "#0 gato\n",
      "#1 perico\n",
      "#2 perro\n"
     ]
    }
   ],
   "source": [
    "for i,elemento in enumerate(la_lista):\n",
    "    print(f\"#{i} {elemento}\")\n"
   ]
  },
  {
   "cell_type": "code",
   "execution_count": 137,
   "metadata": {
    "colab": {
     "base_uri": "https://localhost:8080/"
    },
    "id": "_kCZ4D1yaGU1",
    "outputId": "46b38f60-44fb-40f6-db31-f1ecd3c42f72"
   },
   "outputs": [
    {
     "name": "stdout",
     "output_type": "stream",
     "text": [
      "#0 gato\n",
      "#1 perico\n",
      "#2 perro\n"
     ]
    }
   ],
   "source": [
    "la_otra_lista = [(0,\"gato\"), (1,\"perico\"), (2, \"perro\")]\n",
    "\n",
    "for i, elemento in la_otra_lista:\n",
    "    print(f\"#{i} {elemento}\")\n"
   ]
  },
  {
   "cell_type": "code",
   "execution_count": 140,
   "metadata": {
    "colab": {
     "base_uri": "https://localhost:8080/"
    },
    "id": "yTjm0wr2bU6S",
    "outputId": "2e9f1806-2659-4554-baa2-fbe6a6b6a5f7"
   },
   "outputs": [
    {
     "name": "stdout",
     "output_type": "stream",
     "text": [
      "5\n",
      "6\n",
      "7\n",
      "8\n",
      "9\n"
     ]
    }
   ],
   "source": [
    "for i in range(5, 10):\n",
    "    print(i)"
   ]
  },
  {
   "cell_type": "code",
   "execution_count": 144,
   "metadata": {
    "id": "UscpUqUJbkoZ"
   },
   "outputs": [],
   "source": [
    "la_lista = list(range(0, 100))\n"
   ]
  },
  {
   "cell_type": "code",
   "execution_count": 160,
   "metadata": {
    "colab": {
     "base_uri": "https://localhost:8080/",
     "height": 265
    },
    "id": "VpKTMhI5drRn",
    "outputId": "99b3b477-27e6-47b4-afef-2d37c90d352f"
   },
   "outputs": [
    {
     "data": {
      "image/png": "[encoded data removed]",
      "text/plain": [
       "<Figure size 432x288 with 1 Axes>"
      ]
     },
     "metadata": {
      "needs_background": "light"
     },
     "output_type": "display_data"
    }
   ],
   "source": [
    "import matplotlib.pyplot as plt\n",
    "\n",
    "X = range(0,100)\n",
    "Y = [2* i + 30 for i in range(0,100)]\n",
    "Y1 = [4*i + 30 for i in range(0,100)]\n",
    "Y2 = [8*i + 30 for i in range(0,100)]\n",
    "\n",
    "plt.plot(X,Y, label = r\"$\\beta$ = 2\")\n",
    "plt.plot(X,Y1, label =\"m = 4\")\n",
    "plt.plot(X,Y2, label = \"m = 8\")\n",
    "plt.legend()\n",
    "plt.show()"
   ]
  },
  {
   "cell_type": "code",
   "execution_count": 162,
   "metadata": {
    "colab": {
     "base_uri": "https://localhost:8080/",
     "height": 265
    },
    "id": "gpT2luk6fMeM",
    "outputId": "cc3d5322-573a-4cc6-bae1-193d6e7dcafe"
   },
   "outputs": [
    {
     "data": {
      "image/png": "[encoded data removed]",
      "text/plain": [
       "<Figure size 432x288 with 1 Axes>"
      ]
     },
     "metadata": {
      "needs_background": "light"
     },
     "output_type": "display_data"
    }
   ],
   "source": [
    "## Mejoremos la ejecución pasada a recorrer una lista de pendientes con un for \n",
    "pendientes = [2,4,8]\n",
    "X = range(0,100)\n",
    "\n",
    "for pendiente in pendientes:\n",
    "    Y = [pendiente* i + 30 for i in range(0,100)]\n",
    "    plt.plot(X,Y, label = f\"m =  {pendiente}\")\n",
    "    plt.legend()\n",
    "\n",
    "plt.savefig(\"mi_figura.png\")"
   ]
  },
  {
   "cell_type": "code",
   "execution_count": null,
   "metadata": {
    "id": "8TsdGQ5OeCh6"
   },
   "outputs": [],
   "source": []
  },
  {
   "cell_type": "code",
   "execution_count": 148,
   "metadata": {
    "colab": {
     "base_uri": "https://localhost:8080/"
    },
    "id": "D4NNCxy3cSyG",
    "outputId": "7c56524f-3178-4f10-ef6f-7c613cee480b"
   },
   "outputs": [
    {
     "name": "stdout",
     "output_type": "stream",
     "text": [
      "0\n",
      "El número 1 no es múltiplo de 6\n",
      "El número 2 no es múltiplo de 6\n",
      "El número 3 no es múltiplo de 6\n",
      "El número 4 no es múltiplo de 6\n",
      "El número 5 no es múltiplo de 6\n",
      "6\n",
      "El número 7 no es múltiplo de 6\n",
      "El número 8 no es múltiplo de 6\n",
      "El número 9 no es múltiplo de 6\n",
      "El número 10 no es múltiplo de 6\n",
      "El número 11 no es múltiplo de 6\n",
      "12\n",
      "El número 13 no es múltiplo de 6\n",
      "El número 14 no es múltiplo de 6\n",
      "El número 15 no es múltiplo de 6\n",
      "El número 16 no es múltiplo de 6\n",
      "El número 17 no es múltiplo de 6\n",
      "18\n",
      "El número 19 no es múltiplo de 6\n",
      "El número 20 no es múltiplo de 6\n",
      "El número 21 no es múltiplo de 6\n",
      "El número 22 no es múltiplo de 6\n",
      "El número 23 no es múltiplo de 6\n",
      "24\n",
      "El número 25 no es múltiplo de 6\n",
      "El número 26 no es múltiplo de 6\n",
      "El número 27 no es múltiplo de 6\n",
      "El número 28 no es múltiplo de 6\n",
      "El número 29 no es múltiplo de 6\n",
      "30\n",
      "El número 31 no es múltiplo de 6\n",
      "El número 32 no es múltiplo de 6\n",
      "El número 33 no es múltiplo de 6\n",
      "El número 34 no es múltiplo de 6\n",
      "El número 35 no es múltiplo de 6\n",
      "36\n",
      "El número 37 no es múltiplo de 6\n",
      "El número 38 no es múltiplo de 6\n",
      "El número 39 no es múltiplo de 6\n",
      "El número 40 no es múltiplo de 6\n",
      "El número 41 no es múltiplo de 6\n",
      "42\n",
      "El número 43 no es múltiplo de 6\n",
      "El número 44 no es múltiplo de 6\n",
      "El número 45 no es múltiplo de 6\n",
      "El número 46 no es múltiplo de 6\n",
      "El número 47 no es múltiplo de 6\n",
      "48\n",
      "El número 49 no es múltiplo de 6\n",
      "El número 50 no es múltiplo de 6\n",
      "El número 51 no es múltiplo de 6\n",
      "El número 52 no es múltiplo de 6\n",
      "El número 53 no es múltiplo de 6\n",
      "54\n",
      "El número 55 no es múltiplo de 6\n",
      "El número 56 no es múltiplo de 6\n",
      "El número 57 no es múltiplo de 6\n",
      "El número 58 no es múltiplo de 6\n",
      "El número 59 no es múltiplo de 6\n",
      "60\n",
      "El número 61 no es múltiplo de 6\n",
      "El número 62 no es múltiplo de 6\n",
      "El número 63 no es múltiplo de 6\n",
      "El número 64 no es múltiplo de 6\n",
      "El número 65 no es múltiplo de 6\n",
      "66\n",
      "El número 67 no es múltiplo de 6\n",
      "El número 68 no es múltiplo de 6\n",
      "El número 69 no es múltiplo de 6\n",
      "El número 70 no es múltiplo de 6\n",
      "El número 71 no es múltiplo de 6\n",
      "72\n",
      "El número 73 no es múltiplo de 6\n",
      "El número 74 no es múltiplo de 6\n",
      "El número 75 no es múltiplo de 6\n",
      "El número 76 no es múltiplo de 6\n",
      "El número 77 no es múltiplo de 6\n",
      "78\n",
      "El número 79 no es múltiplo de 6\n",
      "El número 80 no es múltiplo de 6\n",
      "El número 81 no es múltiplo de 6\n",
      "El número 82 no es múltiplo de 6\n",
      "El número 83 no es múltiplo de 6\n",
      "84\n",
      "El número 85 no es múltiplo de 6\n",
      "El número 86 no es múltiplo de 6\n",
      "El número 87 no es múltiplo de 6\n",
      "El número 88 no es múltiplo de 6\n",
      "El número 89 no es múltiplo de 6\n",
      "90\n",
      "El número 91 no es múltiplo de 6\n",
      "El número 92 no es múltiplo de 6\n",
      "El número 93 no es múltiplo de 6\n",
      "El número 94 no es múltiplo de 6\n",
      "El número 95 no es múltiplo de 6\n",
      "96\n",
      "El número 97 no es múltiplo de 6\n",
      "El número 98 no es múltiplo de 6\n",
      "El número 99 no es múltiplo de 6\n"
     ]
    }
   ],
   "source": [
    "for elemento in range(0, 100):\n",
    "  if elemento % 6 ==0:\n",
    "    print(elemento)\n",
    "  else:\n",
    "    print(f\"El número {elemento} no es múltiplo de 6\")"
   ]
  },
  {
   "cell_type": "code",
   "execution_count": null,
   "metadata": {
    "id": "bTYoKMvWdlek"
   },
   "outputs": [],
   "source": []
  },
  {
   "cell_type": "markdown",
   "metadata": {
    "id": "XX7LT5r0iR6j"
   },
   "source": [
    "# Programación orientada a objetos\n",
    "* Atributos\n",
    "* Metodos"
   ]
  },
  {
   "cell_type": "code",
   "execution_count": 1,
   "metadata": {
    "colab": {
     "base_uri": "https://localhost:8080/"
    },
    "id": "A32wIMbUb7E5",
    "outputId": "49303335-9f2c-4ab2-cd1c-9f94d8482c81"
   },
   "outputs": [
    {
     "data": {
      "text/plain": [
       "Soy el votante con edad 45 y vivo en el distrito M757"
      ]
     },
     "execution_count": 1,
     "metadata": {},
     "output_type": "execute_result"
    }
   ],
   "source": [
    "class Votante:\n",
    "    def __init__(self, edad, distrito):\n",
    "        self.edad = edad\n",
    "        self.distrito = distrito\n",
    "    def __repr__(self):\n",
    "        return f\"Soy el votante con edad {self.edad} y vivo en el distrito {self.distrito}\"\n",
    "  \n",
    "\n",
    "pedro = Votante(45, \"M757\")\n",
    "pedro"
   ]
  }
 ],
 "metadata": {
  "colab": {
   "provenance": []
  },
  "kernelspec": {
   "display_name": "Python 3 (ipykernel)",
   "language": "python",
   "name": "python3"
  },
  "language_info": {
   "codemirror_mode": {
    "name": "ipython",
    "version": 3
   },
   "file_extension": ".py",
   "mimetype": "text/x-python",
   "name": "python",
   "nbconvert_exporter": "python",
   "pygments_lexer": "ipython3",
   "version": "3.7.11"
  }
 },
 "nbformat": 4,
 "nbformat_minor": 1
}
