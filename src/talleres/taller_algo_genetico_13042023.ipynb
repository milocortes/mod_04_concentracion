{
  "cells": [
    {
      "cell_type": "code",
      "execution_count": null,
      "metadata": {
        "id": "zEb4-6y7pczy"
      },
      "outputs": [],
      "source": []
    },
    {
      "attachments": {},
      "cell_type": "markdown",
      "metadata": {
        "id": "stSyi8MqplsM"
      },
      "source": [
        "# Problema de optimización usando Algoritmos Genéticos\n",
        "\n",
        "<a href=\"https://colab.research.google.com/github/milocortes/mod_04_concentracion/blob/ccm-2023/src/talleres/taller_algo_genetico_13042023.ipynb\" target=\"_parent\"><img src=\"https://colab.research.google.com/assets/colab-badge.svg\" alt=\"Open In Colab\"/></a>\n",
        "\n",
        "## Configuración del algoritmo\n",
        "* Función a minimizar : Himmelblau\n",
        "* Número de variables de decisión = 2\n",
        "* Precision = 6\n",
        "* Espacio de búsqueda $ -5  \\leq x,,y \\leq 5$\n",
        "\n",
        "### Parámetros del Algoritmo\n",
        "* Método de selección: Ruleta\n",
        "* Cruza : En un punto\n",
        "* Mutación : En un bit\n",
        "* Probabilidad de cruza : 0.85\n",
        "* Probabilidad de mutación : $\\dfrac{1}{L} * 0.01$"
      ]
    },
    {
      "cell_type": "markdown",
      "metadata": {
        "id": "tXadda9Fqt8j"
      },
      "source": [
        "# Generación de la población inicial\n",
        "\n",
        "## Codificar las variables\n",
        "\n",
        "$$\n",
        "L = [\\log_2((l_{sup} - l_{inf})\\times 10^{\\text{precision}})]\n",
        "$$"
      ]
    },
    {
      "cell_type": "code",
      "execution_count": 3,
      "metadata": {
        "colab": {
          "base_uri": "https://localhost:8080/"
        },
        "id": "60cEzPAuq2uS",
        "outputId": "cb2d9d07-9622-4091-e815-0425ec3a7f0c"
      },
      "outputs": [
        {
          "data": {
            "text/plain": [
              "48"
            ]
          },
          "execution_count": 3,
          "metadata": {},
          "output_type": "execute_result"
        }
      ],
      "source": [
        "## Necesitamos conocer la longitud del cromosoma\n",
        "from math import log2, ceil\n",
        "\n",
        "def length_variable(l_sup : float, l_inf : float, precision : float) -> int:\n",
        "  return ceil(log2((l_sup - l_inf) * 10**precision))\n",
        "\n",
        "L_x = length_variable(5.0, -5.0, 6)\n",
        "L_y = length_variable(5.0, -5.0, 6)\n",
        "L = L_x + L_y\n",
        "L"
      ]
    },
    {
      "cell_type": "code",
      "execution_count": 14,
      "metadata": {
        "colab": {
          "base_uri": "https://localhost:8080/"
        },
        "id": "AUnxvlt7tFNk",
        "outputId": "05e8434e-67dd-4852-d2a9-2e900cba0fa0"
      },
      "outputs": [
        {
          "data": {
            "text/plain": [
              "array([0, 1, 1, 0, 0, 0, 0, 0, 0, 0, 0, 1, 1, 0, 0, 1, 1, 1, 0, 0, 1, 0,\n",
              "       1, 0, 1, 0, 1, 0, 1, 1, 0, 0, 1, 0, 1, 1, 0, 1, 1, 1, 1, 0, 0, 0,\n",
              "       1, 0, 1, 1])"
            ]
          },
          "execution_count": 14,
          "metadata": {},
          "output_type": "execute_result"
        }
      ],
      "source": [
        "# Generamos una función que construye el genotipo de un individuo\n",
        "import numpy as np\n",
        "\n",
        "def construye_genotipo(n_vars : int, upper_bound : list, lower_bound : list, precision : float):\n",
        "  L = 0\n",
        "  for i in range(n_vars):\n",
        "    L += length_variable(upper_bound[i], lower_bound[i], precision)\n",
        "\n",
        "  return np.random.choice([0,1], L)\n",
        "\n",
        "up_bounds = [5, 5]\n",
        "lw_bounds = [-5, -5]\n",
        "n_var = 2\n",
        "precision = 6\n",
        "\n",
        "construye_genotipo(n_var, up_bounds, lw_bounds, precision)\n"
      ]
    },
    {
      "cell_type": "code",
      "execution_count": 16,
      "metadata": {
        "id": "aGabVdv9wxA3"
      },
      "outputs": [],
      "source": [
        "# Generamos una población de 10 individuos\n",
        "n_pob = 10\n",
        "\n",
        "pob_ini = [construye_genotipo(n_var, up_bounds, lw_bounds, precision)  for _ in range(n_pob)]\n"
      ]
    },
    {
      "cell_type": "markdown",
      "metadata": {
        "id": "iUfmOS9nxZfO"
      },
      "source": [
        "# Evaluación de la población inicial"
      ]
    },
    {
      "cell_type": "code",
      "execution_count": 22,
      "metadata": {
        "colab": {
          "base_uri": "https://localhost:8080/"
        },
        "id": "53g1JRJ-xuUZ",
        "outputId": "32ae55fc-0f4b-4b2f-a56a-45f1472bdbfc"
      },
      "outputs": [
        {
          "data": {
            "text/plain": [
              "11"
            ]
          },
          "execution_count": 22,
          "metadata": {},
          "output_type": "execute_result"
        }
      ],
      "source": [
        "# Función que obtine las potencias de 2 de un vector de bits\n",
        "\n",
        "def to_decimal(dimension : int , cromosoma : np.array):\n",
        "  return sum([2**i for i in range(dimension-1, -1, -1)]*cromosoma)\n",
        "\n",
        "to_decimal(4, np.array([1, 0, 1, 1]) )\n"
      ]
    },
    {
      "cell_type": "code",
      "execution_count": 23,
      "metadata": {
        "colab": {
          "base_uri": "https://localhost:8080/"
        },
        "id": "sP4ERJ5tzVNl",
        "outputId": "4d0190f9-6aa9-41b5-c1a4-260dde922692"
      },
      "outputs": [
        {
          "data": {
            "text/plain": [
              "171366804656386"
            ]
          },
          "execution_count": 23,
          "metadata": {},
          "output_type": "execute_result"
        }
      ],
      "source": [
        "to_decimal(48, pob_ini[5])"
      ]
    },
    {
      "cell_type": "code",
      "execution_count": 26,
      "metadata": {
        "colab": {
          "base_uri": "https://localhost:8080/"
        },
        "id": "JqbZhpa50LL-",
        "outputId": "063883f5-0cc9-4cd4-b43a-6e53ccaf4aa7"
      },
      "outputs": [
        {
          "data": {
            "text/plain": [
              "array([1, 0, 0, 1, 1, 0, 1, 1, 1, 1, 0, 1, 1, 0, 1, 1, 0, 1, 1, 1, 0, 0,\n",
              "       0, 1, 1, 0, 0, 0, 0, 1, 0, 0, 1, 0, 0, 1, 0, 0, 0, 1, 0, 0, 0, 0,\n",
              "       0, 0, 1, 0])"
            ]
          },
          "execution_count": 26,
          "metadata": {},
          "output_type": "execute_result"
        }
      ],
      "source": [
        "pob_ini[5]"
      ]
    },
    {
      "cell_type": "code",
      "execution_count": 31,
      "metadata": {
        "colab": {
          "base_uri": "https://localhost:8080/"
        },
        "id": "usCXGcpOzlnt",
        "outputId": "ff9ef343-3cd4-4b8d-a8e1-e3b955e0711f"
      },
      "outputs": [
        {
          "data": {
            "text/plain": [
              "-1.5514169067988934"
            ]
          },
          "execution_count": 31,
          "metadata": {},
          "output_type": "execute_result"
        }
      ],
      "source": [
        "# Función que decodifica el cromosoma a un valor real\n",
        "def binary2real(upper_bound : float, lower_bound : float, dimension : int, individuo : np.array):\n",
        "   return lower_bound + (to_decimal(dimension, individuo)* ((upper_bound - lower_bound)/(2**len(individuo)-1)))\n",
        "\n",
        "binary2real(5, -5,24 ,pob_ini[0][:24])"
      ]
    },
    {
      "cell_type": "code",
      "execution_count": 33,
      "metadata": {
        "id": "o_HIgj6W1n53"
      },
      "outputs": [],
      "source": [
        "# Funcion que decodifica el cromosoma completo\n",
        "def decode(genotipo : np.array, n_vars : int, upper_bound : list, lower_bound : list, precision : float):\n",
        "  L_total_vars = 0\n",
        "\n",
        "  fenotipo = []\n",
        "\n",
        "  for i in range(n_var):\n",
        "    L_var = length_variable(upper_bound[i], lower_bound[i], precision)\n",
        "\n",
        "    fenotipo.append(\n",
        "        binary2real(upper_bound[i], lower_bound[i], L_var, genotipo[L_total_vars: L_total_vars + L_var])\n",
        "    )\n",
        "\n",
        "    L_total_vars += L_var\n",
        "\n",
        "    return fenotipo\n",
        "\n",
        "  decode(list(pob_ini[4]), n_vars, up_bounds, lw_bounds, precision)"
      ]
    },
    {
      "cell_type": "code",
      "execution_count": 38,
      "metadata": {
        "colab": {
          "base_uri": "https://localhost:8080/"
        },
        "id": "qiZ7JJO041l3",
        "outputId": "3b7ea08f-2a42-4d1d-9306-b11ee907b062"
      },
      "outputs": [
        {
          "data": {
            "text/plain": [
              "[4.293433981742501, -2.6106904513055356]"
            ]
          },
          "execution_count": 38,
          "metadata": {},
          "output_type": "execute_result"
        }
      ],
      "source": [
        "def decode(genotipo : np.array, n_vars : int, upper_bound : list, lower_bound : list, precision :float) -> list:\n",
        "    \n",
        "    L_total_vars = 0\n",
        "    fenotipo = []\n",
        "    \n",
        "    for i in range(n_vars):\n",
        "        L_var = length_variable(upper_bound[i], lower_bound[i], precision)\n",
        "\n",
        "        fenotipo.append(\n",
        "            binary2real(upper_bound[i], lower_bound[i], L_var, genotipo[L_total_vars: L_total_vars + L_var])\n",
        "        )\n",
        "\n",
        "        L_total_vars += L_var            \n",
        "\n",
        "    \n",
        "    return fenotipo\n",
        "\n",
        "decode(pob_ini[4], 2, up_bounds, lw_bounds, precision)"
      ]
    },
    {
      "cell_type": "code",
      "execution_count": null,
      "metadata": {},
      "outputs": [],
      "source": []
    },
    {
      "cell_type": "code",
      "execution_count": null,
      "metadata": {},
      "outputs": [],
      "source": [
        "def f_himmelblau(X):\n",
        "  x,y = X\n",
        "  return (x**2 + y -11)**2 + (x + y**2 -7)**2"
      ]
    }
  ],
  "metadata": {
    "colab": {
      "provenance": []
    },
    "kernelspec": {
      "display_name": "Python 3",
      "name": "python3"
    },
    "language_info": {
      "name": "python"
    }
  },
  "nbformat": 4,
  "nbformat_minor": 0
}
