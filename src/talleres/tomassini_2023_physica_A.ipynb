{
 "cells": [
  {
   "cell_type": "markdown",
   "metadata": {},
   "source": [
    "# Tomassini, M. (2023). Designing robust scale-free networks under targeted link attack using local information. \n",
    "\n",
    "<a href=\"https://colab.research.google.com/github/milocortes/mod_04_concentracion/blob/ccm-2023/src/talleres/tomassini_2023_physica_A.ipynb\" target=\"_parent\"><img src=\"https://colab.research.google.com/assets/colab-badge.svg\" alt=\"Open In Colab\"/></a>"
   ]
  },
  {
   "cell_type": "code",
   "execution_count": 1,
   "metadata": {},
   "outputs": [],
   "source": [
    "import networkx as nx \n",
    "import matplotlib.pyplot as plt \n",
    "import numpy as np\n",
    "import math\n",
    "\n",
    "def edge_degree(u : int, v : int, G : nx.Graph):\n",
    "    \"\"\"\n",
    "    The edge degree d(e) of the edge e = uv is deﬁned as the number of neighbours of e, i.e., |N(u) ∪ N (v)| − 2\n",
    "\n",
    "    Yoshimoto, K. (2008). Edge degrees and dominating cycles. Discrete mathematics, 308(12), 2594-2599.\n",
    "    \"\"\"\n",
    "\n",
    "    return len(set(G.adj[u]) | set(G.adj[v])) - 2\n",
    "\n",
    "\n",
    "def edge_a_remover(G : nx.Graph):\n",
    "    \"\"\"\n",
    "    Regresa el la arista con mayor grado\n",
    "    \"\"\"\n",
    "    edges = list(G.edges()) \n",
    "    edges_degree = [(edge, edge_degree(*edge, G)) for edge in edges]\n",
    "    diccionario_ordenado = sorted(edges_degree,  key=lambda item: item[1], reverse = True)\n",
    "\n",
    "    return diccionario_ordenado[0][0]\n",
    "\n",
    "def calculateR(G : nx.Graph):\n",
    "    \"\"\"\n",
    "    Notes\n",
    "    -----\n",
    "    This function computes Eq.[1] in Ref.[1]\n",
    "\n",
    "    References\n",
    "    ----------\n",
    "    .. [1]Schneider, C. M., Moreira, A. A., Andrade, J. S., Havlin, S., & Herrmann, H. J. (2011).\n",
    "        Mitigation of malicious attacks on networks.\n",
    "        Proceedings of the National Academy of Sciences, 108(10), 3838-3841.\n",
    "    .. [2] Herrmann, H. J., Schneider, C. M., Moreira, A. A., Andrade Jr, J. S., & Havlin, S. (2011).\n",
    "        Onion-like network topology enhances robustness against malicious attacks.\n",
    "        Journal of Statistical Mechanics: Theory and Experiment, 2011(01), P01027.\n",
    "    \"\"\"\n",
    "    G = G.copy()\n",
    "    N = len(G)\n",
    "    S_q = []\n",
    "    for _ in range(N-1):\n",
    "        #maxdeg = max(list(nx.degree(G).values()))\n",
    "        node_maxdeg = sorted(G.degree, key=lambda x: x[1], reverse=True)[0][0]\n",
    "        G.remove_node(node_maxdeg)\n",
    "        largest_connected = max(nx.connected_components(G), key=len)\n",
    "        S_q.append(len(largest_connected) / N)\n",
    "    return sum(S_q) / N\n",
    "\n",
    "def robustness_measures(G_input : nx.Graph, rm_type : str):\n",
    "    if rm_type == \"R(G)\":\n",
    "        return calculateR(G_input)\n",
    "    elif rm_type == \"E(G)\":\n",
    "        return nx.efficiency_measures.global_efficiency(G_input)\n",
    "    \n",
    "    \n",
    "\n",
    "def local_swap(G : nx.Graph):\n",
    "\n",
    "    bandera = True\n",
    "    N = len(G.nodes())\n",
    "\n",
    "    while bandera:\n",
    "        nodos = list(G.nodes())\n",
    "\n",
    "        u = np.random.choice(nodos, 1)[0]\n",
    "        v = np.random.choice(list(G[u]))\n",
    "\n",
    "        vecinos_u = list(G[u])\n",
    "        vecinos_v = list(G[v])\n",
    "\n",
    "        x = np.random.choice(vecinos_u + vecinos_v, 1)[0]\n",
    "        y = np.random.choice(list(G[x]))\n",
    "\n",
    "        # Checa si (u,v) y (x,y) son adyacentes, es decir, si comparten\n",
    "        # algún vértice \n",
    "        if len(set((u,v)) & set((x,y))) > 0:\n",
    "            continue  # same target, skip\n",
    "        if (x not in G[u]) and (y not in G[v]):  # don't create parallel edges\n",
    "            G.add_edge(u, x)\n",
    "            G.add_edge(v, y)\n",
    "            G.remove_edge(u, v)\n",
    "            G.remove_edge(x, y)\n",
    "\n",
    "            n_gigant_component = len(max(nx.connected_components(G), key=len))\n",
    "\n",
    "            if n_gigant_component == N:\n",
    "                bandera = False\n",
    "            else:\n",
    "                G.remove_edge(u, x)\n",
    "                G.remove_edge(v, y)\n",
    "                G.add_edge(u, v)\n",
    "                G.add_edge(x, y)         \n",
    "\n",
    "    return G\n",
    "\n"
   ]
  },
  {
   "cell_type": "code",
   "execution_count": null,
   "metadata": {},
   "outputs": [],
   "source": []
  },
  {
   "cell_type": "code",
   "execution_count": null,
   "metadata": {},
   "outputs": [],
   "source": []
  },
  {
   "cell_type": "code",
   "execution_count": null,
   "metadata": {},
   "outputs": [],
   "source": []
  },
  {
   "cell_type": "code",
   "execution_count": 5,
   "metadata": {},
   "outputs": [],
   "source": [
    "\n",
    "def ataque_dirigido(G_input : nx.Graph, porcentaje_minimo : float, porcentaje_maximo : float, muestras : int):\n",
    "    \"\"\"\n",
    "    ### ATAQUE DIRIGIDO\n",
    "\n",
    "    ## Quitamos las aristas con mayor grado\n",
    "\n",
    "    ## Proporción de nodos en el componente gigante como medida de robustez\n",
    "\n",
    "    \"\"\"\n",
    "    G_input = G_input.copy()\n",
    "    m = len(G_input.nodes())\n",
    "    \n",
    "    razon_sf = []\n",
    "\n",
    "\n",
    "    porcentaje_edges_remover = np.linspace( porcentaje_minimo, porcentaje_maximo, muestras)\n",
    "    total_edges = len(G_input.edges)\n",
    "\n",
    "    for f in porcentaje_edges_remover:\n",
    "        # Hacemos una copia de laS gráficas completas para simular el ataque\n",
    "        G_atacada = G_input.copy()\n",
    "\n",
    "        # Obtenemos la cantidad de edges a remover\n",
    "        numero_edges_remover = int(total_edges * f)    \n",
    "\n",
    "        contador = 0 \n",
    "        \n",
    "        while contador <= numero_edges_remover:\n",
    "            # Seleccionamos de forma aleatoria arista a remover\n",
    "            edge_remover = edge_a_remover(G_atacada)\n",
    "\n",
    "            # Removemos la arista en la red\n",
    "            G_atacada.remove_edge(*edge_remover)\n",
    "\n",
    "            contador += 1\n",
    "\n",
    "        # Calculamos eficiencia de la red\n",
    "        # Calculamos la cantidad de nodos en el componente gigante\n",
    "        Sf = len(max(nx.connected_components(G_atacada), key=len))\n",
    "\n",
    "        #print(f\"% Aristas removidas {round(f, 3)}. Sf: {Sf/m}\")\n",
    "\n",
    "        razon_sf.append(Sf/m)\n",
    "    \n",
    "    return razon_sf"
   ]
  },
  {
   "cell_type": "code",
   "execution_count": 6,
   "metadata": {},
   "outputs": [],
   "source": []
  },
  {
   "cell_type": "code",
   "execution_count": null,
   "metadata": {},
   "outputs": [],
   "source": []
  },
  {
   "cell_type": "code",
   "execution_count": null,
   "metadata": {},
   "outputs": [],
   "source": [
    "def local_reinforcement_algorithm(G_input : nx.Graph, medida : str, iteraciones : int):\n"
   ]
  },
  {
   "cell_type": "code",
   "execution_count": 1,
   "metadata": {},
   "outputs": [],
   "source": [
    "### Reforzamos la red original con el algoritmo global y métrica R(G)\n"
   ]
  },
  {
   "cell_type": "code",
   "execution_count": 2,
   "metadata": {},
   "outputs": [],
   "source": [
    "### Reforzamos la red original con el algoritmo global y métrica E(G)\n"
   ]
  },
  {
   "cell_type": "code",
   "execution_count": null,
   "metadata": {},
   "outputs": [],
   "source": [
    "robustez_original = ataque_dirigido(G_BA, porcentaje_minimo, porcentaje_maximo, muestras)\n",
    "robustez_optimizada_R = ataque_dirigido(G_optimizada_R, porcentaje_minimo, porcentaje_maximo, muestras)\n",
    "robustez_optimizada_E = ataque_dirigido(G_optimizada_E, porcentaje_minimo, porcentaje_maximo, muestras)\n",
    "\n",
    "plt.plot(porcentaje_edges_remover, robustez_original , label = \"Original\", marker = 'o')\n",
    "plt.plot(porcentaje_edges_remover, robustez_optimizada_R , label = \"Optimizada R(G)\", marker = 'o')\n",
    "plt.plot(porcentaje_edges_remover, robustez_optimizada_E , label = \"Optimizada E(G)\", marker = 'o')\n",
    "\n",
    "plt.title(\"Ataques dirigidos\")\n",
    "plt.xlabel(r\"$f$\")\n",
    "plt.ylabel(r\"$\\dfrac{S_f}{N}$\")\n",
    "plt.legend()\n",
    "plt.show()"
   ]
  },
  {
   "cell_type": "code",
   "execution_count": null,
   "metadata": {},
   "outputs": [],
   "source": [
    "nx.draw(G_BA)\n",
    "plt.title(\"Red original\")\n",
    "plt.show()"
   ]
  },
  {
   "cell_type": "code",
   "execution_count": null,
   "metadata": {},
   "outputs": [],
   "source": [
    "nx.draw(G_optimizada_R)\n",
    "plt.title(\"Red optimizada R(G)\")\n",
    "plt.show()"
   ]
  },
  {
   "cell_type": "code",
   "execution_count": null,
   "metadata": {},
   "outputs": [],
   "source": [
    "nx.draw(G_optimizada_E)\n",
    "plt.title(\"Red optimizada E(G)\")\n",
    "plt.show()"
   ]
  }
 ],
 "metadata": {
  "kernelspec": {
   "display_name": "Python 3 (ipykernel)",
   "language": "python",
   "name": "python3"
  },
  "language_info": {
   "codemirror_mode": {
    "name": "ipython",
    "version": 3
   },
   "file_extension": ".py",
   "mimetype": "text/x-python",
   "name": "python",
   "nbconvert_exporter": "python",
   "pygments_lexer": "ipython3",
   "version": "3.7.11"
  }
 },
 "nbformat": 4,
 "nbformat_minor": 4
}
