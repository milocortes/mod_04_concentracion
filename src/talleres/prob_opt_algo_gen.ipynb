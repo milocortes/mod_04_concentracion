{
 "cells": [
  {
   "cell_type": "markdown",
   "id": "b5ea1e0e",
   "metadata": {},
   "source": [
    "# Problema de optimización usando Algoritmos Genéticos\n",
    "\n",
    "<a href=\"https://colab.research.google.com/github/milocortes/mod_04_concentracion/blob/ccm-2024/src/talleres/prob_opt_algo_gen.ipynb\" target=\"_parent\"><img src=\"https://colab.research.google.com/assets/colab-badge.svg\" alt=\"Open In Colab\"/></a>\n",
    "\n",
    "\n",
    "\n",
    "## Función Himmelblau\n",
    "\n",
    "* Función: $f(x,y) = (x^2 +y -11)^2 + (x+y^2-7)^2$\n",
    "* NO Var: 2\n",
    "* Precisión: 6\n",
    "* Espacio de búsqueda : $-5<x,y < 5$, $-∞ < z < 1000$\n",
    "\n",
    "# Parámetros del algoritmo\n",
    "\n",
    "* Método de selección: ruleta\n",
    "* Cruza: En un punto\n",
    "* Mutación: en un bit\n",
    "* Probabilidad de cruza: $P_c = 0.85$\n",
    "* Probabilidad de mutación : 0.000000001"
   ]
  },
  {
   "cell_type": "code",
   "execution_count": null,
   "id": "acef5567",
   "metadata": {},
   "outputs": [],
   "source": []
  },
  {
   "cell_type": "markdown",
   "id": "edae9692",
   "metadata": {},
   "source": [
    "## Generación de la población\n",
    "\n",
    "### Codificación de las variables\n",
    "\n",
    "$$\n",
    "L = [\\log_2((l_{sup} - l_{inf})\\times 10^{\\text{precision}})]\n",
    "$$\n"
   ]
  },
  {
   "cell_type": "code",
   "execution_count": null,
   "id": "15842a66",
   "metadata": {},
   "outputs": [],
   "source": []
  },
  {
   "cell_type": "markdown",
   "id": "0a3cdda9",
   "metadata": {},
   "source": [
    "## Selección\n",
    "\n",
    "En la selección vamos a escoger a los individuos con las mejores condiciones para contribuir a la generación de la siguiente generación.\n",
    "\n",
    "Para esto, tenemos que calcular la aptitud de cada individuo.\n",
    "\n",
    "### Aptitud"
   ]
  },
  {
   "cell_type": "code",
   "execution_count": null,
   "id": "b6549e0b",
   "metadata": {},
   "outputs": [],
   "source": []
  },
  {
   "cell_type": "markdown",
   "id": "f7166c0d",
   "metadata": {},
   "source": [
    "## Cruza\n",
    "* Es un proceso que genera una recombinación de los alelos mediante el intercambio de segmentos entre pares de cromosomas.\n",
    "* Es usado para combinar la información genética de dos individuos para genear (usualmente) dos nuevos individuos.\n",
    "\n"
   ]
  },
  {
   "cell_type": "code",
   "execution_count": null,
   "id": "ecbfc7a5",
   "metadata": {},
   "outputs": [],
   "source": []
  },
  {
   "cell_type": "markdown",
   "id": "87333730",
   "metadata": {},
   "source": [
    "## Mutación \n",
    "* La mutación es el último operador genético en el proceso de generar la nueva población.\n",
    "* La mutación es un proceso donde un alelo (bit) de cromosoma es reemplazado de forma aleatoria para generar un nuevo cromosoma."
   ]
  }
 ],
 "metadata": {
  "kernelspec": {
   "display_name": "Python 3 (ipykernel)",
   "language": "python",
   "name": "python3"
  },
  "language_info": {
   "codemirror_mode": {
    "name": "ipython",
    "version": 3
   },
   "file_extension": ".py",
   "mimetype": "text/x-python",
   "name": "python",
   "nbconvert_exporter": "python",
   "pygments_lexer": "ipython3",
   "version": "3.11.5"
  }
 },
 "nbformat": 4,
 "nbformat_minor": 5
}
