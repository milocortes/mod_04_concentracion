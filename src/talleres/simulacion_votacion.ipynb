{
  "cells": [
    {
      "attachments": {},
      "cell_type": "markdown",
      "metadata": {
        "id": "Ygor5IXHBB0C"
      },
      "source": [
        "# Simulación de una votación\n",
        "<a href=\"https://colab.research.google.com/github/milocortes/mod_04_concentracion/blob/ccm-2023/src/talleres/simulacion_votacion.ipynb\" target=\"_parent\"><img src=\"https://colab.research.google.com/assets/colab-badge.svg\" alt=\"Open In Colab\"/></a>\n",
        "\n",
        "Realizaremos la simulación de una votación.\n",
        "\n",
        "## Agentes\n",
        "\n",
        "* Votantes\n",
        "* Autoridad electoral (AE)\n",
        "\n",
        "## Comportamiento de los agentes\n",
        "\n",
        "* Votantes:\n",
        "  * Se registran con la AE\n",
        "  * Votan por un partido\n",
        "  \n",
        "* AE:\n",
        "  * Registra a lxs votantes.\n"
      ]
    },
    {
      "cell_type": "code",
      "execution_count": null,
      "metadata": {
        "colab": {
          "base_uri": "https://localhost:8080/"
        },
        "id": "7V9OqI8nBlDk",
        "outputId": "50522a3d-425a-4964-b22d-6073ea17b80b"
      },
      "outputs": [
        {
          "name": "stdout",
          "output_type": "stream",
          "text": [
            "Soy el votante Daniel mi edad es 45. CR 1\n",
            "Soy el votante XImena mi edad es 25. CR 2\n"
          ]
        },
        {
          "data": {
            "text/plain": [
              "{'MORENA': 1, 'RSP': 0, 'PAN': 1, 'PSM': 0, 'PRD': 0}"
            ]
          },
          "execution_count": 28,
          "metadata": {},
          "output_type": "execute_result"
        }
      ],
      "source": [
        "class Votante:\n",
        "  def __init__(self, nombre : str, edad : int):\n",
        "    self.nombre = nombre\n",
        "    self.edad = edad\n",
        "    self.clave_registro = None\n",
        "\n",
        "  def __repr__(self):\n",
        "    return f\"Soy el votante {self.nombre} mi edad es {self.edad}. CR {self.clave_registro}\"\n",
        "\n",
        "  def registrarse(self, autoridad_electoral):\n",
        "    clave_registro = autoridad_electoral.registrar_votante(self.nombre, self.edad)\n",
        "\n",
        "    self.clave_registro = clave_registro\n",
        "  \n",
        "  def votar(self, autoridad_electoral, partido):\n",
        "    autoridad_electoral.registrar_voto(self.nombre, self.edad, self.clave_registro, partido)\n",
        "\n",
        "class AutoridadElectoral:\n",
        "  \n",
        "  def __init__(self, nombre, padron_electoral = {}, conteo_elecciones = {}):\n",
        "    self.nombre = nombre \n",
        "    self.padron_electoral = padron_electoral\n",
        "    self.conteo_elecciones = conteo_elecciones\n",
        "    self.contador_padron_electoral = 0\n",
        "\n",
        "  def __repr__(self):\n",
        "    return f\"Soy el {self.nombre}\"\n",
        "\n",
        "  def registrar_votante(self, nombre, edad):\n",
        "    self.contador_padron_electoral +=  1\n",
        "    self.padron_electoral[(nombre, edad)] = self.contador_padron_electoral\n",
        "    \n",
        "    return self.contador_padron_electoral\n",
        "\n",
        "  def registrar_voto(self, nombre_votante, edad_votante, cr_votante, partido):\n",
        "    ## El votante está registrado?\n",
        "    if (nombre_votante, edad_votante) in self.padron_electoral:\n",
        "      self.conteo_elecciones[partido] += 1\n",
        "    else:\n",
        "      print(\"El elector no está registrado\")\n",
        "    \n",
        "  def registrar_partidos(self, partidos):\n",
        "    self.conteo_elecciones = partidos\n",
        "  \n",
        "\n",
        "INE = AutoridadElectoral(\"Instituto Nacional Electoral\")\n",
        "votante_prueba = Votante(\"Daniel\", 45)\n",
        "votante_prueba.registrarse(INE)\n",
        "votante_prueba_dos = Votante(\"XImena\", 25)\n",
        "votante_prueba_dos.registrarse(INE)\n",
        "\n",
        "for votante in [votante_prueba, votante_prueba_dos]:\n",
        "  print(votante)\n",
        "\n",
        "## En un diccionario definimos el registro de los partidos\n",
        "registro = {\"MORENA\" : 0, \"RSP\" :0, \"PAN\" : 0, \"PSM\" : 0 , \"PRD\" : 0}\n",
        "\n",
        "INE.registrar_partidos(registro)\n",
        "INE.conteo_elecciones\n",
        "\n",
        "votante_prueba.votar(INE, \"MORENA\")\n",
        "INE.conteo_elecciones\n",
        "votante_prueba_dos.votar(INE, \"PAN\")\n",
        "INE.conteo_elecciones"
      ]
    },
    {
      "cell_type": "code",
      "execution_count": null,
      "metadata": {
        "colab": {
          "base_uri": "https://localhost:8080/",
          "height": 36
        },
        "id": "-1g-YG1MQ87o",
        "outputId": "eee04026-99ad-4600-9084-22f58653c293"
      },
      "outputs": [
        {
          "data": {
            "application/vnd.google.colaboratory.intrinsic+json": {
              "type": "string"
            },
            "text/plain": [
              "'PSM'"
            ]
          },
          "execution_count": 40,
          "metadata": {},
          "output_type": "execute_result"
        }
      ],
      "source": [
        "import numpy as np \n",
        "np.random.choice([\"MORENA\", \"RSP\", \"PAN\", \"PSM\", \"PRD\"], p = [0.4, 0.1, 0.1, 0.2, 0.2])"
      ]
    },
    {
      "cell_type": "code",
      "execution_count": null,
      "metadata": {
        "colab": {
          "base_uri": "https://localhost:8080/"
        },
        "id": "sKHqKeIjSITn",
        "outputId": "791b950e-6f65-4b4e-dde1-fa7be8e66738"
      },
      "outputs": [
        {
          "data": {
            "text/plain": [
              "{'MORENA': 2048, 'RSP': 2032, 'PAN': 1944, 'PSM': 1986, 'PRD': 1990}"
            ]
          },
          "execution_count": 47,
          "metadata": {},
          "output_type": "execute_result"
        }
      ],
      "source": [
        "INE = AutoridadElectoral(\"Instituto Nacional Electoral\")\n",
        "## En un diccionario definimos el registro de los partidos\n",
        "registro = {\"MORENA\" : 0, \"RSP\" :0, \"PAN\" : 0, \"PSM\" : 0 , \"PRD\" : 0}\n",
        "\n",
        "INE.registrar_partidos(registro)\n",
        "\n",
        "## Tik 0 : Generamos una lista de electores\n",
        "electores = []\n",
        "\n",
        "for i in range(10_000):\n",
        "  electores.append(Votante(f\"Elector-{i}\", np.random.choice(range(18,99))))\n",
        "\n",
        "## Tik 1 : Registramos a lo electores\n",
        "for elector in electores:\n",
        "  elector.registrarse(INE)\n",
        "\n",
        "## Tik 2 : Los electores votan\n",
        "for elector in electores:\n",
        "  partido = np.random.choice([\"MORENA\", \"RSP\", \"PAN\", \"PSM\", \"PRD\"])\n",
        "  elector.votar(INE, partido)\n",
        "\n",
        "### Observamos los resultados\n",
        "INE.conteo_elecciones"
      ]
    },
    {
      "cell_type": "code",
      "execution_count": null,
      "metadata": {
        "id": "diCvcURRRFdG"
      },
      "outputs": [],
      "source": []
    }
  ],
  "metadata": {
    "colab": {
      "provenance": []
    },
    "kernelspec": {
      "display_name": "Python 3",
      "name": "python3"
    },
    "language_info": {
      "name": "python"
    }
  },
  "nbformat": 4,
  "nbformat_minor": 0
}
