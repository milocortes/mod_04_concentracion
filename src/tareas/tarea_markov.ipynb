{
 "cells": [
  {
   "attachments": {},
   "cell_type": "markdown",
   "metadata": {},
   "source": [
    "# Distribuciones estacionarias\n",
    "\n",
    "<a href=\"https://colab.research.google.com/github/milocortes/mod_04_concentracion/blob/ccm-2023/src/tareas/tarea_markov.ipynb\" target=\"_parent\"><img src=\"https://colab.research.google.com/assets/colab-badge.svg\" alt=\"Open In Colab\"/></a>"
   ]
  },
  {
   "attachments": {},
   "cell_type": "markdown",
   "metadata": {},
   "source": [
    "## Ejercicio 1"
   ]
  },
  {
   "cell_type": "code",
   "execution_count": 1,
   "metadata": {},
   "outputs": [
    {
     "data": {
      "text/plain": [
       "matrix([[0.342, 0.005, 0.001, 0.02 , 0.632],\n",
       "        [0.001, 0.252, 0.107, 0.005, 0.635],\n",
       "        [0.   , 0.043, 0.508, 0.015, 0.434],\n",
       "        [0.001, 0.002, 0.004, 0.665, 0.328],\n",
       "        [0.007, 0.007, 0.007, 0.025, 0.954]])"
      ]
     },
     "execution_count": 1,
     "metadata": {},
     "output_type": "execute_result"
    }
   ],
   "source": [
    "import matplotlib.pyplot as plt\n",
    "import numpy as np \n",
    "\n",
    "T_zhang = np.matrix([ \n",
    "                [0.342, 0.005, 0.001, 0.020, 0.632],\n",
    "                [0.001, 0.252, 0.107, 0.005, 0.635],\n",
    "                [0.000, 0.043, 0.508, 0.015, 0.434],\n",
    "                [0.001, 0.002, 0.004, 0.665, 0.328],\n",
    "                [0.007, 0.007, 0.007, 0.025, 0.954],\n",
    "    ])\n",
    "T_zhang\n"
   ]
  },
  {
   "cell_type": "code",
   "execution_count": 2,
   "metadata": {},
   "outputs": [
    {
     "data": {
      "text/plain": [
       "84"
      ]
     },
     "execution_count": 2,
     "metadata": {},
     "output_type": "execute_result"
    }
   ],
   "source": [
    "tolerancia =  0.2e-15\n",
    "potencia = 2\n",
    "error = 1000\n",
    "\n",
    "while error > tolerancia:\n",
    "    error = abs(T_zhang**(potencia-1) - T_zhang**potencia).sum()\n",
    "    potencia += 1\n",
    "    \n",
    "potencia\n"
   ]
  },
  {
   "cell_type": "code",
   "execution_count": 3,
   "metadata": {},
   "outputs": [
    {
     "data": {
      "text/plain": [
       "matrix([[0.00966142, 0.00952806, 0.01541038, 0.06835286, 0.89704729],\n",
       "        [0.00966142, 0.00952806, 0.01541038, 0.06835286, 0.89704729],\n",
       "        [0.00966142, 0.00952806, 0.01541038, 0.06835286, 0.89704729],\n",
       "        [0.00966142, 0.00952806, 0.01541038, 0.06835286, 0.89704729],\n",
       "        [0.00966142, 0.00952806, 0.01541038, 0.06835286, 0.89704729]])"
      ]
     },
     "execution_count": 3,
     "metadata": {},
     "output_type": "execute_result"
    }
   ],
   "source": [
    "T_zhang**potencia\n"
   ]
  },
  {
   "cell_type": "code",
   "execution_count": 4,
   "metadata": {},
   "outputs": [
    {
     "data": {
      "image/png": "[encoded data removed]",
      "text/plain": [
       "<Figure size 432x288 with 1 Axes>"
      ]
     },
     "metadata": {
      "needs_background": "light"
     },
     "output_type": "display_data"
    }
   ],
   "source": [
    "\n",
    "alcaldias = [\"River\", \"Lake\", \"Pond\", \"Paddy\", \"Non\"]\n",
    "probabilidades = (T_zhang**potencia).round(3)[0,:]\n",
    "\n",
    "# creating the bar plot\n",
    "plt.bar(alcaldias, probabilidades, width = 0.4)\n",
    " \n",
    "plt.xlabel(\"Tipo de Humedal\")\n",
    "plt.ylabel(\"Probabilidad\")\n",
    "plt.title(\"Distribución estacionaria\")\n",
    "plt.xticks(rotation=45, ha='right')\n",
    "\n",
    "plt.show()"
   ]
  },
  {
   "attachments": {},
   "cell_type": "markdown",
   "metadata": {},
   "source": [
    "\n",
    "## Ejercicio 2\n",
    "La siguiente matriz de transición representa la probabilidad de cambio de alcaldía de acuerdo a la encuesta intercensal de 2015.\n",
    "\n",
    "\n",
    "Se construyó identificando los flujos de personas que en 2010 vivían en una alcaldía $i$ y que en 2015 vivían en una alcaldía $j$. "
   ]
  },
  {
   "cell_type": "code",
   "execution_count": 5,
   "metadata": {},
   "outputs": [],
   "source": [
    "\n",
    "T_cdmx = np.matrix([\n",
    "        [0.974, 0.002, 0.0, 0.006, 0.001, 0.002, 0.0, 0.0, 0.001, 0.0, 0.001, 0.001, 0.002, 0.004, 0.004, 0.001],\n",
    "        [0.0, 0.944, 0.001, 0.002, 0.001, 0.01, 0.001, 0.001, 0.004, 0.002, 0.012, 0.004, 0.01, 0.004, 0.002, 0.001],\n",
    "        [0.0, 0.001, 0.984, 0.001, 0.0, 0.0, 0.0, 0.0, 0.004, 0.0, 0.001, 0.0, 0.001, 0.004, 0.004, 0.0],\n",
    "        [0.002, 0.002, 0.0, 0.983, 0.001, 0.001, 0.0, 0.0, 0.001, 0.0, 0.001, 0.0, 0.002, 0.004, 0.001, 0.002],\n",
    "        [0.001, 0.003, 0.0, 0.003, 0.957, 0.015, 0.0, 0.0, 0.002, 0.002, 0.001, 0.0, 0.006, 0.004, 0.002, 0.004],\n",
    "        [0.0, 0.003, 0.0, 0.001, 0.004, 0.977, 0.0, 0.0, 0.001, 0.004, 0.002, 0.001, 0.003, 0.002, 0.001, 0.001],\n",
    "        [0.001, 0.003, 0.0, 0.001, 0.0, 0.004, 0.97, 0.0, 0.007, 0.0, 0.008, 0.001, 0.003, 0.001, 0.001, 0.0],\n",
    "        [0.0, 0.001, 0.0, 0.0, 0.0, 0.001, 0.0, 0.987, 0.001, 0.002, 0.001, 0.004, 0.001, 0.0, 0.001, 0.0],\n",
    "        [0.001, 0.002, 0.002, 0.001, 0.001, 0.002, 0.002, 0.0, 0.972, 0.0, 0.002, 0.0, 0.006, 0.003, 0.003, 0.001],\n",
    "        [0.0, 0.004, 0.0, 0.001, 0.0, 0.009, 0.0, 0.001, 0.001, 0.975, 0.002, 0.003, 0.001, 0.001, 0.0, 0.001],\n",
    "        [0.0, 0.008, 0.0, 0.001, 0.001, 0.002, 0.003, 0.001, 0.003, 0.001, 0.967, 0.003, 0.006, 0.002, 0.002, 0.0],\n",
    "        [0.001, 0.005, 0.0, 0.001, 0.0, 0.002, 0.0, 0.003, 0.001, 0.003, 0.006, 0.973, 0.002, 0.001, 0.001, 0.0],\n",
    "        [0.001, 0.013, 0.001, 0.002, 0.004, 0.008, 0.001, 0.0, 0.01, 0.002, 0.006, 0.001, 0.934, 0.009, 0.007, 0.001],\n",
    "        [0.004, 0.004, 0.0, 0.006, 0.002, 0.004, 0.0, 0.0, 0.002, 0.0, 0.002, 0.0, 0.012, 0.952, 0.006, 0.005],\n",
    "        [0.008, 0.002, 0.003, 0.002, 0.001, 0.001, 0.0, 0.0, 0.005, 0.0, 0.002, 0.001, 0.009, 0.009, 0.955, 0.002],\n",
    "        [0.001, 0.002, 0.0, 0.006, 0.005, 0.005, 0.0, 0.0, 0.001, 0.0, 0.002, 0.0, 0.005, 0.005, 0.001, 0.966]])"
   ]
  },
  {
   "cell_type": "code",
   "execution_count": 6,
   "metadata": {},
   "outputs": [
    {
     "data": {
      "text/plain": [
       "matrix([[0.999],\n",
       "        [0.999],\n",
       "        [1.   ],\n",
       "        [1.   ],\n",
       "        [1.   ],\n",
       "        [1.   ],\n",
       "        [1.   ],\n",
       "        [0.999],\n",
       "        [0.998],\n",
       "        [0.999],\n",
       "        [1.   ],\n",
       "        [0.999],\n",
       "        [1.   ],\n",
       "        [0.999],\n",
       "        [1.   ],\n",
       "        [0.999]])"
      ]
     },
     "execution_count": 6,
     "metadata": {},
     "output_type": "execute_result"
    }
   ],
   "source": [
    "T_cdmx.sum(axis=1)"
   ]
  },
  {
   "cell_type": "code",
   "execution_count": 7,
   "metadata": {},
   "outputs": [
    {
     "data": {
      "text/plain": [
       "matrix([[1.],\n",
       "        [1.],\n",
       "        [1.],\n",
       "        [1.],\n",
       "        [1.],\n",
       "        [1.],\n",
       "        [1.],\n",
       "        [1.],\n",
       "        [1.],\n",
       "        [1.],\n",
       "        [1.],\n",
       "        [1.],\n",
       "        [1.],\n",
       "        [1.],\n",
       "        [1.],\n",
       "        [1.]])"
      ]
     },
     "execution_count": 7,
     "metadata": {},
     "output_type": "execute_result"
    }
   ],
   "source": [
    "T_cdmx = (T_cdmx/T_cdmx.sum(axis=1))\n",
    "T_cdmx.sum(axis=1)"
   ]
  },
  {
   "cell_type": "code",
   "execution_count": 8,
   "metadata": {},
   "outputs": [
    {
     "data": {
      "text/plain": [
       "1820"
      ]
     },
     "execution_count": 8,
     "metadata": {},
     "output_type": "execute_result"
    }
   ],
   "source": [
    "tolerancia =  1e-10\n",
    "potencia = 2\n",
    "error = 1000\n",
    "\n",
    "while error > tolerancia:\n",
    "    error = abs(T_cdmx**(potencia-1) - T_cdmx**potencia).sum()\n",
    "    potencia += 1\n",
    "potencia"
   ]
  },
  {
   "cell_type": "code",
   "execution_count": 9,
   "metadata": {},
   "outputs": [
    {
     "data": {
      "text/plain": [
       "matrix([[0.0485967 , 0.06647062, 0.02947621, 0.11300811, 0.0392935 ,\n",
       "         0.15459376, 0.01915565, 0.027727  , 0.09242334, 0.05149831,\n",
       "         0.08485827, 0.04332722, 0.06834041, 0.07074558, 0.05050824,\n",
       "         0.03997707],\n",
       "        [0.0485967 , 0.06647062, 0.02947621, 0.11300811, 0.0392935 ,\n",
       "         0.15459376, 0.01915565, 0.027727  , 0.09242334, 0.05149831,\n",
       "         0.08485827, 0.04332722, 0.06834041, 0.07074558, 0.05050824,\n",
       "         0.03997707],\n",
       "        [0.0485967 , 0.06647062, 0.02947621, 0.11300811, 0.0392935 ,\n",
       "         0.15459376, 0.01915565, 0.027727  , 0.09242334, 0.05149831,\n",
       "         0.08485827, 0.04332722, 0.06834041, 0.07074558, 0.05050824,\n",
       "         0.03997707],\n",
       "        [0.0485967 , 0.06647062, 0.02947621, 0.11300811, 0.0392935 ,\n",
       "         0.15459376, 0.01915565, 0.027727  , 0.09242334, 0.05149831,\n",
       "         0.08485827, 0.04332722, 0.06834041, 0.07074558, 0.05050824,\n",
       "         0.03997707],\n",
       "        [0.0485967 , 0.06647062, 0.02947621, 0.11300811, 0.0392935 ,\n",
       "         0.15459376, 0.01915565, 0.027727  , 0.09242334, 0.05149831,\n",
       "         0.08485827, 0.04332722, 0.06834041, 0.07074558, 0.05050824,\n",
       "         0.03997707],\n",
       "        [0.0485967 , 0.06647062, 0.02947621, 0.11300811, 0.0392935 ,\n",
       "         0.15459376, 0.01915565, 0.027727  , 0.09242334, 0.05149831,\n",
       "         0.08485827, 0.04332722, 0.06834041, 0.07074558, 0.05050824,\n",
       "         0.03997707],\n",
       "        [0.0485967 , 0.06647062, 0.02947621, 0.11300811, 0.0392935 ,\n",
       "         0.15459376, 0.01915565, 0.027727  , 0.09242334, 0.05149831,\n",
       "         0.08485827, 0.04332722, 0.06834041, 0.07074558, 0.05050824,\n",
       "         0.03997707],\n",
       "        [0.0485967 , 0.06647062, 0.02947621, 0.11300811, 0.0392935 ,\n",
       "         0.15459376, 0.01915565, 0.027727  , 0.09242334, 0.05149831,\n",
       "         0.08485827, 0.04332722, 0.06834041, 0.07074558, 0.05050824,\n",
       "         0.03997707],\n",
       "        [0.0485967 , 0.06647062, 0.02947621, 0.11300811, 0.0392935 ,\n",
       "         0.15459376, 0.01915565, 0.027727  , 0.09242334, 0.05149831,\n",
       "         0.08485827, 0.04332722, 0.06834041, 0.07074558, 0.05050824,\n",
       "         0.03997707],\n",
       "        [0.0485967 , 0.06647062, 0.02947621, 0.11300811, 0.0392935 ,\n",
       "         0.15459376, 0.01915565, 0.027727  , 0.09242334, 0.05149831,\n",
       "         0.08485827, 0.04332722, 0.06834041, 0.07074558, 0.05050824,\n",
       "         0.03997707],\n",
       "        [0.0485967 , 0.06647062, 0.02947621, 0.11300811, 0.0392935 ,\n",
       "         0.15459376, 0.01915565, 0.027727  , 0.09242334, 0.05149831,\n",
       "         0.08485827, 0.04332722, 0.06834041, 0.07074558, 0.05050824,\n",
       "         0.03997707],\n",
       "        [0.0485967 , 0.06647062, 0.02947621, 0.11300811, 0.0392935 ,\n",
       "         0.15459376, 0.01915565, 0.027727  , 0.09242334, 0.05149831,\n",
       "         0.08485827, 0.04332722, 0.06834041, 0.07074558, 0.05050824,\n",
       "         0.03997707],\n",
       "        [0.0485967 , 0.06647062, 0.02947621, 0.11300811, 0.0392935 ,\n",
       "         0.15459376, 0.01915565, 0.027727  , 0.09242334, 0.05149831,\n",
       "         0.08485827, 0.04332722, 0.06834041, 0.07074558, 0.05050824,\n",
       "         0.03997707],\n",
       "        [0.0485967 , 0.06647062, 0.02947621, 0.11300811, 0.0392935 ,\n",
       "         0.15459376, 0.01915565, 0.027727  , 0.09242334, 0.05149831,\n",
       "         0.08485827, 0.04332722, 0.06834041, 0.07074558, 0.05050824,\n",
       "         0.03997707],\n",
       "        [0.0485967 , 0.06647062, 0.02947621, 0.11300811, 0.0392935 ,\n",
       "         0.15459376, 0.01915565, 0.027727  , 0.09242334, 0.05149831,\n",
       "         0.08485827, 0.04332722, 0.06834041, 0.07074558, 0.05050824,\n",
       "         0.03997707],\n",
       "        [0.0485967 , 0.06647062, 0.02947621, 0.11300811, 0.0392935 ,\n",
       "         0.15459376, 0.01915565, 0.027727  , 0.09242334, 0.05149831,\n",
       "         0.08485827, 0.04332722, 0.06834041, 0.07074558, 0.05050824,\n",
       "         0.03997707]])"
      ]
     },
     "execution_count": 9,
     "metadata": {},
     "output_type": "execute_result"
    }
   ],
   "source": [
    "(T_cdmx**potencia)"
   ]
  },
  {
   "cell_type": "code",
   "execution_count": 10,
   "metadata": {},
   "outputs": [
    {
     "data": {
      "image/png": "[encoded data removed]",
      "text/plain": [
       "<Figure size 432x288 with 1 Axes>"
      ]
     },
     "metadata": {
      "needs_background": "light"
     },
     "output_type": "display_data"
    }
   ],
   "source": [
    "\n",
    "alcaldias = [\"Azcapotzalco\", \"Coyoacán\", \"Cuajimalpa de Morelos\", \"Gustavo A. Madero\", \"Iztacalco\", \"Iztapalapa\", \"La Magdalena Contreras\", \"Milpa Alta\", \"Álvaro Obregón\", \"Tláhuac\", \"Tlalpan\", \"Xochimilco\", \"Benito Juárez\" , \"Cuauhtémoc\", \"Miguel Hidalgo\", \"Venustiano Carranza\"]\n",
    "probabilidades = (T_cdmx**potencia).round(3)[0,:]\n",
    "\n",
    "plt.bar(alcaldias, probabilidades, width = 0.4)\n",
    " \n",
    "plt.xlabel(\"Alcadía\")\n",
    "plt.ylabel(\"Probabilidad\")\n",
    "plt.title(\"Distribución estacionaria\")\n",
    "plt.xticks(rotation=45, ha='right')\n",
    "\n",
    "plt.show()"
   ]
  },
  {
   "attachments": {},
   "cell_type": "markdown",
   "metadata": {},
   "source": [
    "## Velocidad de convergencia\n",
    "\n",
    "La velocidad de convergencia al estado estacionario está determinada por la llamada brecha espectral:\n",
    "\n",
    "$$\n",
    "\\begin{equation}\n",
    "    1 - \\lambda_{2nd}\n",
    "\\end{equation}\n",
    "$$\n",
    "\n",
    "Donde $\\lambda_{2nd}$ es el segundo eigenvalor más grande de la matriz de transición.\n",
    "\n",
    "Una cadena de Markov con una brecha espectral grande converge rapidamente a la distribucion estacionaria. \n"
   ]
  },
  {
   "cell_type": "code",
   "execution_count": 11,
   "metadata": {},
   "outputs": [
    {
     "name": "stderr",
     "output_type": "stream",
     "text": [
      "/home/milo/anaconda3/lib/python3.7/site-packages/scipy/sparse/linalg/eigen/arpack/arpack.py:1268: RuntimeWarning: k >= N - 1 for N * N square matrix. Attempting to use scipy.linalg.eig instead.\n",
      "  RuntimeWarning)\n",
      "/home/milo/anaconda3/lib/python3.7/site-packages/ipykernel_launcher.py:6: ComplexWarning: Casting complex values to real discards the imaginary part\n",
      "  \n"
     ]
    },
    {
     "data": {
      "text/plain": [
       "0.6653456414036962"
      ]
     },
     "execution_count": 11,
     "metadata": {},
     "output_type": "execute_result"
    }
   ],
   "source": [
    "from scipy.sparse.linalg import eigs\n",
    "\n",
    "\n",
    "values, vectors = eigs(T_zhang)\n",
    "\n",
    "float(values[0]) - float(values[1])"
   ]
  },
  {
   "cell_type": "code",
   "execution_count": 12,
   "metadata": {},
   "outputs": [
    {
     "name": "stderr",
     "output_type": "stream",
     "text": [
      "/home/milo/anaconda3/lib/python3.7/site-packages/ipykernel_launcher.py:3: ComplexWarning: Casting complex values to real discards the imaginary part\n",
      "  This is separate from the ipykernel package so we can avoid doing imports until\n"
     ]
    },
    {
     "data": {
      "text/plain": [
       "0.011048989847292412"
      ]
     },
     "execution_count": 12,
     "metadata": {},
     "output_type": "execute_result"
    }
   ],
   "source": [
    "values, vectors = eigs(T_cdmx)\n",
    "\n",
    "float(values[0]) - float(values[1])"
   ]
  },
  {
   "cell_type": "code",
   "execution_count": null,
   "metadata": {},
   "outputs": [],
   "source": []
  }
 ],
 "metadata": {
  "kernelspec": {
   "display_name": "Python 3",
   "language": "python",
   "name": "python3"
  },
  "language_info": {
   "codemirror_mode": {
    "name": "ipython",
    "version": 3
   },
   "file_extension": ".py",
   "mimetype": "text/x-python",
   "name": "python",
   "nbconvert_exporter": "python",
   "pygments_lexer": "ipython3",
   "version": "3.7.6"
  }
 },
 "nbformat": 4,
 "nbformat_minor": 4
}
